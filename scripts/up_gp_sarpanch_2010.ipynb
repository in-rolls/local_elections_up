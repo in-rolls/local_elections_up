{
 "cells": [
  {
   "cell_type": "markdown",
   "id": "25235d7c",
   "metadata": {},
   "source": [
    "### UP 2010 Clean up"
   ]
  },
  {
   "cell_type": "code",
   "execution_count": 1,
   "id": "bd2e1f30",
   "metadata": {},
   "outputs": [],
   "source": [
    "import pandas as pd\n",
    "import numpy as np\n",
    "import re"
   ]
  },
  {
   "cell_type": "code",
   "execution_count": 2,
   "id": "ce16414d",
   "metadata": {},
   "outputs": [
    {
     "data": {
      "text/html": [
       "<div>\n",
       "<style scoped>\n",
       "    .dataframe tbody tr th:only-of-type {\n",
       "        vertical-align: middle;\n",
       "    }\n",
       "\n",
       "    .dataframe tbody tr th {\n",
       "        vertical-align: top;\n",
       "    }\n",
       "\n",
       "    .dataframe thead th {\n",
       "        text-align: right;\n",
       "    }\n",
       "</style>\n",
       "<table border=\"1\" class=\"dataframe\">\n",
       "  <thead>\n",
       "    <tr style=\"text-align: right;\">\n",
       "      <th></th>\n",
       "      <th>original_filename</th>\n",
       "      <th>page</th>\n",
       "      <th>order</th>\n",
       "      <th>district_name</th>\n",
       "      <th>sr_no</th>\n",
       "      <th>gp_code</th>\n",
       "      <th>block_code</th>\n",
       "      <th>block_name</th>\n",
       "      <th>sr_gp_combo</th>\n",
       "      <th>gp_name</th>\n",
       "      <th>gp_reservation_status</th>\n",
       "      <th>elected_sarpanch_name</th>\n",
       "      <th>husband_spouse_name</th>\n",
       "      <th>candidate_res_status</th>\n",
       "      <th>age</th>\n",
       "      <th>sex</th>\n",
       "      <th>education</th>\n",
       "      <th>address</th>\n",
       "    </tr>\n",
       "  </thead>\n",
       "  <tbody>\n",
       "    <tr>\n",
       "      <th>0</th>\n",
       "      <td>gpp_1901.pdf</td>\n",
       "      <td>20</td>\n",
       "      <td>55362</td>\n",
       "      <td>संत रविदास नगर</td>\n",
       "      <td>475</td>\n",
       "      <td>40</td>\n",
       "      <td>6</td>\n",
       "      <td>अभोली</td>\n",
       "      <td>गंगारामपुर</td>\n",
       "      <td>NaN</td>\n",
       "      <td>अनुसूचित जाति - महिला</td>\n",
       "      <td>बेबी</td>\n",
       "      <td>सुनील</td>\n",
       "      <td>अनुसूचित जाति महिला -</td>\n",
       "      <td>NaN</td>\n",
       "      <td>30 महिला</td>\n",
       "      <td>साक्षर</td>\n",
       "      <td>गंगारामपुर , गौरा</td>\n",
       "    </tr>\n",
       "    <tr>\n",
       "      <th>1</th>\n",
       "      <td>gpp_1901.pdf</td>\n",
       "      <td>14</td>\n",
       "      <td>55211</td>\n",
       "      <td>संत रविदास नगर</td>\n",
       "      <td>338</td>\n",
       "      <td>NaN</td>\n",
       "      <td>5</td>\n",
       "      <td>भदोही</td>\n",
       "      <td>338 6 सरबतखानी</td>\n",
       "      <td>NaN</td>\n",
       "      <td>अनुसूचित जाति - महिला</td>\n",
       "      <td>संतरादेवी</td>\n",
       "      <td>सुनीलकुमार</td>\n",
       "      <td>अनुसूचित जाति - महिला</td>\n",
       "      <td>NaN</td>\n",
       "      <td>35 महिला</td>\n",
       "      <td>साक्षर</td>\n",
       "      <td>सरबतखानी</td>\n",
       "    </tr>\n",
       "    <tr>\n",
       "      <th>2</th>\n",
       "      <td>gpp_1901.pdf</td>\n",
       "      <td>14</td>\n",
       "      <td>55219</td>\n",
       "      <td>संत रविदास नगर</td>\n",
       "      <td>346</td>\n",
       "      <td>NaN</td>\n",
       "      <td>5</td>\n",
       "      <td>भदोही</td>\n",
       "      <td>346 14 डोमनपुर गिरिया</td>\n",
       "      <td>NaN</td>\n",
       "      <td>अनुसूचित जाति - महिला</td>\n",
       "      <td>सुरसत्तीदेवी</td>\n",
       "      <td>भोलानाथ</td>\n",
       "      <td>अनुसूचित जाति महिला -</td>\n",
       "      <td>NaN</td>\n",
       "      <td>38 महिला</td>\n",
       "      <td>साक्षर</td>\n",
       "      <td>डोमनपुर गिरिया</td>\n",
       "    </tr>\n",
       "    <tr>\n",
       "      <th>3</th>\n",
       "      <td>gpp_1901.pdf</td>\n",
       "      <td>14</td>\n",
       "      <td>55215</td>\n",
       "      <td>संत रविदास नगर</td>\n",
       "      <td>342</td>\n",
       "      <td>NaN</td>\n",
       "      <td>5</td>\n",
       "      <td>भदोही</td>\n",
       "      <td>342 10 दरीबपुर</td>\n",
       "      <td>NaN</td>\n",
       "      <td>अनुसूचित जाति महिला</td>\n",
       "      <td>शान्ती</td>\n",
       "      <td>मोहनलाल</td>\n",
       "      <td>अनुसूचित जाति महिला -</td>\n",
       "      <td>NaN</td>\n",
       "      <td>45 महिला</td>\n",
       "      <td>साक्षर</td>\n",
       "      <td>दरीबपुर</td>\n",
       "    </tr>\n",
       "    <tr>\n",
       "      <th>4</th>\n",
       "      <td>gpp_1901.pdf</td>\n",
       "      <td>19</td>\n",
       "      <td>55359</td>\n",
       "      <td>संत रविदास नगर</td>\n",
       "      <td>474</td>\n",
       "      <td>39</td>\n",
       "      <td>6</td>\n",
       "      <td>अभोली</td>\n",
       "      <td>सराय होला</td>\n",
       "      <td>NaN</td>\n",
       "      <td>अनुसूचित जाति महिला</td>\n",
       "      <td>धर्मादेवी</td>\n",
       "      <td>बंशीधर</td>\n",
       "      <td>अनुसूचित जाति महिला -</td>\n",
       "      <td>NaN</td>\n",
       "      <td>48 महिला साक्षर</td>\n",
       "      <td>NaN</td>\n",
       "      <td>सरायहोला , अभोली</td>\n",
       "    </tr>\n",
       "  </tbody>\n",
       "</table>\n",
       "</div>"
      ],
      "text/plain": [
       "  original_filename  page  order   district_name  sr_no gp_code  block_code  \\\n",
       "0      gpp_1901.pdf    20  55362  संत रविदास नगर    475      40           6   \n",
       "1      gpp_1901.pdf    14  55211  संत रविदास नगर    338     NaN           5   \n",
       "2      gpp_1901.pdf    14  55219  संत रविदास नगर    346     NaN           5   \n",
       "3      gpp_1901.pdf    14  55215  संत रविदास नगर    342     NaN           5   \n",
       "4      gpp_1901.pdf    19  55359  संत रविदास नगर    474      39           6   \n",
       "\n",
       "  block_name            sr_gp_combo gp_name  gp_reservation_status  \\\n",
       "0      अभोली             गंगारामपुर     NaN  अनुसूचित जाति - महिला   \n",
       "1      भदोही         338 6 सरबतखानी     NaN  अनुसूचित जाति - महिला   \n",
       "2      भदोही  346 14 डोमनपुर गिरिया     NaN  अनुसूचित जाति - महिला   \n",
       "3      भदोही         342 10 दरीबपुर     NaN    अनुसूचित जाति महिला   \n",
       "4      अभोली              सराय होला     NaN    अनुसूचित जाति महिला   \n",
       "\n",
       "  elected_sarpanch_name husband_spouse_name   candidate_res_status  age  \\\n",
       "0                  बेबी               सुनील  अनुसूचित जाति महिला -  NaN   \n",
       "1             संतरादेवी          सुनीलकुमार  अनुसूचित जाति - महिला  NaN   \n",
       "2          सुरसत्तीदेवी             भोलानाथ  अनुसूचित जाति महिला -  NaN   \n",
       "3                शान्ती             मोहनलाल  अनुसूचित जाति महिला -  NaN   \n",
       "4             धर्मादेवी              बंशीधर  अनुसूचित जाति महिला -  NaN   \n",
       "\n",
       "               sex education            address  \n",
       "0         30 महिला    साक्षर  गंगारामपुर , गौरा  \n",
       "1         35 महिला    साक्षर           सरबतखानी  \n",
       "2         38 महिला    साक्षर     डोमनपुर गिरिया  \n",
       "3         45 महिला    साक्षर            दरीबपुर  \n",
       "4  48 महिला साक्षर       NaN   सरायहोला , अभोली  "
      ]
     },
     "execution_count": 2,
     "metadata": {},
     "output_type": "execute_result"
    }
   ],
   "source": [
    "up_2010 = pd.read_csv(\"up_gp_sarpanch_2010.csv\", low_memory = False)\n",
    "up_2010.head()"
   ]
  },
  {
   "cell_type": "markdown",
   "id": "f546d7a8",
   "metadata": {},
   "source": [
    "### Let's get GP Name sorted"
   ]
  },
  {
   "cell_type": "code",
   "execution_count": 3,
   "id": "a29eabda",
   "metadata": {},
   "outputs": [],
   "source": [
    "up_2010['gp_name_temp'] = up_2010['sr_gp_combo'].str.strip().str.replace('[0-9\\[\\]]', '', regex=True)"
   ]
  },
  {
   "cell_type": "code",
   "execution_count": 4,
   "id": "535640e7",
   "metadata": {},
   "outputs": [
    {
     "data": {
      "text/plain": [
       "              159\n",
       "रामपुर         52\n",
       "रसूलपुर        50\n",
       "गोपालपुर       49\n",
       "रामनगर         42\n",
       "रायपुर         41\n",
       "शाहपुर         41\n",
       "सलेमपुर        39\n",
       "सिकन्दरपुर     36\n",
       "गौरा           36\n",
       "जगदीशपुर       36\n",
       "भगवानपुर       35\n",
       "जलालपुर        35\n",
       "नरायनपुर       34\n",
       "दौलतपुर        31\n",
       "बहादुरपुर      31\n",
       "कल्यानपुर      31\n",
       "बरौली          30\n",
       "सुल्तानपुर     29\n",
       "खानपुर         28\n",
       "Name: gp_name, dtype: int64"
      ]
     },
     "execution_count": 4,
     "metadata": {},
     "output_type": "execute_result"
    }
   ],
   "source": [
    "### Normalize GP Name\n",
    "\n",
    "up_2010['gp_name'] = up_2010['gp_name'].str.strip()\\\n",
    "                        .str.replace(r'^(\\s?-\\s?|\\s?--\\s?)|(\\s-|\\s--|\\s---)$', '', regex=True)\\\n",
    "                        .str.replace(r'\\s{2,}', ' ', regex=True)\\\n",
    "                        .str.strip()\n",
    "\n",
    "# Let's take out reservation status from GP Name\n",
    "gp_res_status = [\n",
    "    'अनारक्षित',\n",
    "    'महिला',\n",
    "    'अनुसूचित जाति - महिला',\n",
    "    'पिछड़ी जाति - महिला',\n",
    "    'पिछड़ी जाति',\n",
    "    'अनुसूचित जाति',\n",
    "    'पिछड़ी जाति महिला -',\n",
    "    'अनुसूचित जाति महिला -'\n",
    "    'महिला'\n",
    "    'अनुसूचित जाति महिला -',\n",
    "    'पिछड़ी जाति महिला',\n",
    "    'अनुसूचित जाति महिला',\n",
    "    'पिछड़ी जाति महिला -'\n",
    "    'अनुसूचित जाति महिला -',\n",
    "    'पिछड़ी जाति महिला --',\n",
    "    'अनुसूचित जाति महिला - '\n",
    "]\n",
    "up_2010['gp_res_status_temp'] = np.where(up_2010['gp_name'].str.strip().isin(gp_res_status), up_2010['gp_name'], '')\n",
    "up_2010['gp_name'] = np.where(~up_2010['gp_name'].isin(gp_res_status), up_2010['gp_name'], '')\n",
    "up_2010['gp_name'].value_counts()[:20]"
   ]
  },
  {
   "cell_type": "code",
   "execution_count": 5,
   "id": "1e2bf247",
   "metadata": {},
   "outputs": [
    {
     "data": {
      "text/plain": [
       "0                    गंगारामपुर\n",
       "1                      सरबतखानी\n",
       "2                डोमनपुर गिरिया\n",
       "3                       दरीबपुर\n",
       "4                     सराय होला\n",
       "                  ...          \n",
       "51856       देउरी अनुसूचित जाति\n",
       "51857       धमौरा अनुसूचित जाति\n",
       "51858    निखोरिया अनुसूचित जाति\n",
       "51859             वनकटा द्वितीय\n",
       "51860            बंजरहा बुजुर्ग\n",
       "Name: gp_name_fin, Length: 51861, dtype: object"
      ]
     },
     "execution_count": 5,
     "metadata": {},
     "output_type": "execute_result"
    }
   ],
   "source": [
    "up_2010['gp_name_fin'] = up_2010.apply(lambda x: x['gp_name_temp'] if x['gp_name_temp'] != '' \n",
    "                            else x['gp_name'], axis=1)\n",
    "up_2010['gp_name_fin']"
   ]
  },
  {
   "cell_type": "code",
   "execution_count": 6,
   "id": "fb4c3b97",
   "metadata": {},
   "outputs": [
    {
     "data": {
      "text/plain": [
       "अनारक्षित                17907\n",
       "पिछड़ी जाति               9467\n",
       "महिला                     8231\n",
       "अनुसूचित जाति             7155\n",
       "पिछड़ी जाति - महिला       2445\n",
       "अनुसूचित जाति - महिला     2104\n",
       "पिछड़ी जाति महिला -       1380\n",
       "अनुसूचित जाति महिला -     1339\n",
       "पिछड़ी जाति महिला          585\n",
       "अनुसूचित जाति महिला        348\n",
       "पिछड़ी जाति महिला -         187\n",
       "पिछड़ी जाति महिला --       111\n",
       "पिछडी जाति                  64\n",
       "पिछडी जाति महिला -          56\n",
       "पिछडी जाति - महिला          53\n",
       "पिछड़ी जाति महिला            37\n",
       "- पिछड़ी जाति महिला         29\n",
       "- अनुसूचित जाति महिला       20\n",
       "अनुसूचित जन जाति            17\n",
       "पिछड़ी जाति महिला ---       15\n",
       "Name: gp_reservation_status, dtype: int64"
      ]
     },
     "execution_count": 6,
     "metadata": {},
     "output_type": "execute_result"
    }
   ],
   "source": [
    "up_2010['gp_reservation_status'].value_counts()[:20]"
   ]
  },
  {
   "cell_type": "code",
   "execution_count": 7,
   "id": "0b123f8f",
   "metadata": {},
   "outputs": [
    {
     "data": {
      "text/plain": [
       "अनारक्षित                   17906\n",
       "पिछड़ी जाति                  9467\n",
       "महिला                        8390\n",
       "अनुसूचित जाति                7155\n",
       "पिछड़ी जाति - महिला          2445\n",
       "अनुसूचित जाति - महिला        2104\n",
       "पिछड़ी जाति महिला -          1380\n",
       "अनुसूचित जाति महिला -        1339\n",
       "पिछड़ी जाति महिला             585\n",
       "अनुसूचित जाति महिला           348\n",
       "पिछड़ी जाति महिला -            187\n",
       "पिछड़ी जाति महिला --          111\n",
       "पिछडी जाति                     64\n",
       "पिछडी जाति महिला -             56\n",
       "पिछडी जाति - महिला             53\n",
       "पिछड़ी जाति महिला               37\n",
       "- पिछड़ी जाति महिला            29\n",
       "- अनुसूचित जाति महिला          20\n",
       "अनुसूचित जन जाति               17\n",
       "पिछड़ी जाति महिला ---          15\n",
       "अनुसूचित जाति महिला --         11\n",
       "अनुसूचित जन जाति - महिला        8\n",
       "पिछड़ी जाति - महिला              7\n",
       "पिछडी जाति महिला                6\n",
       "Name: gp_res_status_fin, dtype: int64"
      ]
     },
     "execution_count": 7,
     "metadata": {},
     "output_type": "execute_result"
    }
   ],
   "source": [
    "up_2010['gp_res_status_fin'] = up_2010.apply(lambda x: x['gp_res_status_temp'] if x['gp_res_status_temp'] != '' \n",
    "                            else x['gp_reservation_status'], axis=1)\n",
    "up_2010['gp_res_status_fin'].value_counts()[:24]"
   ]
  },
  {
   "cell_type": "code",
   "execution_count": 8,
   "id": "a72c3303",
   "metadata": {},
   "outputs": [
    {
     "data": {
      "text/plain": [
       "अनारक्षित                   17907\n",
       "पिछड़ी जाति                  9468\n",
       "महिला                        8390\n",
       "अनुसूचित जाति                7155\n",
       "पिछड़ी जाति - महिला          2448\n",
       "पिछड़ी जाति महिला            2120\n",
       "अनुसूचित जाति - महिला        2104\n",
       "अनुसूचित जाति महिला          1719\n",
       "पिछड़ी जाति महिला              227\n",
       "पिछडी जाति                     64\n",
       "पिछडी जाति महिला               63\n",
       "पिछडी जाति - महिला             53\n",
       "अनुसूचित जन जाति               17\n",
       "अनुसूचित जन जाति - महिला        8\n",
       "पिछड़ी जाति - महिला              7\n",
       "अनुसूचित जन जाति महिला          4\n",
       "महिला अनारक्षित                 2\n",
       "पिछड़ी जाति अनारक्षित           2\n",
       "अनुसूचित जनजाति महिला           2\n",
       "-- पिछड़ी जाति महिला            2\n",
       "Name: gp_res_status_fin, dtype: int64"
      ]
     },
     "execution_count": 8,
     "metadata": {},
     "output_type": "execute_result"
    }
   ],
   "source": [
    "# Normalize\n",
    "up_2010['gp_res_status_fin'] = (up_2010['gp_res_status_fin']\n",
    "                 .str.strip()  # Step 1: Trim leading and trailing spaces   \n",
    "                 .str.replace(r'^(\\s?-\\s?|\\s?--\\s?)|(\\s-|\\s--|\\s---)$', '', regex=True)  # Step 2: Remove specific patterns at the start/end\n",
    "                 .str.strip()  # Step 1: Trim leading and trailing spaces\n",
    "                 .str.replace(r'\\s{2,}', ' ', regex=True).str.strip())  # Step 3: Replace multiple spaces with a single space\n",
    "up_2010['gp_res_status_fin'].value_counts()[:20]"
   ]
  },
  {
   "cell_type": "code",
   "execution_count": 9,
   "id": "6934f9d9",
   "metadata": {},
   "outputs": [
    {
     "data": {
      "text/plain": [
       "['अनारक्षित',\n",
       " 'पिछड़ी जाति',\n",
       " 'महिला',\n",
       " 'अनुसूचित जाति',\n",
       " 'पिछड़ी जाति - महिला',\n",
       " 'पिछड़ी जाति महिला',\n",
       " 'अनुसूचित जाति - महिला',\n",
       " 'अनुसूचित जाति महिला',\n",
       " 'पिछड़ी जाति महिला',\n",
       " 'पिछडी जाति',\n",
       " 'पिछडी जाति महिला',\n",
       " 'पिछडी जाति - महिला',\n",
       " 'अनुसूचित जन जाति',\n",
       " 'अनुसूचित जन जाति - महिला',\n",
       " 'पिछड़ी जाति - महिला',\n",
       " 'अनुसूचित जन जाति महिला',\n",
       " 'महिला अनारक्षित',\n",
       " 'पिछड़ी जाति अनारक्षित',\n",
       " 'अनुसूचित जनजाति महिला',\n",
       " '-- पिछड़ी जाति महिला']"
      ]
     },
     "execution_count": 9,
     "metadata": {},
     "output_type": "execute_result"
    }
   ],
   "source": [
    "up_2010['gp_res_status_fin'].value_counts()[:20].index.to_list()"
   ]
  },
  {
   "cell_type": "code",
   "execution_count": 10,
   "id": "78ce9df6",
   "metadata": {},
   "outputs": [
    {
     "data": {
      "text/plain": [
       "अनारक्षित                   17907\n",
       "पिछड़ी जाति                  9468\n",
       "महिला                        8390\n",
       "अनुसूचित जाति                7155\n",
       "पिछड़ी जाति - महिला          2448\n",
       "पिछड़ी जाति महिला            2120\n",
       "अनुसूचित जाति - महिला        2104\n",
       "अनुसूचित जाति महिला          1719\n",
       "पिछड़ी जाति महिला              227\n",
       "                               99\n",
       "पिछडी जाति                     64\n",
       "पिछडी जाति महिला               63\n",
       "पिछडी जाति - महिला             53\n",
       "अनुसूचित जन जाति               17\n",
       "अनुसूचित जन जाति - महिला        8\n",
       "पिछड़ी जाति - महिला              7\n",
       "अनुसूचित जन जाति महिला          4\n",
       "पिछड़ी जाति अनारक्षित           2\n",
       "अनुसूचित जनजाति महिला           2\n",
       "महिला अनारक्षित                 2\n",
       "Name: gp_res_status_fin, dtype: int64"
      ]
     },
     "execution_count": 10,
     "metadata": {},
     "output_type": "execute_result"
    }
   ],
   "source": [
    "# Define the list of substrings to check for\n",
    "valid_categories = up_2010['gp_res_status_fin'].value_counts()[:20].index.to_list()\n",
    "\n",
    "up_2010['gp_res_status_fin'] = np.where(up_2010['gp_res_status_fin'].isin(valid_categories), up_2010['gp_res_status_fin'], '')\n",
    "up_2010['gp_res_status_fin'].value_counts()[:20]"
   ]
  },
  {
   "cell_type": "code",
   "execution_count": 11,
   "id": "194a0e42",
   "metadata": {},
   "outputs": [],
   "source": [
    "def process_info(info):\n",
    "    if not isinstance(info, str):\n",
    "        return \"\", \"\", None  # Handle non-string data directly\n",
    "\n",
    "    # Initialize default values for gender and age\n",
    "    gender = \"\"\n",
    "    age = None\n",
    "\n",
    "    keywords = {'महिला': 'woman', 'पुरुष': 'man'}\n",
    "    age_pattern = re.compile(r'\\b\\d+\\b')  # Matches whole numbers\n",
    "\n",
    "    # Extract age from the string (assuming the first number found is the age)\n",
    "    found_age = age_pattern.findall(info)\n",
    "    if found_age:\n",
    "        age = int(found_age[0])  # Convert the first found age to integer\n",
    "        info = age_pattern.sub(\"\", info).strip()  # Remove the age from the string\n",
    "\n",
    "    # Check for and process keywords\n",
    "    for keyword, eng_gender in keywords.items():\n",
    "        if keyword in info:\n",
    "            gender = keyword #eng_gender\n",
    "            info = info.replace(keyword, '').strip()  # Strip keyword and any extra spaces\n",
    "\n",
    "    return info, gender, age"
   ]
  },
  {
   "cell_type": "markdown",
   "id": "776aacdf",
   "metadata": {},
   "source": [
    "### Split Cols on the Right"
   ]
  },
  {
   "cell_type": "code",
   "execution_count": 12,
   "id": "6b4a835d",
   "metadata": {},
   "outputs": [
    {
     "data": {
      "text/plain": [
       "पिछड़ी जाति                        21703\n",
       "अनारक्षित                          10035\n",
       "अनुसूचित जाति                       9958\n",
       "पिछड़ी जाति -                       3420\n",
       "                                    2687\n",
       "अनुसूचित जाति  -                    1273\n",
       "अनुसूचित जाति -                      939\n",
       "पिछड़ी जाति  -                       741\n",
       "पिछडी जाति                           340\n",
       "- अनुसूचित जाति                      241\n",
       "अनुसूचित जा                          142\n",
       "अनुसूचित जन जाति                      60\n",
       "पिछड़ी जाति                            59\n",
       "पिछड़ी जाति  -                         57\n",
       "- पिछड़ी जाति                         56\n",
       "अनुसूचित जात                          40\n",
       "अनुसूचित जाति  --                     18\n",
       "अनुसूचित जाि                          17\n",
       "अनुसूचित जन जाति -                    14\n",
       "- पिछड़ी जाति                           9\n",
       "पिछड़ी जाति\\nअनारक्षित                 3\n",
       "-- अनुसूचित जाति                       3\n",
       "पिछड़ी जाति\\nपिछड़ी जाति               2\n",
       "पिछड़ी जाति\\nअनुसूचित जाति             2\n",
       "अनुसूचित जाति\\nपिछड़ी जाति             2\n",
       "अनारक्षित\\nपिछड़ी जाति                 2\n",
       "पिछड़ी जाति -                           2\n",
       "पिछड़ी जाति \\nपिछड़ी जाति              2\n",
       "अनुसूचित जाति\\nअनारक्षित               2\n",
       "पिछड़ी जाति  --                        2\n",
       "मुन्नीलाल अनुसूचित जाति                1\n",
       "राजकुमार अनारक्षित                     1\n",
       "सुरेश अनुसूचित जाति  -                 1\n",
       "मो  सिद्दीक अनारक्षित                  1\n",
       "समुझ पिछड़ी जाति                       1\n",
       "र                                      1\n",
       "हुकूमदार अनारक्षित                     1\n",
       "रि अनारक्षित                           1\n",
       "अनारक्षित\\nअनारक्षित                   1\n",
       "विन्ध्याचल पिछड़ी जाति -               1\n",
       "सिंह पिछड़ी जाति                       1\n",
       "विस्मिल्लाह अनारक्षित                  1\n",
       "रामशंकर अनारक्षित                      1\n",
       "पिछड़ी जाति -  \\nपिछड़ी जाति           1\n",
       "-- पिछड़ी जाति                         1\n",
       "अनुसूचित जनजाति                        1\n",
       "पिछड़ी जाति\\nजाति                      1\n",
       "पिछडी जाति  -                          1\n",
       "पिछड़ी \\nजाति                          1\n",
       "अनुसूचित \\nअनुसूचित जाति               1\n",
       "अनुसूचित जाति \\nअनारक्षित              1\n",
       "पाण्डेय अनारक्षित \\nपिछड़ी जाति        1\n",
       "पिछड़ी जाति -  \\nअनुसूचित जाति         1\n",
       "पिछड़ी जाति -  \\nअनारक्षित             1\n",
       "कुमार अनारक्षित                        1\n",
       "अनुसूचित                               1\n",
       "अनुसूचित जन जाति  -                    1\n",
       "पिछड़ी जाति \\nअनारक्षित                1\n",
       "अनुसूचित जाति \\nपिछड़ी जाति            1\n",
       "अनुसूचित\\nपिछड़ी जाति                  1\n",
       "Name: candidate_res_status_fin, dtype: int64"
      ]
     },
     "execution_count": 12,
     "metadata": {},
     "output_type": "execute_result"
    }
   ],
   "source": [
    "up_2010['candidate_res_status_fin'], up_2010['cand_sex_t'], up_2010['age_t'] = zip(*up_2010['candidate_res_status'].apply(process_info))\n",
    "up_2010['candidate_res_status_fin'].value_counts()"
   ]
  },
  {
   "cell_type": "code",
   "execution_count": 13,
   "id": "f5ab87e1",
   "metadata": {},
   "outputs": [
    {
     "data": {
      "text/plain": [
       "         37096\n",
       "पुरुष     8494\n",
       "महिला     6271\n",
       "Name: cand_sex_t2, dtype: int64"
      ]
     },
     "execution_count": 13,
     "metadata": {},
     "output_type": "execute_result"
    }
   ],
   "source": [
    "up_2010['educ_t2'], up_2010['cand_sex_t2'], up_2010['age_t2'] = zip(*up_2010['sex'].apply(process_info))\n",
    "up_2010['cand_sex_t2'].value_counts()"
   ]
  },
  {
   "cell_type": "code",
   "execution_count": 14,
   "id": "521eb2ad",
   "metadata": {},
   "outputs": [
    {
     "data": {
      "text/plain": [
       "पुरुष    21693\n",
       "महिला    15346\n",
       "         14822\n",
       "Name: cand_sex_t3, dtype: int64"
      ]
     },
     "execution_count": 14,
     "metadata": {},
     "output_type": "execute_result"
    }
   ],
   "source": [
    "up_2010['educ_t3'], up_2010['cand_sex_t3'], up_2010['age_t3'] = zip(*up_2010['age'].apply(process_info))\n",
    "up_2010['cand_sex_t3'].value_counts()"
   ]
  },
  {
   "cell_type": "code",
   "execution_count": 15,
   "id": "c373a650",
   "metadata": {},
   "outputs": [
    {
     "data": {
      "text/plain": [
       "                                     20813\n",
       "साक्षर                                6456\n",
       "जूनियर हाई स्कूल                      5206\n",
       "इण्टर                                 4849\n",
       "हाई स्कूल                             4546\n",
       "प्राईमरी                              3684\n",
       "स्नातक                                3459\n",
       "निरक्षर                               1624\n",
       "परास्नातक                             1206\n",
       "इण्टर \\nप्राईमरी                         2\n",
       "जूनियर हाई स्कूल जूनियर हाई स्कूल        2\n",
       "जूनियर हाई स्कूल \\nहाई स्कूल             2\n",
       "मटेहॅू                                   1\n",
       "हाई स्कूल ग्राम\\n                        1\n",
       "साक्षर जूनियर हाई स्कूल                  1\n",
       "साक्षर \\nहाई स्कूल                       1\n",
       "परास्नातक \\nहाई स्कूल                    1\n",
       "जूनियर हाई स्कूल \\nप्राईमरी              1\n",
       "जूनियर हाई स्कूल \\nसाक्षर                1\n",
       "प्राईमरी \\nजूनियर हाई स्कूल              1\n",
       "परास्नातक                                1\n",
       "इण्टर \\nजूनियर हाई स्कूल                 1\n",
       "हाई स्कूल \\nसाक्षर                       1\n",
       "हाई स्कूल                                1\n",
       "Name: educ_t4, dtype: int64"
      ]
     },
     "execution_count": 15,
     "metadata": {},
     "output_type": "execute_result"
    }
   ],
   "source": [
    "up_2010['educ_t4'], up_2010['cand_sex_t4'], up_2010['age_t4'] = zip(*up_2010['education'].apply(process_info))\n",
    "up_2010['educ_t4'].value_counts()"
   ]
  },
  {
   "cell_type": "markdown",
   "id": "e5998a37",
   "metadata": {},
   "source": [
    "### Finalize"
   ]
  },
  {
   "cell_type": "code",
   "execution_count": 16,
   "id": "8a5d65ef",
   "metadata": {},
   "outputs": [
    {
     "data": {
      "text/plain": [
       "पुरुष    30187\n",
       "महिला    21616\n",
       "            58\n",
       "Name: cand_sex_fin, dtype: int64"
      ]
     },
     "execution_count": 16,
     "metadata": {},
     "output_type": "execute_result"
    }
   ],
   "source": [
    "# Candidate Sex Final\n",
    "up_2010['cand_sex_fin'] = up_2010.apply(lambda x: x['cand_sex_t2'] if x['cand_sex_t3'] == '' else x['cand_sex_t3'], axis=1)\n",
    "up_2010['cand_sex_fin'].value_counts()"
   ]
  },
  {
   "cell_type": "code",
   "execution_count": 17,
   "id": "ed0d4d2b",
   "metadata": {},
   "outputs": [
    {
     "data": {
      "text/plain": [
       "191"
      ]
     },
     "execution_count": 17,
     "metadata": {},
     "output_type": "execute_result"
    }
   ],
   "source": [
    "# Candidate Age Final\n",
    "up_2010['age_fin'] = up_2010.apply(lambda x: x['age_t2'] if x['age_t3'] == '' else x['age_t3'], axis=1)\n",
    "up_2010['age_fin'].isna().sum()"
   ]
  },
  {
   "cell_type": "code",
   "execution_count": 18,
   "id": "4bc6cae2",
   "metadata": {},
   "outputs": [
    {
     "data": {
      "text/plain": [
       "count    51670.000000\n",
       "mean        41.193652\n",
       "std         10.048477\n",
       "min          3.000000\n",
       "25%         35.000000\n",
       "50%         40.000000\n",
       "75%         48.000000\n",
       "max        340.000000\n",
       "Name: age_fin, dtype: float64"
      ]
     },
     "execution_count": 18,
     "metadata": {},
     "output_type": "execute_result"
    }
   ],
   "source": [
    "up_2010['age_fin'].describe()"
   ]
  },
  {
   "cell_type": "code",
   "execution_count": 19,
   "id": "24015613",
   "metadata": {},
   "outputs": [
    {
     "data": {
      "text/plain": [
       "                                           31326\n",
       "साक्षर                                      6994\n",
       "हाई स्कूल                                   3118\n",
       "प्राईमरी                                    3016\n",
       "स्नातक                                      2107\n",
       "इण्टर                                       2098\n",
       "जूनियर हाई स्कूल                            1336\n",
       "निरक्षर                                     1164\n",
       "परास्नातक                                    665\n",
       "जूनियर हाई                                     3\n",
       "निरक्षर\\nप्राईमरी                              3\n",
       "प्राईमरी\\nनिरक्षर                              2\n",
       "जूनियर हाई स्कूल जूनियर हाई स्कूल              2\n",
       "स्नातक\\n  इण्टर                                2\n",
       "जूनियर हाई स्कूल\\n  स्नातक                     1\n",
       "साक्षर\\n निरक्षर                               1\n",
       "निरक्षर\\nनिरक्षर                               1\n",
       "प्राईमरी ग्राम                                 1\n",
       "प्राईमरी\\n  निरक्षर                            1\n",
       "साक्षर\\nइण्टर                                  1\n",
       "निरक्षर\\nसाक्षर                                1\n",
       "निरक्षर\\nहाई स्कूल                             1\n",
       "जूनियर                                         1\n",
       "परास्नातक\\n  जूनियर हाई स्कूल                  1\n",
       "साक्षर\\nसाक्षर                                 1\n",
       "रहाई स्कूल                                     1\n",
       "परास्नातक\\n प्राईमरी                           1\n",
       "प्राईमरी\\n  जूनियर हाई स्कूल                   1\n",
       "इण्टर ग्राम                                    1\n",
       "अनुसूचित जाति -                                1\n",
       "इण्टर\\n  जूनियर हाई स्कूल                      1\n",
       "साक्षर\\n  निरक्षर                              1\n",
       "इण्टर\\n  साक्षर                                1\n",
       "जूनियर हाई स्कूल\\n  हाई स्कूल\\n  साक्षर        1\n",
       "साक्षर\\n साक्षर                                1\n",
       "स्नातक\\n साक्षर                                1\n",
       "स्नातक\\nनिरक्षर                                1\n",
       "पिछड़ी जाति                                    1\n",
       "परास्नातक  \\n  स्नातक                          1\n",
       "Name: educ_t3, dtype: int64"
      ]
     },
     "execution_count": 19,
     "metadata": {},
     "output_type": "execute_result"
    }
   ],
   "source": [
    "up_2010['educ_t3'].value_counts()"
   ]
  },
  {
   "cell_type": "code",
   "execution_count": 20,
   "id": "03cc3d20",
   "metadata": {},
   "outputs": [
    {
     "data": {
      "text/plain": [
       "साक्षर                                     13453\n",
       "हाई स्कूल                                   7668\n",
       "इण्टर                                       6951\n",
       "प्राईमरी                                    6748\n",
       "जूनियर हाई स्कूल                            6545\n",
       "स्नातक                                      5570\n",
       "निरक्षर                                     2789\n",
       "परास्नातक                                   1871\n",
       "                                             211\n",
       "जूनियर हाई स्कूल जूनियर हाई स्कूल              4\n",
       "निरक्षर\\nप्राईमरी                              3\n",
       "जूनियर हाई                                     3\n",
       "प्राईमरी\\nनिरक्षर                              2\n",
       "स्नातक\\n  इण्टर                                2\n",
       "प्राईमरी\\n  जूनियर हाई स्कूल                   2\n",
       "जूनियर हाई स्कूल \\nहाई स्कूल                   2\n",
       "इण्टर \\nप्राईमरी                               2\n",
       "प्राईमरी ग्राम                                 1\n",
       "प्राईमरी\\n  निरक्षर                            1\n",
       "हाई स्कूल ग्राम\\n                              1\n",
       "साक्षर\\n निरक्षर                               1\n",
       "मटेहॅू                                         1\n",
       "साक्षर\\nइण्टर                                  1\n",
       "जूनियर हाई स्कूल\\n  स्नातक                     1\n",
       "निरक्षर\\nसाक्षर                                1\n",
       "साक्षर\\nसाक्षर                                 1\n",
       "निरक्षर\\nनिरक्षर                               1\n",
       "निरक्षर\\nहाई स्कूल                             1\n",
       "परास्नातक\\n प्राईमरी                           1\n",
       "हाई स्कूल                                      1\n",
       "परास्नातक\\n  जूनियर हाई स्कूल                  1\n",
       "इण्टर ग्राम                                    1\n",
       "जूनियर हाई स्कूल\\n  हाई स्कूल\\n  साक्षर        1\n",
       "रहाई स्कूल                                     1\n",
       "जूनियर                                         1\n",
       "हाई स्कूल \\nसाक्षर                             1\n",
       "इण्टर \\nजूनियर हाई स्कूल                       1\n",
       "परास्नातक                                      1\n",
       "परास्नातक \\nहाई स्कूल                          1\n",
       "प्राईमरी \\nजूनियर हाई स्कूल                    1\n",
       "जूनियर हाई स्कूल \\nसाक्षर                      1\n",
       "जूनियर हाई स्कूल \\nप्राईमरी                    1\n",
       "साक्षर \\nहाई स्कूल                             1\n",
       "इण्टर\\n  जूनियर हाई स्कूल                      1\n",
       "पिछड़ी जाति                                    1\n",
       "साक्षर जूनियर हाई स्कूल                        1\n",
       "स्नातक\\nनिरक्षर                                1\n",
       "स्नातक\\n साक्षर                                1\n",
       "साक्षर\\n साक्षर                                1\n",
       "इण्टर\\n  साक्षर                                1\n",
       "साक्षर\\n  निरक्षर                              1\n",
       "परास्नातक  \\n  स्नातक                          1\n",
       "Name: educ_fin, dtype: int64"
      ]
     },
     "execution_count": 20,
     "metadata": {},
     "output_type": "execute_result"
    }
   ],
   "source": [
    "# Candidate Education\n",
    "up_2010['educ_fin'] = up_2010.apply(lambda x: x['educ_t2'] if x['educ_t3'] == '' else x['educ_t3'], axis=1)\n",
    "up_2010['educ_fin'] = up_2010.apply(lambda x: x['educ_fin'] if x['educ_t4'] == '' else x['educ_t4'], axis=1)\n",
    "up_2010['educ_fin'].value_counts()"
   ]
  },
  {
   "cell_type": "code",
   "execution_count": 21,
   "id": "73b98a80",
   "metadata": {},
   "outputs": [
    {
     "data": {
      "text/plain": [
       "Index(['original_filename', 'page', 'order', 'district_name', 'sr_no',\n",
       "       'gp_code', 'block_code', 'block_name', 'sr_gp_combo', 'gp_name',\n",
       "       'gp_reservation_status', 'elected_sarpanch_name', 'husband_spouse_name',\n",
       "       'candidate_res_status', 'age', 'sex', 'education', 'address',\n",
       "       'gp_name_temp', 'gp_res_status_temp', 'gp_name_fin',\n",
       "       'gp_res_status_fin', 'candidate_res_status_fin', 'cand_sex_t', 'age_t',\n",
       "       'educ_t2', 'cand_sex_t2', 'age_t2', 'educ_t3', 'cand_sex_t3', 'age_t3',\n",
       "       'educ_t4', 'cand_sex_t4', 'age_t4', 'cand_sex_fin', 'age_fin',\n",
       "       'educ_fin'],\n",
       "      dtype='object')"
      ]
     },
     "execution_count": 21,
     "metadata": {},
     "output_type": "execute_result"
    }
   ],
   "source": [
    "up_2010.columns"
   ]
  },
  {
   "cell_type": "code",
   "execution_count": 22,
   "id": "898b5fd0",
   "metadata": {},
   "outputs": [
    {
     "data": {
      "text/plain": [
       "Index(['original_filename', 'page', 'order', 'district_name', 'sr_no',\n",
       "       'gp_code', 'block_code', 'block_name', 'sr_gp_combo', 'gp_name',\n",
       "       'gp_reservation_status', 'elected_sarpanch_name', 'husband_spouse_name',\n",
       "       'candidate_res_status', 'age', 'sex', 'education', 'address',\n",
       "       'gp_name_fin', 'gp_res_status_fin', 'candidate_res_status_fin',\n",
       "       'cand_sex_fin', 'age_fin', 'educ_fin'],\n",
       "      dtype='object')"
      ]
     },
     "execution_count": 22,
     "metadata": {},
     "output_type": "execute_result"
    }
   ],
   "source": [
    "up_2010.drop(columns =['gp_name_temp', 'gp_res_status_temp', \n",
    "              'cand_sex_t', 'age_t', \n",
    "              'educ_t2', 'cand_sex_t2', 'age_t2', \n",
    "              'cand_sex_t3', 'age_t3', 'educ_t3',\n",
    "              'cand_sex_t4', 'age_t4', 'educ_t4'], inplace = True)\n",
    "up_2010.columns"
   ]
  },
  {
   "cell_type": "code",
   "execution_count": 23,
   "id": "80f57b0c",
   "metadata": {},
   "outputs": [],
   "source": [
    "up_2010.to_csv(\"up_gp_sarpanch_2010_fixed.csv\", index = False)"
   ]
  },
  {
   "cell_type": "code",
   "execution_count": null,
   "id": "2dd050f5",
   "metadata": {},
   "outputs": [],
   "source": []
  }
 ],
 "metadata": {
  "kernelspec": {
   "display_name": "Python 3 (ipykernel)",
   "language": "python",
   "name": "python3"
  },
  "language_info": {
   "codemirror_mode": {
    "name": "ipython",
    "version": 3
   },
   "file_extension": ".py",
   "mimetype": "text/x-python",
   "name": "python",
   "nbconvert_exporter": "python",
   "pygments_lexer": "ipython3",
   "version": "3.9.13"
  }
 },
 "nbformat": 4,
 "nbformat_minor": 5
}
