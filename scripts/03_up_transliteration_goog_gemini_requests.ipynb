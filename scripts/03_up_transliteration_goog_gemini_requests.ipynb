{
 "cells": [
  {
   "cell_type": "code",
   "execution_count": 1,
   "metadata": {
    "id": "lV25rOnwDWKm"
   },
   "outputs": [
    {
     "name": "stdout",
     "output_type": "stream",
     "text": [
      "Requirement already satisfied: pip in /Users/soodoku/opt/anaconda3/lib/python3.9/site-packages (24.0)\r\n"
     ]
    }
   ],
   "source": [
    "!pip install --upgrade pip\n",
    "!pip install -q -U google-generativeai"
   ]
  },
  {
   "cell_type": "code",
   "execution_count": 2,
   "metadata": {
    "id": "xsRKQlrTDmqH"
   },
   "outputs": [],
   "source": [
    "import pandas as pd\n",
    "import getpass\n",
    "import json\n",
    "import os\n",
    "import csv\n",
    "import time\n",
    "import requests\n",
    "\n",
    "# import google.generativeai as genai"
   ]
  },
  {
   "cell_type": "code",
   "execution_count": 3,
   "metadata": {
    "colab": {
     "base_uri": "https://localhost:8080/"
    },
    "id": "XrsVosh_FOxa",
    "outputId": "40796798-d826-4630-8f2e-7e5d5c452b43"
   },
   "outputs": [
    {
     "name": "stdout",
     "output_type": "stream",
     "text": [
      "Gemini API key: ········\n"
     ]
    }
   ],
   "source": [
    "gemini_api_key = getpass.getpass(\"Gemini API key: \")"
   ]
  },
  {
   "cell_type": "code",
   "execution_count": 4,
   "metadata": {
    "colab": {
     "base_uri": "https://localhost:8080/"
    },
    "id": "npmYI3FKNq6I",
    "outputId": "423ccc09-86eb-45ba-8893-d9e72accffe3"
   },
   "outputs": [
    {
     "name": "stdout",
     "output_type": "stream",
     "text": [
      "[Errno 2] No such file or directory: '/content/drive/MyDrive/Colab/instate/'\n",
      "/Users/soodoku/Documents/GitHub/local_elections_up/scripts\n"
     ]
    }
   ],
   "source": [
    "%cd /content/drive/MyDrive/Colab/instate/"
   ]
  },
  {
   "cell_type": "code",
   "execution_count": 5,
   "metadata": {
    "id": "lwdeDBu5O-pg"
   },
   "outputs": [],
   "source": [
    "df = pd.read_csv('../data/up_gp_sarpanch_2010_transliterate_prep.csv')"
   ]
  },
  {
   "cell_type": "code",
   "execution_count": 6,
   "metadata": {
    "colab": {
     "base_uri": "https://localhost:8080/",
     "height": 206
    },
    "id": "TsjKL-4gPPTs",
    "outputId": "f6c24aed-a19c-4e73-ed02-7fae2f35b22a"
   },
   "outputs": [
    {
     "data": {
      "text/html": [
       "<div>\n",
       "<style scoped>\n",
       "    .dataframe tbody tr th:only-of-type {\n",
       "        vertical-align: middle;\n",
       "    }\n",
       "\n",
       "    .dataframe tbody tr th {\n",
       "        vertical-align: top;\n",
       "    }\n",
       "\n",
       "    .dataframe thead th {\n",
       "        text-align: right;\n",
       "    }\n",
       "</style>\n",
       "<table border=\"1\" class=\"dataframe\">\n",
       "  <thead>\n",
       "    <tr style=\"text-align: right;\">\n",
       "      <th></th>\n",
       "      <th>order</th>\n",
       "      <th>Attribute</th>\n",
       "      <th>Value</th>\n",
       "    </tr>\n",
       "  </thead>\n",
       "  <tbody>\n",
       "    <tr>\n",
       "      <th>0</th>\n",
       "      <td>55362</td>\n",
       "      <td>district_name</td>\n",
       "      <td>संत रविदास नगर</td>\n",
       "    </tr>\n",
       "    <tr>\n",
       "      <th>1</th>\n",
       "      <td>55370</td>\n",
       "      <td>district_name</td>\n",
       "      <td>मिर्जापुर</td>\n",
       "    </tr>\n",
       "    <tr>\n",
       "      <th>2</th>\n",
       "      <td>11606</td>\n",
       "      <td>district_name</td>\n",
       "      <td>अलीगढ़</td>\n",
       "    </tr>\n",
       "    <tr>\n",
       "      <th>3</th>\n",
       "      <td>5297</td>\n",
       "      <td>district_name</td>\n",
       "      <td>ज्योतिबा फूले नगर</td>\n",
       "    </tr>\n",
       "    <tr>\n",
       "      <th>4</th>\n",
       "      <td>49659</td>\n",
       "      <td>district_name</td>\n",
       "      <td>मऊ</td>\n",
       "    </tr>\n",
       "  </tbody>\n",
       "</table>\n",
       "</div>"
      ],
      "text/plain": [
       "   order      Attribute              Value\n",
       "0  55362  district_name     संत रविदास नगर\n",
       "1  55370  district_name          मिर्जापुर\n",
       "2  11606  district_name            अलीगढ़ \n",
       "3   5297  district_name  ज्योतिबा फूले नगर\n",
       "4  49659  district_name                 मऊ"
      ]
     },
     "execution_count": 6,
     "metadata": {},
     "output_type": "execute_result"
    }
   ],
   "source": [
    "df.head()"
   ]
  },
  {
   "cell_type": "code",
   "execution_count": 7,
   "metadata": {
    "id": "YlKehdWiTeuD"
   },
   "outputs": [],
   "source": [
    "unique_names = df['Value'].to_list()"
   ]
  },
  {
   "cell_type": "code",
   "execution_count": 8,
   "metadata": {
    "id": "H3RMLdsDFcvi"
   },
   "outputs": [],
   "source": [
    "safety_settings = [\n",
    "  {\n",
    "    \"category\": \"HARM_CATEGORY_SEXUALLY_EXPLICIT\",\n",
    "    \"threshold\": \"BLOCK_NONE\"\n",
    "  },\n",
    "  {\n",
    "    \"category\": \"HARM_CATEGORY_HATE_SPEECH\",\n",
    "    \"threshold\": \"BLOCK_NONE\"\n",
    "  },\n",
    "  {\n",
    "    \"category\": \"HARM_CATEGORY_HARASSMENT\",\n",
    "    \"threshold\": \"BLOCK_NONE\"\n",
    "  },\n",
    "  {\n",
    "    \"category\": \"HARM_CATEGORY_DANGEROUS_CONTENT\",\n",
    "    \"threshold\": \"BLOCK_NONE\"\n",
    "  }\n",
    "]\n"
   ]
  },
  {
   "cell_type": "code",
   "execution_count": 9,
   "metadata": {},
   "outputs": [],
   "source": [
    "import requests\n",
    "import json\n",
    "\n",
    "API_KEY = gemini_api_key  # Replace with your actual API key\n",
    "model_name = \"gemini-pro\"\n",
    "#url = f\"https://generativelanguage.googleapis.com/v1beta/models/{model_name}:generateContent\"\n",
    "url = f\"https://generativelanguage.googleapis.com/v1/models/{model_name}:generateContent\"\n",
    "\n",
    "headers = {\n",
    "    \"Content-Type\": \"application/json\",\n",
    "    \"x-goog-api-key\": API_KEY\n",
    "}\n",
    "\n",
    "\n",
    "prompt = \"\"\"\n",
    "Transliterate the given text to English. Do not translate.\n",
    "For instance, रानी is not queen but rani.\n",
    "Respond in json format - {\"key\": \"value\"} where value is the transliterated text of key.\n",
    "Example:\n",
    "input:  'चंचला', 'रानी', 'दास', 'विकास'\n",
    "output:  {'चंचला': 'Chanchala', 'रानी': 'Rani', 'दास': 'Das','विकास': 'Vikas'}\n",
    "\n",
    "\"\"\""
   ]
  },
  {
   "cell_type": "code",
   "execution_count": 10,
   "metadata": {
    "colab": {
     "base_uri": "https://localhost:8080/"
    },
    "id": "sGPPcHwFTzyj",
    "outputId": "5b4844d1-786d-49d6-ee1d-f2024bc55af8"
   },
   "outputs": [
    {
     "name": "stdout",
     "output_type": "stream",
     "text": [
      "{\n",
      "  \"candidates\": [\n",
      "    {\n",
      "      \"content\": {\n",
      "        \"parts\": [\n",
      "          {\n",
      "            \"text\": \"{\\n  \\\"चंचला\\\": \\\"Chanchala\\\",\\n  \\\"रानी\\\": \\\"Rani\\\",\\n  \\\"दास\\\": \\\"Das\\\",\\n  \\\"विकास\\\": \\\"Vikas\\\"\\n}\"\n",
      "          }\n",
      "        ],\n",
      "        \"role\": \"model\"\n",
      "      },\n",
      "      \"finishReason\": \"STOP\",\n",
      "      \"index\": 0,\n",
      "      \"safetyRatings\": [\n",
      "        {\n",
      "          \"category\": \"HARM_CATEGORY_SEXUALLY_EXPLICIT\",\n",
      "          \"probability\": \"NEGLIGIBLE\"\n",
      "        },\n",
      "        {\n",
      "          \"category\": \"HARM_CATEGORY_HATE_SPEECH\",\n",
      "          \"probability\": \"NEGLIGIBLE\"\n",
      "        },\n",
      "        {\n",
      "          \"category\": \"HARM_CATEGORY_HARASSMENT\",\n",
      "          \"probability\": \"NEGLIGIBLE\"\n",
      "        },\n",
      "        {\n",
      "          \"category\": \"HARM_CATEGORY_DANGEROUS_CONTENT\",\n",
      "          \"probability\": \"NEGLIGIBLE\"\n",
      "        }\n",
      "      ]\n",
      "    }\n",
      "  ],\n",
      "  \"usageMetadata\": {\n",
      "    \"promptTokenCount\": 111,\n",
      "    \"candidatesTokenCount\": 44,\n",
      "    \"totalTokenCount\": 155\n",
      "  }\n",
      "}\n",
      "\n"
     ]
    }
   ],
   "source": [
    "data = {\n",
    "    \"contents\": [{\n",
    "        \"parts\":[\n",
    "            {\"text\": prompt}\n",
    "        ]\n",
    "    }]\n",
    "}\n",
    "\n",
    "response = requests.post(url, headers=headers, data=json.dumps(data))\n",
    "\n",
    "if response.status_code == 200:\n",
    "    print(response.text)\n",
    "else:\n",
    "    print(\"Request failed:\", response.status_code, response.text)"
   ]
  },
  {
   "cell_type": "code",
   "execution_count": 11,
   "metadata": {
    "id": "0XxFfvd2Yn_S"
   },
   "outputs": [],
   "source": [
    "def generate(prompt, debug=False):\n",
    "    data = {\n",
    "      \"contents\": [{\n",
    "          \"parts\":[\n",
    "              {\"text\": prompt}\n",
    "          ]\n",
    "      }]\n",
    "    }\n",
    "\n",
    "    response = requests.post(url, headers=headers, data=json.dumps(data))\n",
    "\n",
    "    if response.status_code == 200:\n",
    "        if debug:\n",
    "          print(response.text)\n",
    "        res = json.loads(response.text)\n",
    "        return res['candidates'][0]['content']['parts'][0]['text']\n",
    "    else:\n",
    "        return None"
   ]
  },
  {
   "cell_type": "code",
   "execution_count": 12,
   "metadata": {
    "id": "DO13rkXeV_vd"
   },
   "outputs": [],
   "source": [
    "res = json.loads(response.text)"
   ]
  },
  {
   "cell_type": "code",
   "execution_count": 13,
   "metadata": {
    "colab": {
     "base_uri": "https://localhost:8080/",
     "height": 161
    },
    "id": "nJFtb5h7X6Eo",
    "outputId": "79be8836-eb41-4c00-8560-ae03602aa1c9"
   },
   "outputs": [],
   "source": [
    "#res['candidates'][0]['content']['parts'][0]['text']"
   ]
  },
  {
   "cell_type": "code",
   "execution_count": null,
   "metadata": {
    "colab": {
     "base_uri": "https://localhost:8080/"
    },
    "id": "YKQRtGiYF5V3",
    "outputId": "3a50d705-3d99-4bd5-a6a8-a16ee0767708"
   },
   "outputs": [
    {
     "name": "stdout",
     "output_type": "stream",
     "text": [
      "till now processed: 5148\n",
      "Unterminated string starting at: line 1 column 2 (char 1)\n",
      "'content'\n",
      "'content'\n",
      "done processing 5000\n",
      "'content'\n",
      "'content'\n",
      "done processing 10000\n",
      "'content'\n",
      "Expecting value: line 1 column 1 (char 0)\n",
      "done processing 15000\n",
      "Expecting value: line 1 column 1265 (char 1264)\n",
      "Expecting ',' delimiter: line 1 column 1261 (char 1260)\n",
      "done processing 20000\n",
      "'content'\n",
      "'content'\n",
      "'content'\n",
      "'content'\n"
     ]
    }
   ],
   "source": [
    "translated_file = \"../data/up_gp_sarpanch_2010_transliterate_out.csv\"\n",
    "\n",
    "# Function to divide names into chunks\n",
    "def chunks(lst, n):\n",
    "    for i in range(0, len(lst), n):\n",
    "        yield lst[i:i + n]\n",
    "\n",
    "\n",
    "# Function to get already processed names\n",
    "def get_processed_names(file):\n",
    "    if os.path.exists(file):\n",
    "        with open(file, 'r') as f:\n",
    "            reader = csv.DictReader(f)\n",
    "            return {row['Name'] for row in reader}\n",
    "    else:\n",
    "        return set()\n",
    "\n",
    "# Get already processed names\n",
    "processed_names = get_processed_names(translated_file)\n",
    "print(f\"till now processed: {len(processed_names)}\")\n",
    "\n",
    "prompt = \"\"\"\n",
    "Transliterate the given text to English. Do not translate.\n",
    "For instance, रानी is not queen but rani.\n",
    "Respond in json format - {\"key\": \"value\"} where value is the transliterated text of key.\n",
    "Example:\n",
    "input:  'चंचला', 'रानी', 'दास', 'विकास'\n",
    "output:  {'चंचला': 'Chanchala', 'रानी': 'Rani', 'दास': 'Das','विकास': 'Vikas'}\n",
    "\n",
    "\"\"\"\n",
    "\n",
    "with open(translated_file, 'a', newline='') as csvfile:\n",
    "    fieldnames = ['Name', 'Transliterated']\n",
    "    writer = csv.DictWriter(csvfile, fieldnames=fieldnames)\n",
    "\n",
    "    # If file is empty write the header\n",
    "    if csvfile.tell() == 0:\n",
    "        writer.writeheader()\n",
    "\n",
    "    c = 0\n",
    "    # Iterate over names in chunks\n",
    "    main_chunk = []\n",
    "    for chunk in chunks(list(unique_names), 50):\n",
    "        if c!=0 and c%100 == 0:\n",
    "            print(f\"done processing {c * 50}\")\n",
    "        c = c + 1\n",
    "\n",
    "        # Skip names that have been processed\n",
    "        chunk = [name for name in chunk if name not in processed_names]\n",
    "        if not chunk:\n",
    "            continue\n",
    "\n",
    "        # Append the chunk to the main chunk\n",
    "        main_chunk.extend(chunk)\n",
    "\n",
    "        while True:\n",
    "            try:\n",
    "                # Make the API call\n",
    "                # print(prompt + ', '.join(chunk))\n",
    "                chat_response = generate(\n",
    "                    prompt + ', '.join(main_chunk))\n",
    "            except Exception as e:\n",
    "                print(e)\n",
    "                time.sleep(2)  # Sleep for a minute and then retry\n",
    "                continue\n",
    "\n",
    "            break  # If no errors, break the loop\n",
    "\n",
    "        try:\n",
    "          if chat_response:\n",
    "            results = json.loads(chat_response)\n",
    "            for name in results:\n",
    "                writer.writerow({'Name': name, 'Transliterated': results[name]})\n",
    "            csvfile.flush()  # Ensure data is written after each batch\n",
    "        except Exception as e:\n",
    "          print(e)\n",
    "        time.sleep(1)  # Sleep for second\n",
    "        main_chunk = []"
   ]
  },
  {
   "cell_type": "code",
   "execution_count": null,
   "metadata": {
    "id": "SXdk1N2Uc_Tc"
   },
   "outputs": [],
   "source": [
    "datetime(2024, 5, 2)"
   ]
  },
  {
   "cell_type": "code",
   "execution_count": null,
   "metadata": {},
   "outputs": [],
   "source": []
  }
 ],
 "metadata": {
  "colab": {
   "provenance": []
  },
  "kernelspec": {
   "display_name": "Python 3 (ipykernel)",
   "language": "python",
   "name": "python3"
  },
  "language_info": {
   "codemirror_mode": {
    "name": "ipython",
    "version": 3
   },
   "file_extension": ".py",
   "mimetype": "text/x-python",
   "name": "python",
   "nbconvert_exporter": "python",
   "pygments_lexer": "ipython3",
   "version": "3.9.13"
  }
 },
 "nbformat": 4,
 "nbformat_minor": 1
}
