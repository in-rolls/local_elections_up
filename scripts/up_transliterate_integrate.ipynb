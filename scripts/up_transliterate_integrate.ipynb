{
 "cells": [
  {
   "cell_type": "code",
   "execution_count": 1,
   "id": "6b6b33b3",
   "metadata": {},
   "outputs": [],
   "source": [
    "import pandas as pd"
   ]
  },
  {
   "cell_type": "code",
   "execution_count": 2,
   "id": "f6db3b34",
   "metadata": {},
   "outputs": [],
   "source": [
    "up_2010 = pd.read_csv(\"../data/up_gp_sarpanch_2010_fixed.csv\", low_memory = False)"
   ]
  },
  {
   "cell_type": "code",
   "execution_count": null,
   "id": "e257a10d",
   "metadata": {},
   "outputs": [],
   "source": [
    "# Load transliterations\n",
    "up_2010_trans = pd.read_csv(\"../data/up_gp_sarpanch_2010_transliterate_out.csv\", low_memory = False)\n",
    "up_2005_trans = pd.read_csv(\"../data/up_gp_sarpanch_2010_transliterate_out.csv\", low_memory = False)"
   ]
  },
  {
   "cell_type": "code",
   "execution_count": 3,
   "id": "1e149a17",
   "metadata": {},
   "outputs": [
    {
     "data": {
      "text/plain": [
       "(51861, 26)"
      ]
     },
     "execution_count": 3,
     "metadata": {},
     "output_type": "execute_result"
    }
   ],
   "source": [
    "up_2010.shape"
   ]
  },
  {
   "cell_type": "code",
   "execution_count": 4,
   "id": "b3ed84bb",
   "metadata": {},
   "outputs": [
    {
     "data": {
      "text/html": [
       "<div>\n",
       "<style scoped>\n",
       "    .dataframe tbody tr th:only-of-type {\n",
       "        vertical-align: middle;\n",
       "    }\n",
       "\n",
       "    .dataframe tbody tr th {\n",
       "        vertical-align: top;\n",
       "    }\n",
       "\n",
       "    .dataframe thead th {\n",
       "        text-align: right;\n",
       "    }\n",
       "</style>\n",
       "<table border=\"1\" class=\"dataframe\">\n",
       "  <thead>\n",
       "    <tr style=\"text-align: right;\">\n",
       "      <th></th>\n",
       "      <th>Name</th>\n",
       "      <th>Transliterated</th>\n",
       "    </tr>\n",
       "  </thead>\n",
       "  <tbody>\n",
       "    <tr>\n",
       "      <th>0</th>\n",
       "      <td>संत रविदास नगर</td>\n",
       "      <td>Sant Ravidas Nagar</td>\n",
       "    </tr>\n",
       "    <tr>\n",
       "      <th>1</th>\n",
       "      <td>मिर्जापुर</td>\n",
       "      <td>Mirzapur</td>\n",
       "    </tr>\n",
       "    <tr>\n",
       "      <th>2</th>\n",
       "      <td>अलीगढ़</td>\n",
       "      <td>Aligarh</td>\n",
       "    </tr>\n",
       "    <tr>\n",
       "      <th>3</th>\n",
       "      <td>ज्योतिबा फूले नगर</td>\n",
       "      <td>Jyotiba Phule Nagar</td>\n",
       "    </tr>\n",
       "    <tr>\n",
       "      <th>4</th>\n",
       "      <td>मऊ</td>\n",
       "      <td>Mau</td>\n",
       "    </tr>\n",
       "  </tbody>\n",
       "</table>\n",
       "</div>"
      ],
      "text/plain": [
       "                Name       Transliterated\n",
       "0     संत रविदास नगर   Sant Ravidas Nagar\n",
       "1          मिर्जापुर             Mirzapur\n",
       "2            अलीगढ़              Aligarh \n",
       "3  ज्योतिबा फूले नगर  Jyotiba Phule Nagar\n",
       "4                 मऊ                  Mau"
      ]
     },
     "execution_count": 4,
     "metadata": {},
     "output_type": "execute_result"
    }
   ],
   "source": [
    "up_2010_trans.head()"
   ]
  },
  {
   "cell_type": "code",
   "execution_count": 5,
   "id": "a126d836",
   "metadata": {},
   "outputs": [],
   "source": [
    "# Let's convert to dict\n",
    "mapping_dict = up_2010_trans.set_index('Name')['Transliterated'].to_dict()"
   ]
  },
  {
   "cell_type": "code",
   "execution_count": 7,
   "id": "25b219ca",
   "metadata": {},
   "outputs": [],
   "source": [
    "up_2010['gp_name_eng'] = up_2010['gp_name_fin'].map(mapping_dict).str.strip()"
   ]
  },
  {
   "cell_type": "code",
   "execution_count": 8,
   "id": "6485334a",
   "metadata": {},
   "outputs": [
    {
     "data": {
      "text/plain": [
       "32           Saudhauli Kadim\n",
       "34          Ambaihata Shekha\n",
       "62             71 Dhikkakala\n",
       "65       Buddhakheda Pundeer\n",
       "90             Khedi Quraish\n",
       "                ...         \n",
       "51848           Asadpur Ghed\n",
       "51853           23 Babhnauli\n",
       "51855           Behtha Gokul\n",
       "51856          Khudia bujurg\n",
       "51860          Sirsiya Pawar\n",
       "Name: gp_name_eng, Length: 3972, dtype: object"
      ]
     },
     "execution_count": 8,
     "metadata": {},
     "output_type": "execute_result"
    }
   ],
   "source": [
    "up_2010['gp_name_eng'][up_2010['gp_name_eng'].apply(lambda x: isinstance(x, str) and not x.isalnum())]"
   ]
  },
  {
   "cell_type": "code",
   "execution_count": 9,
   "id": "8ccf3392",
   "metadata": {},
   "outputs": [
    {
     "data": {
      "text/plain": [
       "10445"
      ]
     },
     "execution_count": 9,
     "metadata": {},
     "output_type": "execute_result"
    }
   ],
   "source": [
    "up_2010['gp_name_eng'].notna().sum()"
   ]
  },
  {
   "cell_type": "code",
   "execution_count": 13,
   "id": "ec86c0d8",
   "metadata": {},
   "outputs": [
    {
     "data": {
      "text/plain": [
       "27871"
      ]
     },
     "execution_count": 13,
     "metadata": {},
     "output_type": "execute_result"
    }
   ],
   "source": [
    "up_2010['elected_sarpanch_name_eng'] = up_2010['elected_sarpanch_name'].map(mapping_dict).str.strip()\n",
    "up_2010['elected_sarpanch_name_eng'].notna().sum()"
   ]
  },
  {
   "cell_type": "code",
   "execution_count": 15,
   "id": "a8d39c7b",
   "metadata": {},
   "outputs": [
    {
     "data": {
      "text/plain": [
       "23501"
      ]
     },
     "execution_count": 15,
     "metadata": {},
     "output_type": "execute_result"
    }
   ],
   "source": [
    "up_2010['husband_spouse_name_eng'] = up_2010['husband_spouse_name'].map(mapping_dict).str.strip()\n",
    "up_2010['husband_spouse_name_eng'].notna().sum()"
   ]
  },
  {
   "cell_type": "code",
   "execution_count": 16,
   "id": "5183393e",
   "metadata": {},
   "outputs": [],
   "source": [
    "up_2010.to_csv(\"../data/up_gp_sarpanch_2010_fixed_with_transliteration.csv\", index = False)"
   ]
  },
  {
   "cell_type": "code",
   "execution_count": null,
   "id": "1fb6835d",
   "metadata": {},
   "outputs": [],
   "source": []
  }
 ],
 "metadata": {
  "kernelspec": {
   "display_name": "Python 3 (ipykernel)",
   "language": "python",
   "name": "python3"
  },
  "language_info": {
   "codemirror_mode": {
    "name": "ipython",
    "version": 3
   },
   "file_extension": ".py",
   "mimetype": "text/x-python",
   "name": "python",
   "nbconvert_exporter": "python",
   "pygments_lexer": "ipython3",
   "version": "3.9.13"
  }
 },
 "nbformat": 4,
 "nbformat_minor": 5
}
