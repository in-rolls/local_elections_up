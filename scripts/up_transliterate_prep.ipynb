{
 "cells": [
  {
   "cell_type": "code",
   "execution_count": 1,
   "id": "f60579b8",
   "metadata": {},
   "outputs": [],
   "source": [
    "import pandas as pd\n",
    "import numpy as np"
   ]
  },
  {
   "cell_type": "code",
   "execution_count": 3,
   "id": "7e008a70",
   "metadata": {},
   "outputs": [
    {
     "data": {
      "text/plain": [
       "Index(['order', 'page', 'क्रम  संख्या', 'ग्राम पंचायत  का कोड',\n",
       "       'ग्राम पंचायत  का नाम', 'पद की आरक्षण श्रेणी',\n",
       "       'निर्वाचित ग्राम प्रधान  का नाम', 'लिंग', 'उम्मीदवार की  आरक्षण श्रेणी',\n",
       "       'जिले का कोड', 'जिले का नाम', 'विकास खण्ड का कोड', 'विकास खण्ड का नाम'],\n",
       "      dtype='object')"
      ]
     },
     "execution_count": 3,
     "metadata": {},
     "output_type": "execute_result"
    }
   ],
   "source": [
    "up = pd.read_csv(\"../data/up_gp_sarpanch_2005.csv\")\n",
    "up.columns"
   ]
  },
  {
   "cell_type": "code",
   "execution_count": 17,
   "id": "b7a081c6",
   "metadata": {},
   "outputs": [
    {
     "data": {
      "text/plain": [
       "(71190, 3)"
      ]
     },
     "execution_count": 17,
     "metadata": {},
     "output_type": "execute_result"
    }
   ],
   "source": [
    "selected_df = up_local[['क्रम  संख्या', 'जिले का नाम', 'विकास खण्ड का नाम', 'ग्राम पंचायत  का नाम',\n",
    "                        'निर्वाचित ग्राम प्रधान  का नाम']]\n",
    "\n",
    "long_df = pd.melt(selected_df, id_vars=['क्र. सं.'], var_name='Attribute', value_name='Value')\n",
    "long_df.shape"
   ]
  },
  {
   "cell_type": "code",
   "execution_count": 22,
   "id": "5f2313d4",
   "metadata": {},
   "outputs": [],
   "source": [
    "long_df.replace('', np.nan, inplace=True)\n",
    "long_df.dropna(subset=['Value'], inplace=True)\n",
    "\n",
    "# Remove duplicates\n",
    "long_df.drop_duplicates(subset=['Attribute', 'Value'], inplace=True)"
   ]
  },
  {
   "cell_type": "code",
   "execution_count": 23,
   "id": "641250c8",
   "metadata": {},
   "outputs": [
    {
     "data": {
      "text/plain": [
       "(23524, 3)"
      ]
     },
     "execution_count": 23,
     "metadata": {},
     "output_type": "execute_result"
    }
   ],
   "source": [
    "long_df.shape"
   ]
  },
  {
   "cell_type": "code",
   "execution_count": 24,
   "id": "70cc275f",
   "metadata": {},
   "outputs": [
    {
     "data": {
      "text/html": [
       "<div>\n",
       "<style scoped>\n",
       "    .dataframe tbody tr th:only-of-type {\n",
       "        vertical-align: middle;\n",
       "    }\n",
       "\n",
       "    .dataframe tbody tr th {\n",
       "        vertical-align: top;\n",
       "    }\n",
       "\n",
       "    .dataframe thead th {\n",
       "        text-align: right;\n",
       "    }\n",
       "</style>\n",
       "<table border=\"1\" class=\"dataframe\">\n",
       "  <thead>\n",
       "    <tr style=\"text-align: right;\">\n",
       "      <th></th>\n",
       "      <th>क्र. सं.</th>\n",
       "      <th>Attribute</th>\n",
       "      <th>Value</th>\n",
       "    </tr>\n",
       "  </thead>\n",
       "  <tbody>\n",
       "    <tr>\n",
       "      <th>0</th>\n",
       "      <td>1.0</td>\n",
       "      <td>जिले का नाम</td>\n",
       "      <td>सहारनपुर</td>\n",
       "    </tr>\n",
       "    <tr>\n",
       "      <th>187</th>\n",
       "      <td>188.0</td>\n",
       "      <td>जिले का नाम</td>\n",
       "      <td>मुजफ्फरनगर</td>\n",
       "    </tr>\n",
       "    <tr>\n",
       "      <th>382</th>\n",
       "      <td>383.0</td>\n",
       "      <td>जिले का नाम</td>\n",
       "      <td>शामली</td>\n",
       "    </tr>\n",
       "    <tr>\n",
       "      <th>562</th>\n",
       "      <td>563.0</td>\n",
       "      <td>जिले का नाम</td>\n",
       "      <td>मेरठ</td>\n",
       "    </tr>\n",
       "    <tr>\n",
       "      <th>835</th>\n",
       "      <td>836.0</td>\n",
       "      <td>जिले का नाम</td>\n",
       "      <td>बागपत</td>\n",
       "    </tr>\n",
       "  </tbody>\n",
       "</table>\n",
       "</div>"
      ],
      "text/plain": [
       "     क्र. सं.    Attribute       Value\n",
       "0         1.0  जिले का नाम    सहारनपुर\n",
       "187     188.0  जिले का नाम  मुजफ्फरनगर\n",
       "382     383.0  जिले का नाम       शामली\n",
       "562     563.0  जिले का नाम        मेरठ\n",
       "835     836.0  जिले का नाम       बागपत"
      ]
     },
     "execution_count": 24,
     "metadata": {},
     "output_type": "execute_result"
    }
   ],
   "source": [
    "long_df.head()"
   ]
  },
  {
   "cell_type": "code",
   "execution_count": 25,
   "id": "17a6463c",
   "metadata": {},
   "outputs": [],
   "source": [
    "long_df.to_csv(\"up_local_transliterate.csv\", index = False)"
   ]
  },
  {
   "cell_type": "code",
   "execution_count": null,
   "id": "5f31c62c",
   "metadata": {},
   "outputs": [],
   "source": []
  }
 ],
 "metadata": {
  "kernelspec": {
   "display_name": "Python 3 (ipykernel)",
   "language": "python",
   "name": "python3"
  },
  "language_info": {
   "codemirror_mode": {
    "name": "ipython",
    "version": 3
   },
   "file_extension": ".py",
   "mimetype": "text/x-python",
   "name": "python",
   "nbconvert_exporter": "python",
   "pygments_lexer": "ipython3",
   "version": "3.9.13"
  }
 },
 "nbformat": 4,
 "nbformat_minor": 5
}
