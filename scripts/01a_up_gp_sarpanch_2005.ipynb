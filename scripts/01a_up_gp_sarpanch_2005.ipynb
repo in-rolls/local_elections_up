{
 "cells": [
  {
   "cell_type": "markdown",
   "id": "25235d7c",
   "metadata": {},
   "source": [
    "### UP 2005 Clean up"
   ]
  },
  {
   "cell_type": "code",
   "execution_count": 1,
   "id": "bd2e1f30",
   "metadata": {},
   "outputs": [],
   "source": [
    "import pandas as pd\n",
    "import numpy as np\n",
    "import re"
   ]
  },
  {
   "cell_type": "code",
   "execution_count": 2,
   "id": "ce16414d",
   "metadata": {},
   "outputs": [
    {
     "data": {
      "text/html": [
       "<div>\n",
       "<style scoped>\n",
       "    .dataframe tbody tr th:only-of-type {\n",
       "        vertical-align: middle;\n",
       "    }\n",
       "\n",
       "    .dataframe tbody tr th {\n",
       "        vertical-align: top;\n",
       "    }\n",
       "\n",
       "    .dataframe thead th {\n",
       "        text-align: right;\n",
       "    }\n",
       "</style>\n",
       "<table border=\"1\" class=\"dataframe\">\n",
       "  <thead>\n",
       "    <tr style=\"text-align: right;\">\n",
       "      <th></th>\n",
       "      <th>order</th>\n",
       "      <th>page</th>\n",
       "      <th>sr_no</th>\n",
       "      <th>gp_code</th>\n",
       "      <th>gp_name</th>\n",
       "      <th>gp_reservation_status</th>\n",
       "      <th>elected_sarpanch_name</th>\n",
       "      <th>sex</th>\n",
       "      <th>candidate_res_status</th>\n",
       "      <th>district_code</th>\n",
       "      <th>district_name</th>\n",
       "      <th>block_code</th>\n",
       "      <th>block_name</th>\n",
       "    </tr>\n",
       "  </thead>\n",
       "  <tbody>\n",
       "    <tr>\n",
       "      <th>0</th>\n",
       "      <td>1</td>\n",
       "      <td>1</td>\n",
       "      <td>1</td>\n",
       "      <td>1</td>\n",
       "      <td>शेरपुर</td>\n",
       "      <td>अनारक्षित</td>\n",
       "      <td>ब्रिहम सिंह</td>\n",
       "      <td>पुरुष</td>\n",
       "      <td>अनारक्षित</td>\n",
       "      <td>301</td>\n",
       "      <td>सहारनपुर</td>\n",
       "      <td>1.0</td>\n",
       "      <td>रामपुर मनिहारन</td>\n",
       "    </tr>\n",
       "    <tr>\n",
       "      <th>1</th>\n",
       "      <td>2</td>\n",
       "      <td>1</td>\n",
       "      <td>2</td>\n",
       "      <td>2</td>\n",
       "      <td>सांचूल</td>\n",
       "      <td>अनुसूचित जाति - महिला</td>\n",
       "      <td>चावली</td>\n",
       "      <td>महिला</td>\n",
       "      <td>अनुसूचित जाति महिला -</td>\n",
       "      <td>301</td>\n",
       "      <td>सहारनपुर</td>\n",
       "      <td>1.0</td>\n",
       "      <td>रामपुर मनिहारन</td>\n",
       "    </tr>\n",
       "    <tr>\n",
       "      <th>2</th>\n",
       "      <td>3</td>\n",
       "      <td>1</td>\n",
       "      <td>3</td>\n",
       "      <td>3</td>\n",
       "      <td>सलेमपुर</td>\n",
       "      <td>अनुसूचित जाति</td>\n",
       "      <td>बाबूराम</td>\n",
       "      <td>पुरुष</td>\n",
       "      <td>अनुसूचित जाति</td>\n",
       "      <td>301</td>\n",
       "      <td>सहारनपुर</td>\n",
       "      <td>1.0</td>\n",
       "      <td>रामपुर मनिहारन</td>\n",
       "    </tr>\n",
       "    <tr>\n",
       "      <th>3</th>\n",
       "      <td>4</td>\n",
       "      <td>1</td>\n",
       "      <td>4</td>\n",
       "      <td>4</td>\n",
       "      <td>कल्लरपुर गुर्जर</td>\n",
       "      <td>अनुसूचित जाति</td>\n",
       "      <td>राकेश कुमार</td>\n",
       "      <td>पुरुष</td>\n",
       "      <td>अनुसूचित जाति</td>\n",
       "      <td>301</td>\n",
       "      <td>सहारनपुर</td>\n",
       "      <td>1.0</td>\n",
       "      <td>रामपुर मनिहारन</td>\n",
       "    </tr>\n",
       "    <tr>\n",
       "      <th>4</th>\n",
       "      <td>5</td>\n",
       "      <td>1</td>\n",
       "      <td>5</td>\n",
       "      <td>5</td>\n",
       "      <td>ढाका देई</td>\n",
       "      <td>पिछड़ी जाति</td>\n",
       "      <td>सरवर</td>\n",
       "      <td>पुरुष</td>\n",
       "      <td>पिछड़ी जाति</td>\n",
       "      <td>301</td>\n",
       "      <td>सहारनपुर</td>\n",
       "      <td>1.0</td>\n",
       "      <td>रामपुर मनिहारन</td>\n",
       "    </tr>\n",
       "  </tbody>\n",
       "</table>\n",
       "</div>"
      ],
      "text/plain": [
       "   order  page sr_no gp_code          gp_name  gp_reservation_status  \\\n",
       "0      1     1     1       1           शेरपुर              अनारक्षित   \n",
       "1      2     1     2       2           सांचूल  अनुसूचित जाति - महिला   \n",
       "2      3     1     3       3          सलेमपुर          अनुसूचित जाति   \n",
       "3      4     1     4       4  कल्लरपुर गुर्जर          अनुसूचित जाति   \n",
       "4      5     1     5       5         ढाका देई            पिछड़ी जाति   \n",
       "\n",
       "  elected_sarpanch_name    sex   candidate_res_status  district_code  \\\n",
       "0           ब्रिहम सिंह  पुरुष              अनारक्षित            301   \n",
       "1                 चावली  महिला  अनुसूचित जाति महिला -            301   \n",
       "2               बाबूराम  पुरुष          अनुसूचित जाति            301   \n",
       "3           राकेश कुमार  पुरुष          अनुसूचित जाति            301   \n",
       "4                  सरवर  पुरुष            पिछड़ी जाति            301   \n",
       "\n",
       "  district_name  block_code      block_name  \n",
       "0      सहारनपुर         1.0  रामपुर मनिहारन  \n",
       "1      सहारनपुर         1.0  रामपुर मनिहारन  \n",
       "2      सहारनपुर         1.0  रामपुर मनिहारन  \n",
       "3      सहारनपुर         1.0  रामपुर मनिहारन  \n",
       "4      सहारनपुर         1.0  रामपुर मनिहारन  "
      ]
     },
     "execution_count": 2,
     "metadata": {},
     "output_type": "execute_result"
    }
   ],
   "source": [
    "up_2005 = pd.read_csv(\"../data/up_gp_sarpanch_2005.csv\", low_memory = False)\n",
    "up_2005.head()"
   ]
  },
  {
   "cell_type": "markdown",
   "id": "f546d7a8",
   "metadata": {},
   "source": [
    "### Let's get GP Name sorted"
   ]
  },
  {
   "cell_type": "code",
   "execution_count": 3,
   "id": "0fa8e9c1",
   "metadata": {},
   "outputs": [
    {
     "data": {
      "text/plain": [
       "रामपुर        77\n",
       "रसूलपुर       68\n",
       "गोपालपुर      64\n",
       "रायपुर        60\n",
       "नरायनपुर      59\n",
       "रामनगर        56\n",
       "              55\n",
       "शाहपुर        54\n",
       "जगदीशपुर      50\n",
       "सलेमपुर       46\n",
       "बहादुरपुर     42\n",
       "जलालपुर       41\n",
       "गौरा          41\n",
       "भगवानपुर      40\n",
       "कल्यानपुर     40\n",
       "सिकन्दरपुर    40\n",
       "सुल्तानपुर    38\n",
       "दौलतपुर       37\n",
       "मिर्जापुर     37\n",
       "लालपुर        36\n",
       "Name: gp_name_fin, dtype: int64"
      ]
     },
     "execution_count": 3,
     "metadata": {},
     "output_type": "execute_result"
    }
   ],
   "source": [
    "### Normalize GP Name\n",
    "\n",
    "up_2005['gp_name'] = up_2005['gp_name'].str.strip()\\\n",
    "                        .str.replace(r'^(\\s?-\\s?|\\s?--\\s?)|(\\s-|\\s--|\\s---)$', '', regex=True)\\\n",
    "                        .str.replace(r'\\s{2,}', ' ', regex=True)\\\n",
    "                        .str.strip()\\\n",
    "                        .str.strip().str.replace('[0-9\\[\\]]', '', regex=True)\n",
    "\n",
    "# Let's take out reservation status from GP Name\n",
    "gp_res_status = [\n",
    "    'अनारक्षित',\n",
    "    'महिला',\n",
    "    'अनुसूचित जाति - महिला',\n",
    "    'पिछड़ी जाति - महिला',\n",
    "    'पिछड़ी जाति',\n",
    "    'अनुसूचित जाति',\n",
    "    'पिछड़ी जाति महिला -',\n",
    "    'अनुसूचित जाति महिला -'\n",
    "    'महिला'\n",
    "    'अनुसूचित जाति महिला -',\n",
    "    'पिछड़ी जाति महिला',\n",
    "    'अनुसूचित जाति महिला',\n",
    "    'पिछड़ी जाति महिला -'\n",
    "    'अनुसूचित जाति महिला -',\n",
    "    'पिछड़ी जाति महिला --',\n",
    "    'अनुसूचित जाति महिला - '\n",
    "]\n",
    "up_2005['gp_res_status_temp'] = np.where(up_2005['gp_name'].str.strip().isin(gp_res_status), up_2005['gp_name'], '')\n",
    "up_2005['gp_name_fin'] = np.where(~up_2005['gp_name'].isin(gp_res_status), up_2005['gp_name'], '')\n",
    "up_2005['gp_name_fin'].value_counts()[:20]"
   ]
  },
  {
   "cell_type": "code",
   "execution_count": 4,
   "id": "fb4c3b97",
   "metadata": {},
   "outputs": [
    {
     "data": {
      "text/plain": [
       "अनारक्षित                         14802\n",
       "महिला                             11163\n",
       "अनुसूचित जाति                      6690\n",
       "पिछड़ी जाति - महिला                6342\n",
       "पिछड़ी जाति                        5430\n",
       "अनुसूचित जाति महिला                2327\n",
       "पिछड़ी जाति महिला                  1812\n",
       "अनुसूचित जाति - महिला              1637\n",
       "पिछड़ी जाति - महिला                   88\n",
       "पिछडी जाति                           82\n",
       "पिछड़ी जाति महिला                     54\n",
       "अनारक्षित\\nअनारक्षित                 44\n",
       "अनुसूचित                             37\n",
       "पिछड़ी                               33\n",
       "महिला\\nअनारक्षित                     28\n",
       "महिला\\nमहिला                         26\n",
       "अनारक्षित\\nमहिला                     26\n",
       "पिछड़ी जाति -                        22\n",
       "पिछडी जाति - महिला                   21\n",
       "अनुसूचित जाति महिला -                21\n",
       "अनुसूचित जाति - महिला -              19\n",
       "पिछड़ी जाति\\nअनारक्षित               17\n",
       "अनारक्षित\\nपिछड़ी जाति - महिला       16\n",
       "अनारक्षित\\nअनुसूचित जाति             16\n",
       "पिछड़ी जाति                           15\n",
       "अनुसूचित जाति\\nअनारक्षित             15\n",
       "अनुसूचित जाति महिला --               15\n",
       "अनुसूचित जन जाति महिल                14\n",
       "पिछड़ी जाति - महिला\\nअनारक्षित       14\n",
       "अनारक्षित\\nपिछड़ी जाति               13\n",
       "Name: gp_reservation_status, dtype: int64"
      ]
     },
     "execution_count": 4,
     "metadata": {},
     "output_type": "execute_result"
    }
   ],
   "source": [
    "up_2005['gp_reservation_status'].value_counts()[:30]"
   ]
  },
  {
   "cell_type": "code",
   "execution_count": 5,
   "id": "0b123f8f",
   "metadata": {},
   "outputs": [
    {
     "data": {
      "text/plain": [
       "अनारक्षित                         14800\n",
       "महिला                             11165\n",
       "अनुसूचित जाति                      6691\n",
       "पिछड़ी जाति - महिला                6343\n",
       "पिछड़ी जाति                        5430\n",
       "अनुसूचित जाति महिला                2327\n",
       "पिछड़ी जाति महिला                  1813\n",
       "अनुसूचित जाति - महिला              1637\n",
       "पिछड़ी जाति - महिला                   88\n",
       "पिछडी जाति                           82\n",
       "पिछड़ी जाति महिला                     54\n",
       "अनारक्षित\\nअनारक्षित                 44\n",
       "अनुसूचित                             37\n",
       "पिछड़ी                               33\n",
       "महिला\\nअनारक्षित                     28\n",
       "अनारक्षित\\nमहिला                     26\n",
       "महिला\\nमहिला                         26\n",
       "पिछड़ी जाति -                        22\n",
       "पिछडी जाति - महिला                   21\n",
       "अनुसूचित जाति महिला -                21\n",
       "अनुसूचित जाति - महिला -              19\n",
       "पिछड़ी जाति\\nअनारक्षित               17\n",
       "अनारक्षित\\nपिछड़ी जाति - महिला       16\n",
       "अनारक्षित\\nअनुसूचित जाति             16\n",
       "पिछड़ी जाति                           15\n",
       "अनुसूचित जाति महिला --               15\n",
       "अनुसूचित जाति\\nअनारक्षित             15\n",
       "पिछड़ी जाति - महिला\\nअनारक्षित       14\n",
       "अनुसूचित जन जाति महिल                14\n",
       "महिला\\nपिछड़ी जाति - महिला           13\n",
       "Name: gp_res_status_fin, dtype: int64"
      ]
     },
     "execution_count": 5,
     "metadata": {},
     "output_type": "execute_result"
    }
   ],
   "source": [
    "up_2005['gp_res_status_fin'] = up_2005.apply(lambda x: x['gp_res_status_temp'] if x['gp_res_status_temp'] != '' \n",
    "                            else x['gp_reservation_status'], axis=1)\n",
    "up_2005['gp_res_status_fin'].value_counts()[:30]"
   ]
  },
  {
   "cell_type": "code",
   "execution_count": 6,
   "id": "86a6bd2a",
   "metadata": {},
   "outputs": [
    {
     "data": {
      "text/plain": [
       "3798            अनुसूचित जन जाति\n",
       "8160       अनुसूचित जन जाति महिल\n",
       "17283                    जनकसिंह\n",
       "24417           अनुसूचित जन जाति\n",
       "27298     पिछड़ी जाति महिला रजनी\n",
       "29234    अनुसूचित जन जाति महिल -\n",
       "29594           अनुसूचित जन जाति\n",
       "29596     अनुसूचित जनजाति महिल -\n",
       "29597      अनुसूचित जन जाति महिल\n",
       "29598      अनुसूचित जन जाति महिल\n",
       "29599      अनुसूचित जन जाति महिल\n",
       "29600           अनुसूचित जन जाति\n",
       "29601      अनुसूचित जन जाति महिल\n",
       "29602      अनुसूचित जन जाति महिल\n",
       "29603    अनुसूचित जन जाति महिल -\n",
       "29604    अनुसूचित जन जाति महिल -\n",
       "29605           अनुसूचित जन जाति\n",
       "29606      अनुसूचित जन जाति महिल\n",
       "29607      अनुसूचित जन जाति महिल\n",
       "30307      अनुसूचित जन जाति महिल\n",
       "30325      अनुसूचित जन जाति महिल\n",
       "30326           अनुसूचित जन जाति\n",
       "30784      अनुसूचित जन जाति महिल\n",
       "30808      अनुसूचित जन जाति महिल\n",
       "31185      अनुसूचित जन जाति महिल\n",
       "31186           अनुसूचित जन जाति\n",
       "31205           अनुसूचित जन जाति\n",
       "31206           अनुसूचित जन जाति\n",
       "31208           अनुसूचित जन जाति\n",
       "31209           अनुसूचित जन जाति\n",
       "31282           अनुसूचित जन जाति\n",
       "40968      अनुसूचित जन जाति महिल\n",
       "Name: gp_res_status_fin, dtype: object"
      ]
     },
     "execution_count": 6,
     "metadata": {},
     "output_type": "execute_result"
    }
   ],
   "source": [
    "up_2005['gp_res_status_fin'][up_2005['gp_res_status_fin'].str.contains('जन', na=False)]"
   ]
  },
  {
   "cell_type": "code",
   "execution_count": 7,
   "id": "a72c3303",
   "metadata": {},
   "outputs": [
    {
     "data": {
      "text/plain": [
       "अनारक्षित                                   14801\n",
       "महिला                                       11166\n",
       "अनुसूचित जाति                                6705\n",
       "पिछड़ी जाति - महिला                          6348\n",
       "पिछड़ी जाति                                  5455\n",
       "अनुसूचित जाति महिला                          2363\n",
       "पिछड़ी जाति महिला                            1822\n",
       "अनुसूचित जाति - महिला                        1656\n",
       "पिछड़ी जाति - महिला                             88\n",
       "पिछडी जाति                                     82\n",
       "पिछड़ी जाति महिला                               56\n",
       "अनारक्षित\\nअनारक्षित                           44\n",
       "अनुसूचित                                       37\n",
       "पिछड़ी                                         33\n",
       "महिला\\nअनारक्षित                               28\n",
       "अनारक्षित\\nमहिला                               26\n",
       "महिला\\nमहिला                                   26\n",
       "पिछडी जाति - महिला                             21\n",
       "पिछड़ी जाति\\nअनारक्षित                         17\n",
       "पिछड़ी जाति                                     17\n",
       "अनुसूचित जन जाति महिल                          17\n",
       "अनारक्षित\\nपिछड़ी जाति - महिला                 16\n",
       "अनारक्षित\\nअनुसूचित जाति                       16\n",
       "अनुसूचित जाति\\nअनारक्षित                       15\n",
       "पिछड़ी जाति - महिला\\nअनारक्षित                 14\n",
       "महिला\\nपिछड़ी जाति - महिला                     13\n",
       "अनारक्षित\\nपिछड़ी जाति                         13\n",
       "अनुसूचित जन जाति                               12\n",
       "पिछड़ी जाति\\nमहिला                             11\n",
       "पिछड़ी जाति - महिला\\nमहिला                     10\n",
       "महिला\\nअनुसूचित जाति                           10\n",
       "जाति - महिला                                   10\n",
       "पिछड़ी जाति - महिला\\nपिछड़ी जाति - महिला        8\n",
       "अनुसूचित जाति\\nपिछड़ी जाति - महिला              7\n",
       "महिला\\nपिछड़ी जाति                              6\n",
       "जाति महिला                                      6\n",
       "अनुसूचित जाति\\nअनुसूचित जाति                    6\n",
       "खुर्द                                           5\n",
       "अनारक्षित\\nपिछड़ी जाति महिला                    5\n",
       "पिछड़ी जाति\\nपिछड़ी जाति                        5\n",
       "Name: gp_res_status_fin, dtype: int64"
      ]
     },
     "execution_count": 7,
     "metadata": {},
     "output_type": "execute_result"
    }
   ],
   "source": [
    "# Normalize\n",
    "up_2005['gp_res_status_fin'] = (up_2005['gp_res_status_fin']\n",
    "                 .str.strip()  # Step 1: Trim leading and trailing spaces   \n",
    "                 .str.replace(r'^(\\s?-\\s?|\\s?--\\s?)|(\\s-|\\s--|\\s---)$', '', regex=True)  # Step 2: Remove specific patterns at the start/end\n",
    "                 .str.strip()  # Step 1: Trim leading and trailing spaces\n",
    "                 .str.replace(r'\\s{2,}', ' ', regex=True).str.strip())  # Step 3: Replace multiple spaces with a single space\n",
    "up_2005['gp_res_status_fin'].value_counts()[:40]"
   ]
  },
  {
   "cell_type": "code",
   "execution_count": 8,
   "id": "94b396fe",
   "metadata": {},
   "outputs": [
    {
     "data": {
      "text/plain": [
       "अनुसूचित जन जाति महिल     17\n",
       "अनुसूचित जन जाति          12\n",
       "जनकसिंह                    1\n",
       "पिछड़ी जाति महिला रजनी     1\n",
       "अनुसूचित जनजाति महिल       1\n",
       "Name: gp_res_status_fin, dtype: int64"
      ]
     },
     "execution_count": 8,
     "metadata": {},
     "output_type": "execute_result"
    }
   ],
   "source": [
    "up_2005['gp_res_status_fin'][up_2005['gp_res_status_fin'].str.contains('जन', na=False)].value_counts()"
   ]
  },
  {
   "cell_type": "code",
   "execution_count": 9,
   "id": "78ce9df6",
   "metadata": {},
   "outputs": [
    {
     "data": {
      "text/plain": [
       "['अनारक्षित',\n",
       " 'महिला',\n",
       " 'अनुसूचित जाति',\n",
       " 'पिछड़ी जाति - महिला',\n",
       " 'पिछड़ी जाति',\n",
       " 'अनुसूचित जाति महिला',\n",
       " 'पिछड़ी जाति महिला',\n",
       " 'अनुसूचित जाति - महिला',\n",
       " 'पिछड़ी जाति - महिला',\n",
       " 'पिछडी जाति',\n",
       " 'पिछड़ी जाति महिला',\n",
       " 'अनारक्षित\\nअनारक्षित',\n",
       " 'अनुसूचित जन जाति',\n",
       " 'अनुसूचित जन जाति महिल',\n",
       " 'अनुसूचित जनजाति महिल',\n",
       " 'पिछड़ी जाति']"
      ]
     },
     "execution_count": 9,
     "metadata": {},
     "output_type": "execute_result"
    }
   ],
   "source": [
    "# Define the list of substrings to check for\n",
    "valid_categories = up_2005['gp_res_status_fin'].value_counts()[:12].index.to_list()\n",
    "valid_categories.extend(['अनुसूचित जन जाति', 'अनुसूचित जन जाति महिल', 'अनुसूचित जनजाति महिल', 'पिछड़ी जाति'])\n",
    "valid_categories"
   ]
  },
  {
   "cell_type": "code",
   "execution_count": 10,
   "id": "e625f263",
   "metadata": {},
   "outputs": [
    {
     "data": {
      "text/plain": [
       "अनारक्षित                14801\n",
       "महिला                    11166\n",
       "अनुसूचित जाति             6705\n",
       "पिछड़ी जाति - महिला       6348\n",
       "पिछड़ी जाति               5455\n",
       "अनुसूचित जाति महिला       2363\n",
       "पिछड़ी जाति महिला         1822\n",
       "अनुसूचित जाति - महिला     1656\n",
       "                          1239\n",
       "पिछड़ी जाति - महिला          88\n",
       "पिछडी जाति                  82\n",
       "पिछड़ी जाति महिला            56\n",
       "अनारक्षित\\nअनारक्षित        44\n",
       "पिछड़ी जाति                  17\n",
       "अनुसूचित जन जाति महिल       17\n",
       "अनुसूचित जन जाति            12\n",
       "अनुसूचित जनजाति महिल         1\n",
       "Name: gp_res_status_fin, dtype: int64"
      ]
     },
     "execution_count": 10,
     "metadata": {},
     "output_type": "execute_result"
    }
   ],
   "source": [
    "up_2005['gp_res_status_fin'] = np.where(up_2005['gp_res_status_fin'].isin(valid_categories), up_2005['gp_res_status_fin'], '')\n",
    "up_2005['gp_res_status_fin'].value_counts()[:20]"
   ]
  },
  {
   "cell_type": "code",
   "execution_count": 11,
   "id": "a6c6e3a3",
   "metadata": {},
   "outputs": [
    {
     "data": {
      "text/plain": [
       "Unreserved                       14801\n",
       "Female                           11166\n",
       "Other Backward Class - Female     8314\n",
       "Scheduled Caste                   6705\n",
       "Other Backward Class              5537\n",
       "Scheduled Caste - Female          4019\n",
       "Unknown                           1239\n",
       "Scheduled Tribe - Female            18\n",
       "Scheduled Tribe                     12\n",
       "Name: gp_res_status_fin_eng, dtype: int64"
      ]
     },
     "execution_count": 11,
     "metadata": {},
     "output_type": "execute_result"
    }
   ],
   "source": [
    "translit_dict = {\n",
    "    'अनारक्षित': 'Unreserved',\n",
    "    'पिछड़ी जाति': 'Other Backward Class',\n",
    "    'महिला': 'Female',\n",
    "    'अनुसूचित जाति': 'Scheduled Caste',\n",
    "    'पिछड़ी जाति - महिला': 'Other Backward Class - Female',\n",
    "    'पिछड़ी जाति महिला': 'Other Backward Class - Female',\n",
    "    'अनुसूचित जाति - महिला': 'Scheduled Caste - Female',\n",
    "    'अनुसूचित जाति महिला': 'Scheduled Caste - Female',\n",
    "    'पिछडी जाति': 'Other Backward Class',\n",
    "    'पिछडी जाति - महिला': 'Other Backward Class - Female',\n",
    "    'पिछड़ी जाति महिला': 'Other Backward Class - Female',\n",
    "    '': 'Unknown',  \n",
    "    'अनुसूचित जन जाति': 'Scheduled Tribe',\n",
    "    'अनुसूचित जनजाति महिल': 'Scheduled Tribe - Female',\n",
    "    'अनुसूचित जन जाति - महिला': 'Scheduled Tribe - Female',\n",
    "    'पिछड़ी जाति - महिला': 'Other Backward Class - Female',\n",
    "    'पिछडी जाति महिला': 'Other Backward Class - Female',\n",
    "    'अनुसूचित जन जाति': 'Scheduled Tribe',\n",
    "    'अनुसूचित जन जाति महिल': 'Scheduled Tribe - Female'\n",
    "}\n",
    "\n",
    "up_2005['gp_res_status_fin_eng'] = up_2005['gp_res_status_fin'].map(translit_dict)\n",
    "up_2005['gp_res_status_fin_eng'].value_counts()"
   ]
  },
  {
   "cell_type": "code",
   "execution_count": 12,
   "id": "8c182bda",
   "metadata": {},
   "outputs": [
    {
     "data": {
      "text/plain": [
       "अनुसूचित                                    37\n",
       "पिछड़ी                                      33\n",
       "महिला\\nअनारक्षित                            28\n",
       "महिला\\nमहिला                                26\n",
       "अनारक्षित\\nमहिला                            26\n",
       "पिछडी जाति - महिला                          21\n",
       "पिछड़ी जाति\\nअनारक्षित                      17\n",
       "अनारक्षित\\nअनुसूचित जाति                    16\n",
       "अनारक्षित\\nपिछड़ी जाति - महिला              16\n",
       "अनुसूचित जाति\\nअनारक्षित                    15\n",
       "पिछड़ी जाति - महिला\\nअनारक्षित              14\n",
       "अनारक्षित\\nपिछड़ी जाति                      13\n",
       "महिला\\nपिछड़ी जाति - महिला                  13\n",
       "पिछड़ी जाति\\nमहिला                          11\n",
       "महिला\\nअनुसूचित जाति                        10\n",
       "पिछड़ी जाति - महिला\\nमहिला                  10\n",
       "जाति - महिला                                10\n",
       "पिछड़ी जाति - महिला\\nपिछड़ी जाति - महिला     8\n",
       "अनुसूचित जाति\\nपिछड़ी जाति - महिला           7\n",
       "अनुसूचित जाति\\nअनुसूचित जाति                 6\n",
       "Name: gp_reservation_status, dtype: int64"
      ]
     },
     "execution_count": 12,
     "metadata": {},
     "output_type": "execute_result"
    }
   ],
   "source": [
    "(up_2005['gp_reservation_status'][up_2005['gp_res_status_fin_eng'] == 'Unknown']).value_counts()[:20]"
   ]
  },
  {
   "cell_type": "code",
   "execution_count": 13,
   "id": "194a0e42",
   "metadata": {},
   "outputs": [],
   "source": [
    "def process_info(info):\n",
    "    if not isinstance(info, str):\n",
    "        return \"\", \"\", None  # Handle non-string data directly\n",
    "\n",
    "    # Initialize default values for gender and age\n",
    "    gender = \"\"\n",
    "    age = None\n",
    "\n",
    "    keywords = {'महिला': 'woman', 'पुरुष': 'man'}\n",
    "    age_pattern = re.compile(r'\\b\\d+\\b')  # Matches whole numbers\n",
    "\n",
    "    # Extract age from the string (assuming the first number found is the age)\n",
    "    found_age = age_pattern.findall(info)\n",
    "    if found_age:\n",
    "        age = int(found_age[0])  # Convert the first found age to integer\n",
    "        info = age_pattern.sub(\"\", info).strip()  # Remove the age from the string\n",
    "\n",
    "    # Check for and process keywords\n",
    "    for keyword, eng_gender in keywords.items():\n",
    "        if keyword in info:\n",
    "            gender = keyword #eng_gender\n",
    "            info = info.replace(keyword, '').strip()  # Strip keyword and any extra spaces\n",
    "\n",
    "    return info, gender, age"
   ]
  },
  {
   "cell_type": "markdown",
   "id": "776aacdf",
   "metadata": {},
   "source": [
    "### Split Cols on the Right"
   ]
  },
  {
   "cell_type": "code",
   "execution_count": 14,
   "id": "6b4a835d",
   "metadata": {},
   "outputs": [
    {
     "data": {
      "text/plain": [
       "पिछड़ी जाति      11494\n",
       "पिछड़ी जाति -     9830\n",
       "अनारक्षित         9647\n",
       "अनुसूचित जाति     8048\n",
       "                  5047\n",
       "                 ...  \n",
       "यशोदा                1\n",
       "फूलकुमारी            1\n",
       "सत्यवती              1\n",
       "शान्ति देवी          1\n",
       "-                    1\n",
       "Name: candidate_res_status_fin, Length: 249, dtype: int64"
      ]
     },
     "execution_count": 14,
     "metadata": {},
     "output_type": "execute_result"
    }
   ],
   "source": [
    "up_2005['candidate_res_status_fin'], up_2005['cand_sex_t'], up_2005['age_t'] = zip(*up_2005['candidate_res_status'].apply(process_info))\n",
    "up_2005['candidate_res_status_fin'].value_counts()"
   ]
  },
  {
   "cell_type": "code",
   "execution_count": 15,
   "id": "b65e811a",
   "metadata": {},
   "outputs": [
    {
     "data": {
      "text/plain": [
       "         29234\n",
       "महिला    22065\n",
       "पुरुष      573\n",
       "Name: cand_sex_t, dtype: int64"
      ]
     },
     "execution_count": 15,
     "metadata": {},
     "output_type": "execute_result"
    }
   ],
   "source": [
    "up_2005['cand_sex_t'].value_counts()"
   ]
  },
  {
   "cell_type": "code",
   "execution_count": 16,
   "id": "f5ab87e1",
   "metadata": {},
   "outputs": [
    {
     "data": {
      "text/plain": [
       "महिला    26671\n",
       "पुरुष    24165\n",
       "          1036\n",
       "Name: cand_sex_t2, dtype: int64"
      ]
     },
     "execution_count": 16,
     "metadata": {},
     "output_type": "execute_result"
    }
   ],
   "source": [
    "up_2005['educ_t2'], up_2005['cand_sex_t2'], up_2005['age_t2'] = zip(*up_2005['sex'].apply(process_info))\n",
    "up_2005['cand_sex_t2'].value_counts()"
   ]
  },
  {
   "cell_type": "markdown",
   "id": "e5998a37",
   "metadata": {},
   "source": [
    "### Finalize"
   ]
  },
  {
   "cell_type": "code",
   "execution_count": 17,
   "id": "8a5d65ef",
   "metadata": {},
   "outputs": [
    {
     "data": {
      "text/plain": [
       "महिला    26752\n",
       "पुरुष    24610\n",
       "           510\n",
       "Name: cand_sex_fin, dtype: int64"
      ]
     },
     "execution_count": 17,
     "metadata": {},
     "output_type": "execute_result"
    }
   ],
   "source": [
    "# Candidate Sex Final\n",
    "up_2005['cand_sex_fin'] = up_2005.apply(lambda x: x['cand_sex_t'] if x['cand_sex_t2'] == '' else x['cand_sex_t2'], axis=1)\n",
    "up_2005['cand_sex_fin'].value_counts()"
   ]
  },
  {
   "cell_type": "code",
   "execution_count": 18,
   "id": "314fc931",
   "metadata": {},
   "outputs": [
    {
     "data": {
      "text/plain": [
       "महिला                                      26540\n",
       "पुरुष                                      24049\n",
       "महिला                                         47\n",
       "पुरुष\\nपुरुष                                  24\n",
       "पुरुष\\nमहिला                                  21\n",
       "                                           ...  \n",
       "मीरा देवी                                      1\n",
       "साहिबा                                         1\n",
       "दिनेश                                          1\n",
       "गुड्डी देवी                                    1\n",
       "पुरुष\\nपुरुष अनुसूचित जाति\\nमहिला महिला        1\n",
       "Name: sex, Length: 344, dtype: int64"
      ]
     },
     "execution_count": 18,
     "metadata": {},
     "output_type": "execute_result"
    }
   ],
   "source": [
    "up_2005['sex'].value_counts()"
   ]
  },
  {
   "cell_type": "code",
   "execution_count": 19,
   "id": "73b98a80",
   "metadata": {},
   "outputs": [
    {
     "data": {
      "text/plain": [
       "Index(['order', 'page', 'sr_no', 'gp_code', 'gp_name', 'gp_reservation_status',\n",
       "       'elected_sarpanch_name', 'sex', 'candidate_res_status', 'district_code',\n",
       "       'district_name', 'block_code', 'block_name', 'gp_res_status_temp',\n",
       "       'gp_name_fin', 'gp_res_status_fin', 'gp_res_status_fin_eng',\n",
       "       'candidate_res_status_fin', 'cand_sex_t', 'age_t', 'educ_t2',\n",
       "       'cand_sex_t2', 'age_t2', 'cand_sex_fin'],\n",
       "      dtype='object')"
      ]
     },
     "execution_count": 19,
     "metadata": {},
     "output_type": "execute_result"
    }
   ],
   "source": [
    "up_2005.columns"
   ]
  },
  {
   "cell_type": "code",
   "execution_count": 20,
   "id": "898b5fd0",
   "metadata": {},
   "outputs": [
    {
     "data": {
      "text/plain": [
       "Index(['order', 'page', 'sr_no', 'gp_code', 'gp_name', 'gp_reservation_status',\n",
       "       'elected_sarpanch_name', 'sex', 'candidate_res_status', 'district_code',\n",
       "       'district_name', 'block_code', 'block_name', 'gp_name_fin',\n",
       "       'gp_res_status_fin', 'gp_res_status_fin_eng',\n",
       "       'candidate_res_status_fin', 'age_t2', 'cand_sex_fin'],\n",
       "      dtype='object')"
      ]
     },
     "execution_count": 20,
     "metadata": {},
     "output_type": "execute_result"
    }
   ],
   "source": [
    "up_2005.drop(columns =['gp_res_status_temp',\n",
    "              'cand_sex_t', 'age_t', \n",
    "              'educ_t2', 'cand_sex_t2'], inplace = True)\n",
    "up_2005.columns"
   ]
  },
  {
   "cell_type": "code",
   "execution_count": 21,
   "id": "80f57b0c",
   "metadata": {},
   "outputs": [],
   "source": [
    "up_2005.to_csv(\"../data/up_gp_sarpanch_2005_fixed.csv\", index = False)"
   ]
  }
 ],
 "metadata": {
  "kernelspec": {
   "display_name": "Python 3 (ipykernel)",
   "language": "python",
   "name": "python3"
  },
  "language_info": {
   "codemirror_mode": {
    "name": "ipython",
    "version": 3
   },
   "file_extension": ".py",
   "mimetype": "text/x-python",
   "name": "python",
   "nbconvert_exporter": "python",
   "pygments_lexer": "ipython3",
   "version": "3.9.13"
  }
 },
 "nbformat": 4,
 "nbformat_minor": 5
}
