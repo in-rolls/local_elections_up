{
 "cells": [
  {
   "cell_type": "markdown",
   "id": "25235d7c",
   "metadata": {},
   "source": [
    "### UP 2005 Clean up"
   ]
  },
  {
   "cell_type": "code",
   "execution_count": 1,
   "id": "bd2e1f30",
   "metadata": {},
   "outputs": [],
   "source": [
    "import pandas as pd\n",
    "import numpy as np\n",
    "import re"
   ]
  },
  {
   "cell_type": "code",
   "execution_count": 2,
   "id": "ce16414d",
   "metadata": {},
   "outputs": [
    {
     "data": {
      "text/html": [
       "<div>\n",
       "<style scoped>\n",
       "    .dataframe tbody tr th:only-of-type {\n",
       "        vertical-align: middle;\n",
       "    }\n",
       "\n",
       "    .dataframe tbody tr th {\n",
       "        vertical-align: top;\n",
       "    }\n",
       "\n",
       "    .dataframe thead th {\n",
       "        text-align: right;\n",
       "    }\n",
       "</style>\n",
       "<table border=\"1\" class=\"dataframe\">\n",
       "  <thead>\n",
       "    <tr style=\"text-align: right;\">\n",
       "      <th></th>\n",
       "      <th>order</th>\n",
       "      <th>page</th>\n",
       "      <th>sr_no</th>\n",
       "      <th>gp_code</th>\n",
       "      <th>gp_name</th>\n",
       "      <th>gp_reservation_status</th>\n",
       "      <th>elected_sarpanch_name</th>\n",
       "      <th>sex</th>\n",
       "      <th>candidate_res_status</th>\n",
       "      <th>district_code</th>\n",
       "      <th>district_name</th>\n",
       "      <th>block_code</th>\n",
       "      <th>block_name</th>\n",
       "    </tr>\n",
       "  </thead>\n",
       "  <tbody>\n",
       "    <tr>\n",
       "      <th>0</th>\n",
       "      <td>32321</td>\n",
       "      <td>842</td>\n",
       "      <td>195</td>\n",
       "      <td>0</td>\n",
       "      <td>महदेवा नासिरगॅज</td>\n",
       "      <td>पिछड़ी जाति - महिला</td>\n",
       "      <td>तैयबा बेगम</td>\n",
       "      <td>महिला</td>\n",
       "      <td>पिछड़ी जाति - महिला</td>\n",
       "      <td>1302.0</td>\n",
       "      <td>श्रावस्ती</td>\n",
       "      <td>4.0</td>\n",
       "      <td>जमुनहा</td>\n",
       "    </tr>\n",
       "    <tr>\n",
       "      <th>1</th>\n",
       "      <td>17390</td>\n",
       "      <td>454</td>\n",
       "      <td>265</td>\n",
       "      <td>0</td>\n",
       "      <td>रौतापुरकल</td>\n",
       "      <td>अनारक्षित</td>\n",
       "      <td>राजेन्द्रप्रसाद</td>\n",
       "      <td>पुरुष</td>\n",
       "      <td>अनारक्षित</td>\n",
       "      <td>805.0</td>\n",
       "      <td>कानपुर नगर</td>\n",
       "      <td>6.0</td>\n",
       "      <td>चौबेपुर</td>\n",
       "    </tr>\n",
       "    <tr>\n",
       "      <th>2</th>\n",
       "      <td>27064</td>\n",
       "      <td>704</td>\n",
       "      <td>911</td>\n",
       "      <td>1</td>\n",
       "      <td>गुजौली</td>\n",
       "      <td>अनुसूचित जाति महिला</td>\n",
       "      <td>रमदेई</td>\n",
       "      <td>महिला</td>\n",
       "      <td>NaN</td>\n",
       "      <td>1202.0</td>\n",
       "      <td>उन्नाव</td>\n",
       "      <td>16.0</td>\n",
       "      <td>हिलौली</td>\n",
       "    </tr>\n",
       "    <tr>\n",
       "      <th>3</th>\n",
       "      <td>38796</td>\n",
       "      <td>1008</td>\n",
       "      <td>479</td>\n",
       "      <td>1</td>\n",
       "      <td>गौर</td>\n",
       "      <td>अनारक्षित</td>\n",
       "      <td>राजेश कुमार</td>\n",
       "      <td>NaN</td>\n",
       "      <td>NaN</td>\n",
       "      <td>1501.0</td>\n",
       "      <td>बस्ती</td>\n",
       "      <td>8.0</td>\n",
       "      <td>गौर</td>\n",
       "    </tr>\n",
       "    <tr>\n",
       "      <th>4</th>\n",
       "      <td>45999</td>\n",
       "      <td>1193</td>\n",
       "      <td>703</td>\n",
       "      <td>1</td>\n",
       "      <td>देवकाली तारन</td>\n",
       "      <td>अनारक्षित</td>\n",
       "      <td>संतोष कुमार</td>\n",
       "      <td>पुरुष</td>\n",
       "      <td>NaN</td>\n",
       "      <td>1701.0</td>\n",
       "      <td>आजमगढ़</td>\n",
       "      <td>11.0</td>\n",
       "      <td>सठियाव</td>\n",
       "    </tr>\n",
       "  </tbody>\n",
       "</table>\n",
       "</div>"
      ],
      "text/plain": [
       "   order  page sr_no gp_code          gp_name gp_reservation_status  \\\n",
       "0  32321   842   195       0  महदेवा नासिरगॅज   पिछड़ी जाति - महिला   \n",
       "1  17390   454   265       0        रौतापुरकल             अनारक्षित   \n",
       "2  27064   704   911       1           गुजौली   अनुसूचित जाति महिला   \n",
       "3  38796  1008   479       1              गौर             अनारक्षित   \n",
       "4  45999  1193   703       1     देवकाली तारन             अनारक्षित   \n",
       "\n",
       "  elected_sarpanch_name    sex candidate_res_status  district_code  \\\n",
       "0            तैयबा बेगम  महिला  पिछड़ी जाति - महिला         1302.0   \n",
       "1       राजेन्द्रप्रसाद  पुरुष            अनारक्षित          805.0   \n",
       "2                 रमदेई  महिला                  NaN         1202.0   \n",
       "3           राजेश कुमार    NaN                  NaN         1501.0   \n",
       "4           संतोष कुमार  पुरुष                  NaN         1701.0   \n",
       "\n",
       "  district_name  block_code block_name  \n",
       "0     श्रावस्ती         4.0     जमुनहा  \n",
       "1    कानपुर नगर         6.0    चौबेपुर  \n",
       "2        उन्नाव        16.0     हिलौली  \n",
       "3         बस्ती         8.0        गौर  \n",
       "4        आजमगढ़        11.0     सठियाव  "
      ]
     },
     "execution_count": 2,
     "metadata": {},
     "output_type": "execute_result"
    }
   ],
   "source": [
    "up_2005 = pd.read_csv(\"../data/up_gp_sarpanch_2005.csv\", low_memory = False)\n",
    "up_2005.head()"
   ]
  },
  {
   "cell_type": "markdown",
   "id": "f546d7a8",
   "metadata": {},
   "source": [
    "### Let's get GP Name sorted"
   ]
  },
  {
   "cell_type": "code",
   "execution_count": 3,
   "id": "0fa8e9c1",
   "metadata": {},
   "outputs": [
    {
     "data": {
      "text/plain": [
       "              78\n",
       "रामपुर        77\n",
       "रसूलपुर       68\n",
       "गोपालपुर      64\n",
       "रायपुर        60\n",
       "नरायनपुर      59\n",
       "रामनगर        56\n",
       "शाहपुर        54\n",
       "जगदीशपुर      50\n",
       "सलेमपुर       46\n",
       "बहादुरपुर     42\n",
       "गौरा          41\n",
       "जलालपुर       41\n",
       "सिकन्दरपुर    40\n",
       "कल्यानपुर     40\n",
       "भगवानपुर      40\n",
       "सुल्तानपुर    38\n",
       "मिर्जापुर     37\n",
       "दौलतपुर       37\n",
       "लालपुर        36\n",
       "Name: gp_name_fin, dtype: int64"
      ]
     },
     "execution_count": 3,
     "metadata": {},
     "output_type": "execute_result"
    }
   ],
   "source": [
    "### Normalize GP Name\n",
    "\n",
    "up_2005['gp_name'] = up_2005['gp_name'].str.strip()\\\n",
    "                        .str.replace(r'^(\\s?-\\s?|\\s?--\\s?)|(\\s-|\\s--|\\s---)$', '', regex=True)\\\n",
    "                        .str.replace(r'\\s{2,}', ' ', regex=True)\\\n",
    "                        .str.strip()\\\n",
    "                        .str.strip().str.replace('[0-9\\[\\]]', '', regex=True)\n",
    "\n",
    "# Let's take out reservation status from GP Name\n",
    "gp_res_status = [\n",
    "    'अनारक्षित',\n",
    "    'महिला',\n",
    "    'अनुसूचित जाति - महिला',\n",
    "    'पिछड़ी जाति - महिला',\n",
    "    'पिछड़ी जाति',\n",
    "    'अनुसूचित जाति',\n",
    "    'पिछड़ी जाति महिला -',\n",
    "    'अनुसूचित जाति महिला -'\n",
    "    'महिला'\n",
    "    'अनुसूचित जाति महिला -',\n",
    "    'पिछड़ी जाति महिला',\n",
    "    'अनुसूचित जाति महिला',\n",
    "    'पिछड़ी जाति महिला -'\n",
    "    'अनुसूचित जाति महिला -',\n",
    "    'पिछड़ी जाति महिला --',\n",
    "    'अनुसूचित जाति महिला - '\n",
    "]\n",
    "up_2005['gp_res_status_temp'] = np.where(up_2005['gp_name'].str.strip().isin(gp_res_status), up_2005['gp_name'], '')\n",
    "up_2005['gp_name_fin'] = np.where(~up_2005['gp_name'].isin(gp_res_status), up_2005['gp_name'], '')\n",
    "up_2005['gp_name_fin'].value_counts()[:20]"
   ]
  },
  {
   "cell_type": "code",
   "execution_count": 4,
   "id": "fb4c3b97",
   "metadata": {},
   "outputs": [
    {
     "data": {
      "text/plain": [
       "अनारक्षित                         14674\n",
       "महिला                             11113\n",
       "अनुसूचित जाति                      6621\n",
       "पिछड़ी जाति - महिला                6299\n",
       "पिछड़ी जाति                        5383\n",
       "अनुसूचित जाति महिला                2314\n",
       "पिछड़ी जाति महिला                  1807\n",
       "अनुसूचित जाति - महिला              1622\n",
       "पिछड़ी जाति - महिला                   88\n",
       "पिछडी जाति                           80\n",
       "अनुसूचित                             64\n",
       "पिछड़ी जाति महिला                     53\n",
       "पिछड़ी                               49\n",
       "अनारक्षित\\nअनारक्षित                 45\n",
       "महिला\\nअनारक्षित                     26\n",
       "महिला\\nमहिला                         26\n",
       "अनारक्षित\\nमहिला                     25\n",
       "पिछड़ी जाति -                        21\n",
       "पिछडी जाति - महिला                   21\n",
       "अनुसूचित जाति - महिला -              19\n",
       "अनारक्षित\\nपिछड़ी जाति - महिला       17\n",
       "पिछड़ी जाति\\nअनारक्षित               17\n",
       "अनारक्षित\\nअनुसूचित जाति             16\n",
       "अनुसूचित जाति\\nअनारक्षित             15\n",
       "अनुसूचित जन जाति महिल                14\n",
       "पिछड़ी जाति                           14\n",
       "अनुसूचित जाति महिला --               14\n",
       "अनारक्षित\\nपिछड़ी जाति               13\n",
       "अनुसूचित जन जाति                     12\n",
       "महिला\\nपिछड़ी जाति - महिला           12\n",
       "Name: gp_reservation_status, dtype: int64"
      ]
     },
     "execution_count": 4,
     "metadata": {},
     "output_type": "execute_result"
    }
   ],
   "source": [
    "up_2005['gp_reservation_status'].value_counts()[:30]"
   ]
  },
  {
   "cell_type": "code",
   "execution_count": 5,
   "id": "0b123f8f",
   "metadata": {},
   "outputs": [
    {
     "data": {
      "text/plain": [
       "अनारक्षित                         14672\n",
       "महिला                             11115\n",
       "अनुसूचित जाति                      6622\n",
       "पिछड़ी जाति - महिला                6300\n",
       "पिछड़ी जाति                        5383\n",
       "अनुसूचित जाति महिला                2314\n",
       "पिछड़ी जाति महिला                  1808\n",
       "अनुसूचित जाति - महिला              1622\n",
       "पिछड़ी जाति - महिला                   88\n",
       "पिछडी जाति                           80\n",
       "अनुसूचित                             64\n",
       "पिछड़ी जाति महिला                     53\n",
       "पिछड़ी                               49\n",
       "अनारक्षित\\nअनारक्षित                 45\n",
       "महिला\\nमहिला                         26\n",
       "महिला\\nअनारक्षित                     26\n",
       "अनारक्षित\\nमहिला                     25\n",
       "पिछड़ी जाति -                        21\n",
       "पिछडी जाति - महिला                   21\n",
       "अनुसूचित जाति - महिला -              19\n",
       "पिछड़ी जाति\\nअनारक्षित               17\n",
       "अनारक्षित\\nपिछड़ी जाति - महिला       17\n",
       "अनारक्षित\\nअनुसूचित जाति             16\n",
       "अनुसूचित जाति\\nअनारक्षित             15\n",
       "Name: gp_res_status_fin, dtype: int64"
      ]
     },
     "execution_count": 5,
     "metadata": {},
     "output_type": "execute_result"
    }
   ],
   "source": [
    "up_2005['gp_res_status_fin'] = up_2005.apply(lambda x: x['gp_res_status_temp'] if x['gp_res_status_temp'] != '' \n",
    "                            else x['gp_reservation_status'], axis=1)\n",
    "up_2005['gp_res_status_fin'].value_counts()[:24]"
   ]
  },
  {
   "cell_type": "code",
   "execution_count": 6,
   "id": "a72c3303",
   "metadata": {},
   "outputs": [
    {
     "data": {
      "text/plain": [
       "अनारक्षित                14672\n",
       "महिला                    11115\n",
       "अनुसूचित जाति             6635\n",
       "पिछड़ी जाति - महिला       6304\n",
       "पिछड़ी जाति               5406\n",
       "अनुसूचित जाति महिला       2334\n",
       "पिछड़ी जाति महिला         1814\n",
       "अनुसूचित जाति - महिला     1641\n",
       "पिछड़ी जाति - महिला          88\n",
       "पिछडी जाति                  80\n",
       "अनुसूचित                    64\n",
       "पिछड़ी जाति महिला            53\n",
       "Name: gp_res_status_fin, dtype: int64"
      ]
     },
     "execution_count": 6,
     "metadata": {},
     "output_type": "execute_result"
    }
   ],
   "source": [
    "# Normalize\n",
    "up_2005['gp_res_status_fin'] = (up_2005['gp_res_status_fin']\n",
    "                 .str.strip()  # Step 1: Trim leading and trailing spaces   \n",
    "                 .str.replace(r'^(\\s?-\\s?|\\s?--\\s?)|(\\s-|\\s--|\\s---)$', '', regex=True)  # Step 2: Remove specific patterns at the start/end\n",
    "                 .str.strip()  # Step 1: Trim leading and trailing spaces\n",
    "                 .str.replace(r'\\s{2,}', ' ', regex=True).str.strip())  # Step 3: Replace multiple spaces with a single space\n",
    "up_2005['gp_res_status_fin'].value_counts()[:12]"
   ]
  },
  {
   "cell_type": "code",
   "execution_count": 7,
   "id": "78ce9df6",
   "metadata": {},
   "outputs": [
    {
     "data": {
      "text/plain": [
       "अनारक्षित                14672\n",
       "महिला                    11115\n",
       "अनुसूचित जाति             6635\n",
       "पिछड़ी जाति - महिला       6304\n",
       "पिछड़ी जाति               5406\n",
       "अनुसूचित जाति महिला       2334\n",
       "पिछड़ी जाति महिला         1814\n",
       "                          1673\n",
       "अनुसूचित जाति - महिला     1641\n",
       "पिछड़ी जाति - महिला          88\n",
       "पिछडी जाति                  80\n",
       "अनुसूचित                    64\n",
       "पिछड़ी जाति महिला            53\n",
       "Name: gp_res_status_fin, dtype: int64"
      ]
     },
     "execution_count": 7,
     "metadata": {},
     "output_type": "execute_result"
    }
   ],
   "source": [
    "# Define the list of substrings to check for\n",
    "valid_categories = up_2005['gp_res_status_fin'].value_counts()[:12].index.to_list()\n",
    "\n",
    "up_2005['gp_res_status_fin'] = np.where(up_2005['gp_res_status_fin'].isin(valid_categories), up_2005['gp_res_status_fin'], '')\n",
    "up_2005['gp_res_status_fin'].value_counts()[:20]"
   ]
  },
  {
   "cell_type": "code",
   "execution_count": 8,
   "id": "a6c6e3a3",
   "metadata": {},
   "outputs": [
    {
     "data": {
      "text/plain": [
       "Unreserved                       14672\n",
       "Female                           11115\n",
       "Other Backward Class - Female     8259\n",
       "Scheduled Caste                   6635\n",
       "Other Backward Class              5486\n",
       "Scheduled Caste - Female          3975\n",
       "Unknown                           1673\n",
       "Name: gp_res_status_fin_eng, dtype: int64"
      ]
     },
     "execution_count": 8,
     "metadata": {},
     "output_type": "execute_result"
    }
   ],
   "source": [
    "translit_dict = {\n",
    "    'अनारक्षित': 'Unreserved',\n",
    "    'पिछड़ी जाति': 'Other Backward Class',\n",
    "    'महिला': 'Female',\n",
    "    'अनुसूचित जाति': 'Scheduled Caste',\n",
    "    'पिछड़ी जाति - महिला': 'Other Backward Class - Female',\n",
    "    'पिछड़ी जाति महिला': 'Other Backward Class - Female',\n",
    "    'अनुसूचित जाति - महिला': 'Scheduled Caste - Female',\n",
    "    'अनुसूचित जाति महिला': 'Scheduled Caste - Female',\n",
    "    'पिछडी जाति': 'Other Backward Class',\n",
    "    'पिछडी जाति - महिला': 'Other Backward Class - Female',\n",
    "    'पिछड़ी जाति महिला': 'Other Backward Class - Female',\n",
    "    '': 'Unknown',  \n",
    "    'अनुसूचित जन जाति': 'Scheduled Tribe',\n",
    "    'अनुसूचित जन जाति - महिला': 'Scheduled Tribe - Female',\n",
    "    'पिछड़ी जाति - महिला': 'Other Backward Class - Female',\n",
    "    'पिछडी जाति महिला': 'Other Backward Class - Female'\n",
    "}\n",
    "\n",
    "up_2005['gp_res_status_fin_eng'] = up_2005['gp_res_status_fin'].map(translit_dict)\n",
    "up_2005['gp_res_status_fin_eng'].value_counts()"
   ]
  },
  {
   "cell_type": "code",
   "execution_count": 9,
   "id": "194a0e42",
   "metadata": {},
   "outputs": [],
   "source": [
    "def process_info(info):\n",
    "    if not isinstance(info, str):\n",
    "        return \"\", \"\", None  # Handle non-string data directly\n",
    "\n",
    "    # Initialize default values for gender and age\n",
    "    gender = \"\"\n",
    "    age = None\n",
    "\n",
    "    keywords = {'महिला': 'woman', 'पुरुष': 'man'}\n",
    "    age_pattern = re.compile(r'\\b\\d+\\b')  # Matches whole numbers\n",
    "\n",
    "    # Extract age from the string (assuming the first number found is the age)\n",
    "    found_age = age_pattern.findall(info)\n",
    "    if found_age:\n",
    "        age = int(found_age[0])  # Convert the first found age to integer\n",
    "        info = age_pattern.sub(\"\", info).strip()  # Remove the age from the string\n",
    "\n",
    "    # Check for and process keywords\n",
    "    for keyword, eng_gender in keywords.items():\n",
    "        if keyword in info:\n",
    "            gender = keyword #eng_gender\n",
    "            info = info.replace(keyword, '').strip()  # Strip keyword and any extra spaces\n",
    "\n",
    "    return info, gender, age"
   ]
  },
  {
   "cell_type": "markdown",
   "id": "776aacdf",
   "metadata": {},
   "source": [
    "### Split Cols on the Right"
   ]
  },
  {
   "cell_type": "code",
   "execution_count": 10,
   "id": "6b4a835d",
   "metadata": {},
   "outputs": [
    {
     "data": {
      "text/plain": [
       "पिछड़ी जाति                                                   11371\n",
       "पिछड़ी जाति -                                                  9796\n",
       "अनारक्षित                                                      9574\n",
       "अनुसूचित जाति                                                  7977\n",
       "                                                               5294\n",
       "                                                              ...  \n",
       "पिछड़ी जाति - \\n अनुसूचित जाति\\n अनुसूचित जाति                    1\n",
       "पिछड़ी जाति  -\\n अनारक्षित\\n अनारक्षित                            1\n",
       "विद्यादेवी                                                        1\n",
       "अनुसूचित जाति\\n अनुसूचित जाति\\n अनुसूचित जाति                     1\n",
       "उम्मीदवार की\\nआरक्षण श्रेणी\\nअनुसूचित जाति  -\\nपिछड़ी जाति        1\n",
       "Name: candidate_res_status_fin, Length: 277, dtype: int64"
      ]
     },
     "execution_count": 10,
     "metadata": {},
     "output_type": "execute_result"
    }
   ],
   "source": [
    "up_2005['candidate_res_status_fin'], up_2005['cand_sex_t'], up_2005['age_t'] = zip(*up_2005['candidate_res_status'].apply(process_info))\n",
    "up_2005['candidate_res_status_fin'].value_counts()"
   ]
  },
  {
   "cell_type": "code",
   "execution_count": 11,
   "id": "b65e811a",
   "metadata": {},
   "outputs": [
    {
     "data": {
      "text/plain": [
       "         28824\n",
       "महिला    22060\n",
       "पुरुष      995\n",
       "Name: cand_sex_t, dtype: int64"
      ]
     },
     "execution_count": 11,
     "metadata": {},
     "output_type": "execute_result"
    }
   ],
   "source": [
    "up_2005['cand_sex_t'].value_counts()"
   ]
  },
  {
   "cell_type": "code",
   "execution_count": 12,
   "id": "f5ab87e1",
   "metadata": {},
   "outputs": [
    {
     "data": {
      "text/plain": [
       "महिला    26538\n",
       "पुरुष    23662\n",
       "          1679\n",
       "Name: cand_sex_t2, dtype: int64"
      ]
     },
     "execution_count": 12,
     "metadata": {},
     "output_type": "execute_result"
    }
   ],
   "source": [
    "up_2005['educ_t2'], up_2005['cand_sex_t2'], up_2005['age_t2'] = zip(*up_2005['sex'].apply(process_info))\n",
    "up_2005['cand_sex_t2'].value_counts()"
   ]
  },
  {
   "cell_type": "markdown",
   "id": "e5998a37",
   "metadata": {},
   "source": [
    "### Finalize"
   ]
  },
  {
   "cell_type": "code",
   "execution_count": 13,
   "id": "8a5d65ef",
   "metadata": {},
   "outputs": [
    {
     "data": {
      "text/plain": [
       "महिला    26710\n",
       "पुरुष    24564\n",
       "           605\n",
       "Name: cand_sex_fin, dtype: int64"
      ]
     },
     "execution_count": 13,
     "metadata": {},
     "output_type": "execute_result"
    }
   ],
   "source": [
    "# Candidate Sex Final\n",
    "up_2005['cand_sex_fin'] = up_2005.apply(lambda x: x['cand_sex_t'] if x['cand_sex_t2'] == '' else x['cand_sex_t2'], axis=1)\n",
    "up_2005['cand_sex_fin'].value_counts()"
   ]
  },
  {
   "cell_type": "code",
   "execution_count": 14,
   "id": "73b98a80",
   "metadata": {},
   "outputs": [
    {
     "data": {
      "text/plain": [
       "Index(['order', 'page', 'sr_no', 'gp_code', 'gp_name', 'gp_reservation_status',\n",
       "       'elected_sarpanch_name', 'sex', 'candidate_res_status', 'district_code',\n",
       "       'district_name', 'block_code', 'block_name', 'gp_res_status_temp',\n",
       "       'gp_name_fin', 'gp_res_status_fin', 'gp_res_status_fin_eng',\n",
       "       'candidate_res_status_fin', 'cand_sex_t', 'age_t', 'educ_t2',\n",
       "       'cand_sex_t2', 'age_t2', 'cand_sex_fin'],\n",
       "      dtype='object')"
      ]
     },
     "execution_count": 14,
     "metadata": {},
     "output_type": "execute_result"
    }
   ],
   "source": [
    "up_2005.columns"
   ]
  },
  {
   "cell_type": "code",
   "execution_count": 15,
   "id": "898b5fd0",
   "metadata": {},
   "outputs": [
    {
     "data": {
      "text/plain": [
       "Index(['order', 'page', 'sr_no', 'gp_code', 'gp_name', 'gp_reservation_status',\n",
       "       'elected_sarpanch_name', 'sex', 'candidate_res_status', 'district_code',\n",
       "       'district_name', 'block_code', 'block_name', 'gp_name_fin',\n",
       "       'gp_res_status_fin', 'gp_res_status_fin_eng',\n",
       "       'candidate_res_status_fin', 'age_t2', 'cand_sex_fin'],\n",
       "      dtype='object')"
      ]
     },
     "execution_count": 15,
     "metadata": {},
     "output_type": "execute_result"
    }
   ],
   "source": [
    "up_2005.drop(columns =['gp_res_status_temp',\n",
    "              'cand_sex_t', 'age_t', \n",
    "              'educ_t2', 'cand_sex_t2'], inplace = True)\n",
    "up_2005.columns"
   ]
  },
  {
   "cell_type": "code",
   "execution_count": 16,
   "id": "80f57b0c",
   "metadata": {},
   "outputs": [],
   "source": [
    "up_2005.to_csv(\"../data/up_gp_sarpanch_2005_fixed.csv\", index = False)"
   ]
  }
 ],
 "metadata": {
  "kernelspec": {
   "display_name": "Python 3 (ipykernel)",
   "language": "python",
   "name": "python3"
  },
  "language_info": {
   "codemirror_mode": {
    "name": "ipython",
    "version": 3
   },
   "file_extension": ".py",
   "mimetype": "text/x-python",
   "name": "python",
   "nbconvert_exporter": "python",
   "pygments_lexer": "ipython3",
   "version": "3.9.13"
  }
 },
 "nbformat": 4,
 "nbformat_minor": 5
}
