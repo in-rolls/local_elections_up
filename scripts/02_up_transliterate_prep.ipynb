{
 "cells": [
  {
   "cell_type": "code",
   "execution_count": 1,
   "id": "f60579b8",
   "metadata": {},
   "outputs": [],
   "source": [
    "import pandas as pd\n",
    "import numpy as np\n",
    "import os"
   ]
  },
  {
   "cell_type": "code",
   "execution_count": 2,
   "id": "7e008a70",
   "metadata": {},
   "outputs": [
    {
     "data": {
      "text/plain": [
       "Index(['original_filename', 'page', 'order', 'district_name', 'sr_no',\n",
       "       'gp_code', 'block_code', 'block_name', 'sr_gp_combo', 'gp_name',\n",
       "       'gp_reservation_status', 'elected_sarpanch_name', 'husband_spouse_name',\n",
       "       'candidate_res_status', 'age', 'sex', 'education', 'address',\n",
       "       'gp_name_fin', 'gp_res_status_fin', 'gp_res_status_fin_eng',\n",
       "       'candidate_res_status_fin', 'cand_sex_fin', 'age_fin', 'educ_fin',\n",
       "       'educ_fin_eng'],\n",
       "      dtype='object')"
      ]
     },
     "execution_count": 2,
     "metadata": {},
     "output_type": "execute_result"
    }
   ],
   "source": [
    "df = pd.read_csv(\"../data/up_gp_sarpanch_2010_fixed.csv\", low_memory = False)\n",
    "df.columns"
   ]
  },
  {
   "cell_type": "code",
   "execution_count": 3,
   "id": "b7a081c6",
   "metadata": {},
   "outputs": [
    {
     "data": {
      "text/plain": [
       "(155583, 3)"
      ]
     },
     "execution_count": 3,
     "metadata": {},
     "output_type": "execute_result"
    }
   ],
   "source": [
    "selected_df = df[['order', 'gp_name_fin', 'elected_sarpanch_name', 'husband_spouse_name']]\n",
    "\n",
    "long_df = pd.melt(selected_df, id_vars=['order'], var_name='Attribute', value_name='Value')\n",
    "long_df.shape"
   ]
  },
  {
   "cell_type": "code",
   "execution_count": 4,
   "id": "5f2313d4",
   "metadata": {},
   "outputs": [],
   "source": [
    "long_df.replace('', np.nan, inplace=True)\n",
    "long_df.dropna(subset=['Value'], inplace=True)\n",
    "\n",
    "# Remove duplicates\n",
    "long_df.drop_duplicates(subset=['Attribute', 'Value'], inplace=True)"
   ]
  },
  {
   "cell_type": "code",
   "execution_count": 5,
   "id": "641250c8",
   "metadata": {},
   "outputs": [
    {
     "data": {
      "text/plain": [
       "(56903, 3)"
      ]
     },
     "execution_count": 5,
     "metadata": {},
     "output_type": "execute_result"
    }
   ],
   "source": [
    "long_df.shape"
   ]
  },
  {
   "cell_type": "code",
   "execution_count": 6,
   "id": "70cc275f",
   "metadata": {},
   "outputs": [
    {
     "data": {
      "text/html": [
       "<div>\n",
       "<style scoped>\n",
       "    .dataframe tbody tr th:only-of-type {\n",
       "        vertical-align: middle;\n",
       "    }\n",
       "\n",
       "    .dataframe tbody tr th {\n",
       "        vertical-align: top;\n",
       "    }\n",
       "\n",
       "    .dataframe thead th {\n",
       "        text-align: right;\n",
       "    }\n",
       "</style>\n",
       "<table border=\"1\" class=\"dataframe\">\n",
       "  <thead>\n",
       "    <tr style=\"text-align: right;\">\n",
       "      <th></th>\n",
       "      <th>order</th>\n",
       "      <th>Attribute</th>\n",
       "      <th>Value</th>\n",
       "    </tr>\n",
       "  </thead>\n",
       "  <tbody>\n",
       "    <tr>\n",
       "      <th>0</th>\n",
       "      <td>6193</td>\n",
       "      <td>gp_name_fin</td>\n",
       "      <td></td>\n",
       "    </tr>\n",
       "    <tr>\n",
       "      <th>1</th>\n",
       "      <td>9018</td>\n",
       "      <td>gp_name_fin</td>\n",
       "      <td>सिमराया ता ० घुंघचिह</td>\n",
       "    </tr>\n",
       "    <tr>\n",
       "      <th>5</th>\n",
       "      <td>44701</td>\n",
       "      <td>gp_name_fin</td>\n",
       "      <td>बल्लोखास</td>\n",
       "    </tr>\n",
       "    <tr>\n",
       "      <th>16</th>\n",
       "      <td>29955</td>\n",
       "      <td>gp_name_fin</td>\n",
       "      <td>सिसैया दरियाना</td>\n",
       "    </tr>\n",
       "    <tr>\n",
       "      <th>17</th>\n",
       "      <td>31510</td>\n",
       "      <td>gp_name_fin</td>\n",
       "      <td>कीरतपुर</td>\n",
       "    </tr>\n",
       "  </tbody>\n",
       "</table>\n",
       "</div>"
      ],
      "text/plain": [
       "    order    Attribute                 Value\n",
       "0    6193  gp_name_fin                      \n",
       "1    9018  gp_name_fin  सिमराया ता ० घुंघचिह\n",
       "5   44701  gp_name_fin              बल्लोखास\n",
       "16  29955  gp_name_fin        सिसैया दरियाना\n",
       "17  31510  gp_name_fin               कीरतपुर"
      ]
     },
     "execution_count": 6,
     "metadata": {},
     "output_type": "execute_result"
    }
   ],
   "source": [
    "long_df.head()"
   ]
  },
  {
   "cell_type": "code",
   "execution_count": 7,
   "id": "17a6463c",
   "metadata": {},
   "outputs": [],
   "source": [
    "long_df.to_csv(\"../data/trhimachal_transliterate.csv\", index = False)"
   ]
  },
  {
   "cell_type": "code",
   "execution_count": null,
   "id": "e7e36908",
   "metadata": {},
   "outputs": [],
   "source": []
  }
 ],
 "metadata": {
  "kernelspec": {
   "display_name": "Python 3 (ipykernel)",
   "language": "python",
   "name": "python3"
  },
  "language_info": {
   "codemirror_mode": {
    "name": "ipython",
    "version": 3
   },
   "file_extension": ".py",
   "mimetype": "text/x-python",
   "name": "python",
   "nbconvert_exporter": "python",
   "pygments_lexer": "ipython3",
   "version": "3.9.13"
  }
 },
 "nbformat": 4,
 "nbformat_minor": 5
}
