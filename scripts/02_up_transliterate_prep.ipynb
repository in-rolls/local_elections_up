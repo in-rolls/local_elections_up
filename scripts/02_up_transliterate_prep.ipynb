{
 "cells": [
  {
   "cell_type": "markdown",
   "id": "d30c4571",
   "metadata": {},
   "source": [
    "## 2015 and 2021 Transliteration Prep"
   ]
  },
  {
   "cell_type": "code",
   "execution_count": 1,
   "id": "e15edde2",
   "metadata": {},
   "outputs": [],
   "source": [
    "import pandas as pd\n",
    "import numpy as np\n",
    "import os\n",
    "import zipfile\n",
    "from functools import reduce"
   ]
  },
  {
   "cell_type": "markdown",
   "id": "710ab398",
   "metadata": {},
   "source": [
    "### 2021"
   ]
  },
  {
   "cell_type": "code",
   "execution_count": 2,
   "id": "7e008a70",
   "metadata": {},
   "outputs": [],
   "source": [
    "with zipfile.ZipFile(\"../data/up_gram_panchayat_pradhan_2021.csv.zip\", 'r') as zip_ref:\n",
    "    csv_file = [f for f in zip_ref.namelist() if f.endswith('.csv') and not f.startswith('__MACOSX')]\n",
    "    \n",
    "    with zip_ref.open(csv_file[0]) as a_csv_file:\n",
    "        up_2021 = pd.read_csv(a_csv_file, encoding='utf-8')"
   ]
  },
  {
   "cell_type": "code",
   "execution_count": 3,
   "id": "df59bbac",
   "metadata": {},
   "outputs": [],
   "source": [
    "column_transliteration_map = {\n",
    "    'zila': 'district',\n",
    "    'candidate_name_2021': 'candidate',\n",
    "    'father_husband_name_2021': 'father_husband',\n",
    "}\n",
    "\n",
    "up_2021 = up_2021.rename(columns=column_transliteration_map)"
   ]
  },
  {
   "cell_type": "code",
   "execution_count": 4,
   "id": "1961ee93",
   "metadata": {},
   "outputs": [
    {
     "data": {
      "text/html": [
       "<div>\n",
       "<style scoped>\n",
       "    .dataframe tbody tr th:only-of-type {\n",
       "        vertical-align: middle;\n",
       "    }\n",
       "\n",
       "    .dataframe tbody tr th {\n",
       "        vertical-align: top;\n",
       "    }\n",
       "\n",
       "    .dataframe thead th {\n",
       "        text-align: right;\n",
       "    }\n",
       "</style>\n",
       "<table border=\"1\" class=\"dataframe\">\n",
       "  <thead>\n",
       "    <tr style=\"text-align: right;\">\n",
       "      <th></th>\n",
       "      <th>district</th>\n",
       "      <th>block</th>\n",
       "      <th>gram_panchayat</th>\n",
       "      <th>reservation</th>\n",
       "      <th>id</th>\n",
       "      <th>candidate</th>\n",
       "      <th>father_husband</th>\n",
       "      <th>gender_2021</th>\n",
       "      <th>age_2021</th>\n",
       "      <th>education_2021</th>\n",
       "      <th>caste_2021</th>\n",
       "      <th>movable_property</th>\n",
       "      <th>immovable_property</th>\n",
       "      <th>criminal_history_2021</th>\n",
       "      <th>vote_percentage</th>\n",
       "      <th>Unnamed: 15</th>\n",
       "      <th>Unnamed: 16</th>\n",
       "      <th>Unnamed: 17</th>\n",
       "      <th>result</th>\n",
       "    </tr>\n",
       "  </thead>\n",
       "  <tbody>\n",
       "    <tr>\n",
       "      <th>0</th>\n",
       "      <td>अमरोहा</td>\n",
       "      <td>अमरोहा</td>\n",
       "      <td>1-नन्हेड़ा अल्यारपुर</td>\n",
       "      <td>अनुसूचित जाति महिला</td>\n",
       "      <td>356066</td>\n",
       "      <td>मंजू</td>\n",
       "      <td>ओमकार सिंह</td>\n",
       "      <td>महिला</td>\n",
       "      <td>26</td>\n",
       "      <td>प्राईमरी</td>\n",
       "      <td>अनुसूचित जाति</td>\n",
       "      <td>700000</td>\n",
       "      <td>200000</td>\n",
       "      <td>नहीं</td>\n",
       "      <td>46.0</td>\n",
       "      <td>2.56</td>\n",
       "      <td>1.82</td>\n",
       "      <td>जब्त</td>\n",
       "      <td></td>\n",
       "    </tr>\n",
       "    <tr>\n",
       "      <th>1</th>\n",
       "      <td>अमरोहा</td>\n",
       "      <td>अमरोहा</td>\n",
       "      <td>1-नन्हेड़ा अल्यारपुर</td>\n",
       "      <td>अनुसूचित जाति महिला</td>\n",
       "      <td>356517</td>\n",
       "      <td>सुनीता</td>\n",
       "      <td>राजपाल</td>\n",
       "      <td>महिला</td>\n",
       "      <td>37</td>\n",
       "      <td>प्राईमरी</td>\n",
       "      <td>अनुसूचित जाति</td>\n",
       "      <td>210000</td>\n",
       "      <td>250000</td>\n",
       "      <td>नहीं</td>\n",
       "      <td>0.0</td>\n",
       "      <td>0.00</td>\n",
       "      <td>0.00</td>\n",
       "      <td>जब्त</td>\n",
       "      <td></td>\n",
       "    </tr>\n",
       "    <tr>\n",
       "      <th>2</th>\n",
       "      <td>अमरोहा</td>\n",
       "      <td>अमरोहा</td>\n",
       "      <td>1-नन्हेड़ा अल्यारपुर</td>\n",
       "      <td>अनुसूचित जाति महिला</td>\n",
       "      <td>358181</td>\n",
       "      <td>सुमन देवी</td>\n",
       "      <td>छविराम</td>\n",
       "      <td>महिला</td>\n",
       "      <td>36</td>\n",
       "      <td>इंटर</td>\n",
       "      <td>अनुसूचित जाति</td>\n",
       "      <td>250000</td>\n",
       "      <td>3600000</td>\n",
       "      <td>नहीं</td>\n",
       "      <td>12.0</td>\n",
       "      <td>0.67</td>\n",
       "      <td>0.47</td>\n",
       "      <td>जब्त</td>\n",
       "      <td></td>\n",
       "    </tr>\n",
       "    <tr>\n",
       "      <th>3</th>\n",
       "      <td>अमरोहा</td>\n",
       "      <td>अमरोहा</td>\n",
       "      <td>1-नन्हेड़ा अल्यारपुर</td>\n",
       "      <td>अनुसूचित जाति महिला</td>\n",
       "      <td>359116</td>\n",
       "      <td>खजानो</td>\n",
       "      <td>रमेश सिंह</td>\n",
       "      <td>महिला</td>\n",
       "      <td>66</td>\n",
       "      <td>निरक्षर</td>\n",
       "      <td>अनुसूचित जाति</td>\n",
       "      <td>400000</td>\n",
       "      <td>300000</td>\n",
       "      <td>नहीं</td>\n",
       "      <td>33.0</td>\n",
       "      <td>1.84</td>\n",
       "      <td>1.30</td>\n",
       "      <td>जब्त</td>\n",
       "      <td></td>\n",
       "    </tr>\n",
       "    <tr>\n",
       "      <th>4</th>\n",
       "      <td>अमरोहा</td>\n",
       "      <td>अमरोहा</td>\n",
       "      <td>1-नन्हेड़ा अल्यारपुर</td>\n",
       "      <td>अनुसूचित जाति महिला</td>\n",
       "      <td>359870</td>\n",
       "      <td>कमलेश कुमारी</td>\n",
       "      <td>शीशराम</td>\n",
       "      <td>महिला</td>\n",
       "      <td>36</td>\n",
       "      <td>प्राईमरी</td>\n",
       "      <td>अनुसूचित जाति</td>\n",
       "      <td>210000</td>\n",
       "      <td>250000</td>\n",
       "      <td>नहीं</td>\n",
       "      <td>661.0</td>\n",
       "      <td>36.76</td>\n",
       "      <td>26.13</td>\n",
       "      <td>जब्त नहीं</td>\n",
       "      <td>विजेता</td>\n",
       "    </tr>\n",
       "  </tbody>\n",
       "</table>\n",
       "</div>"
      ],
      "text/plain": [
       "  district   block       gram_panchayat          reservation      id  \\\n",
       "0   अमरोहा  अमरोहा  1-नन्हेड़ा अल्यारपुर  अनुसूचित जाति महिला  356066   \n",
       "1   अमरोहा  अमरोहा  1-नन्हेड़ा अल्यारपुर  अनुसूचित जाति महिला  356517   \n",
       "2   अमरोहा  अमरोहा  1-नन्हेड़ा अल्यारपुर  अनुसूचित जाति महिला  358181   \n",
       "3   अमरोहा  अमरोहा  1-नन्हेड़ा अल्यारपुर  अनुसूचित जाति महिला  359116   \n",
       "4   अमरोहा  अमरोहा  1-नन्हेड़ा अल्यारपुर  अनुसूचित जाति महिला  359870   \n",
       "\n",
       "      candidate father_husband gender_2021  age_2021 education_2021  \\\n",
       "0          मंजू     ओमकार सिंह       महिला        26       प्राईमरी   \n",
       "1        सुनीता         राजपाल       महिला        37       प्राईमरी   \n",
       "2     सुमन देवी         छविराम       महिला        36           इंटर   \n",
       "3         खजानो      रमेश सिंह       महिला        66        निरक्षर   \n",
       "4  कमलेश कुमारी         शीशराम       महिला        36       प्राईमरी   \n",
       "\n",
       "      caste_2021  movable_property  immovable_property criminal_history_2021  \\\n",
       "0  अनुसूचित जाति            700000              200000                  नहीं   \n",
       "1  अनुसूचित जाति            210000              250000                  नहीं   \n",
       "2  अनुसूचित जाति            250000             3600000                  नहीं   \n",
       "3  अनुसूचित जाति            400000              300000                  नहीं   \n",
       "4  अनुसूचित जाति            210000              250000                  नहीं   \n",
       "\n",
       "   vote_percentage  Unnamed: 15  Unnamed: 16 Unnamed: 17  result  \n",
       "0             46.0         2.56         1.82        जब्त          \n",
       "1              0.0         0.00         0.00        जब्त          \n",
       "2             12.0         0.67         0.47        जब्त          \n",
       "3             33.0         1.84         1.30        जब्त          \n",
       "4            661.0        36.76        26.13   जब्त नहीं  विजेता  "
      ]
     },
     "execution_count": 4,
     "metadata": {},
     "output_type": "execute_result"
    }
   ],
   "source": [
    "up_2021.head()"
   ]
  },
  {
   "cell_type": "code",
   "execution_count": 5,
   "id": "b7a081c6",
   "metadata": {},
   "outputs": [
    {
     "data": {
      "text/plain": [
       "(1865480, 2)"
      ]
     },
     "execution_count": 5,
     "metadata": {},
     "output_type": "execute_result"
    }
   ],
   "source": [
    "selected_up_2021 = up_2021[['district', 'block', 'gram_panchayat', 'candidate', 'father_husband']]\n",
    "\n",
    "long_up_2021 = pd.melt(selected_up_2021, var_name='Attribute', value_name='Value')\n",
    "long_up_2021.shape"
   ]
  },
  {
   "cell_type": "code",
   "execution_count": 6,
   "id": "5f2313d4",
   "metadata": {},
   "outputs": [],
   "source": [
    "long_up_2021.replace('', np.nan, inplace=True)\n",
    "long_up_2021.dropna(subset=['Value'], inplace=True)\n",
    "long_up_2021.drop_duplicates(subset=['Attribute', 'Value'], inplace=True)"
   ]
  },
  {
   "cell_type": "code",
   "execution_count": 7,
   "id": "641250c8",
   "metadata": {},
   "outputs": [
    {
     "data": {
      "text/plain": [
       "(216821, 2)"
      ]
     },
     "execution_count": 7,
     "metadata": {},
     "output_type": "execute_result"
    }
   ],
   "source": [
    "long_up_2021.shape"
   ]
  },
  {
   "cell_type": "code",
   "execution_count": 8,
   "id": "70cc275f",
   "metadata": {},
   "outputs": [
    {
     "data": {
      "text/html": [
       "<div>\n",
       "<style scoped>\n",
       "    .dataframe tbody tr th:only-of-type {\n",
       "        vertical-align: middle;\n",
       "    }\n",
       "\n",
       "    .dataframe tbody tr th {\n",
       "        vertical-align: top;\n",
       "    }\n",
       "\n",
       "    .dataframe thead th {\n",
       "        text-align: right;\n",
       "    }\n",
       "</style>\n",
       "<table border=\"1\" class=\"dataframe\">\n",
       "  <thead>\n",
       "    <tr style=\"text-align: right;\">\n",
       "      <th></th>\n",
       "      <th>Attribute</th>\n",
       "      <th>Value</th>\n",
       "    </tr>\n",
       "  </thead>\n",
       "  <tbody>\n",
       "    <tr>\n",
       "      <th>0</th>\n",
       "      <td>district</td>\n",
       "      <td>अमरोहा</td>\n",
       "    </tr>\n",
       "    <tr>\n",
       "      <th>4966</th>\n",
       "      <td>district</td>\n",
       "      <td>अमेठी</td>\n",
       "    </tr>\n",
       "    <tr>\n",
       "      <th>10215</th>\n",
       "      <td>district</td>\n",
       "      <td>अम्बेडकर नगर</td>\n",
       "    </tr>\n",
       "    <tr>\n",
       "      <th>16656</th>\n",
       "      <td>district</td>\n",
       "      <td>अलीगढ़</td>\n",
       "    </tr>\n",
       "    <tr>\n",
       "      <th>19807</th>\n",
       "      <td>district</td>\n",
       "      <td>आगरा</td>\n",
       "    </tr>\n",
       "  </tbody>\n",
       "</table>\n",
       "</div>"
      ],
      "text/plain": [
       "      Attribute         Value\n",
       "0      district        अमरोहा\n",
       "4966   district         अमेठी\n",
       "10215  district  अम्बेडकर नगर\n",
       "16656  district         अलीगढ़\n",
       "19807  district          आगरा"
      ]
     },
     "execution_count": 8,
     "metadata": {},
     "output_type": "execute_result"
    }
   ],
   "source": [
    "long_up_2021.head()"
   ]
  },
  {
   "cell_type": "code",
   "execution_count": 9,
   "id": "17a6463c",
   "metadata": {},
   "outputs": [],
   "source": [
    "long_up_2021.to_csv(\"../data/transliteration/up_gp_sarpanch_2021_transliterate_prep.csv\", index = False)"
   ]
  },
  {
   "cell_type": "markdown",
   "id": "d53ccb5e",
   "metadata": {},
   "source": [
    "### 2015"
   ]
  },
  {
   "cell_type": "code",
   "execution_count": 10,
   "id": "c20aae40",
   "metadata": {},
   "outputs": [],
   "source": [
    "dataframes = []\n",
    "folder_path = \"../data/2015\"\n",
    "\n",
    "for file_name in os.listdir(folder_path):\n",
    "    if file_name.endswith('.csv'):\n",
    "        file_path = os.path.join(folder_path, file_name)\n",
    "        df = pd.read_csv(file_path)\n",
    "        dataframes.append(df)\n",
    "\n",
    "up_2015 = pd.concat(dataframes, ignore_index=True)"
   ]
  },
  {
   "cell_type": "code",
   "execution_count": 11,
   "id": "c23f7fb8",
   "metadata": {},
   "outputs": [],
   "source": [
    "column_transliteration_map = {\n",
    "    'ब्लॉक': 'block',\n",
    "    'ग्राम पंचायत': 'gram_panchayat',\n",
    "    'पद का आरक्षण': 'reservation_of_position',\n",
    "    'उम्मीदवार': 'candidate',\n",
    "    'पिता/पति': 'father_husband',\n",
    "    'प्रत्याशी का आरक्षण': 'candidate_reservation',\n",
    "    'शैक्षिक योग्यता': 'educational_qualification',\n",
    "    'लिंग': 'gender',\n",
    "    'मोबाइल नं०': 'mobile_number',\n",
    "    'प्राप्त वैध मत': 'valid_votes_received',\n",
    "    'प्राप्त मत %': 'votes_received_percent',\n",
    "    'मतदान %': 'voting_percent',\n",
    "    'परिणाम': 'result',\n",
    "    'जिला पंचायत': 'district_panchayat',\n",
    "    'क्षेत्र पंचायत वार्ड': 'area_panchayat_ward',\n",
    "    'जिला पंचायत वार्ड': 'district_panchayat_ward',\n",
    "    'जिला': 'district',\n",
    "    'क्षेत्र पंचायत': 'area_panchayat'\n",
    "}\n",
    "\n",
    "up_2015 = up_2015.rename(columns=column_transliteration_map)"
   ]
  },
  {
   "cell_type": "code",
   "execution_count": 12,
   "id": "fd68b1b2",
   "metadata": {},
   "outputs": [
    {
     "data": {
      "text/plain": [
       "(1033165, 2)"
      ]
     },
     "execution_count": 12,
     "metadata": {},
     "output_type": "execute_result"
    }
   ],
   "source": [
    "selected_up_2015 = up_2015[['district', 'block', 'gram_panchayat', 'candidate', 'father_husband']]\n",
    "\n",
    "long_up_2015 = pd.melt(selected_up_2015, var_name='Attribute', value_name='Value')\n",
    "long_up_2015.shape"
   ]
  },
  {
   "cell_type": "code",
   "execution_count": 13,
   "id": "c95bf8dd",
   "metadata": {},
   "outputs": [],
   "source": [
    "long_up_2015.replace('', np.nan, inplace=True)\n",
    "long_up_2015.dropna(subset=['Value'], inplace=True)\n",
    "long_up_2015.drop_duplicates(subset=['Attribute', 'Value'], inplace=True)"
   ]
  },
  {
   "cell_type": "code",
   "execution_count": 14,
   "id": "8ddc7dcc",
   "metadata": {},
   "outputs": [
    {
     "data": {
      "text/plain": [
       "(136833, 2)"
      ]
     },
     "execution_count": 14,
     "metadata": {},
     "output_type": "execute_result"
    }
   ],
   "source": [
    "long_up_2015.shape"
   ]
  },
  {
   "cell_type": "code",
   "execution_count": 15,
   "id": "1a01510a",
   "metadata": {},
   "outputs": [
    {
     "data": {
      "text/html": [
       "<div>\n",
       "<style scoped>\n",
       "    .dataframe tbody tr th:only-of-type {\n",
       "        vertical-align: middle;\n",
       "    }\n",
       "\n",
       "    .dataframe tbody tr th {\n",
       "        vertical-align: top;\n",
       "    }\n",
       "\n",
       "    .dataframe thead th {\n",
       "        text-align: right;\n",
       "    }\n",
       "</style>\n",
       "<table border=\"1\" class=\"dataframe\">\n",
       "  <thead>\n",
       "    <tr style=\"text-align: right;\">\n",
       "      <th></th>\n",
       "      <th>Attribute</th>\n",
       "      <th>Value</th>\n",
       "    </tr>\n",
       "  </thead>\n",
       "  <tbody>\n",
       "    <tr>\n",
       "      <th>0</th>\n",
       "      <td>district</td>\n",
       "      <td>अमरोहा</td>\n",
       "    </tr>\n",
       "    <tr>\n",
       "      <th>4966</th>\n",
       "      <td>district</td>\n",
       "      <td>अमेठी</td>\n",
       "    </tr>\n",
       "    <tr>\n",
       "      <th>10215</th>\n",
       "      <td>district</td>\n",
       "      <td>अम्बेडकर नगर</td>\n",
       "    </tr>\n",
       "    <tr>\n",
       "      <th>16656</th>\n",
       "      <td>district</td>\n",
       "      <td>अलीगढ़</td>\n",
       "    </tr>\n",
       "    <tr>\n",
       "      <th>19807</th>\n",
       "      <td>district</td>\n",
       "      <td>आगरा</td>\n",
       "    </tr>\n",
       "  </tbody>\n",
       "</table>\n",
       "</div>"
      ],
      "text/plain": [
       "      Attribute         Value\n",
       "0      district        अमरोहा\n",
       "4966   district         अमेठी\n",
       "10215  district  अम्बेडकर नगर\n",
       "16656  district         अलीगढ़\n",
       "19807  district          आगरा"
      ]
     },
     "execution_count": 15,
     "metadata": {},
     "output_type": "execute_result"
    }
   ],
   "source": [
    "long_up_2021.head()"
   ]
  },
  {
   "cell_type": "code",
   "execution_count": 16,
   "id": "87a06d68",
   "metadata": {},
   "outputs": [],
   "source": [
    "long_up_2015.to_csv(\"../data/transliteration/up_gp_sarpanch_2015_transliterate_prep.csv\", index = False)"
   ]
  },
  {
   "cell_type": "code",
   "execution_count": 17,
   "id": "a7814ca5",
   "metadata": {},
   "outputs": [
    {
     "data": {
      "text/plain": [
       "(316060, 2)"
      ]
     },
     "execution_count": 17,
     "metadata": {},
     "output_type": "execute_result"
    }
   ],
   "source": [
    "up_2015_2021 = pd.concat([long_up_2015, long_up_2021])\n",
    "up_2015_2021.drop_duplicates(subset=['Attribute', 'Value'], inplace=True)\n",
    "up_2015_2021.shape"
   ]
  },
  {
   "cell_type": "code",
   "execution_count": 18,
   "id": "6ba86cd9",
   "metadata": {},
   "outputs": [],
   "source": [
    "# Load existing transliterations\n",
    "up_2005_trans = pd.read_csv(\"../data/transliteration/up_gp_sarpanch_2005_transliterate_out.csv\", low_memory = False)\n",
    "up_2010_trans = pd.read_csv(\"../data/transliteration/up_gp_sarpanch_2010_transliterate_out.csv\", low_memory = False)"
   ]
  },
  {
   "cell_type": "code",
   "execution_count": 19,
   "id": "81e895b9",
   "metadata": {},
   "outputs": [],
   "source": [
    "district_translit = pd.read_csv(\"../data/transliteration/district_official_hindi_english.csv\")\n",
    "block_translit = pd.read_csv(\"../data/transliteration/block_name_transliteration.csv\")"
   ]
  },
  {
   "cell_type": "code",
   "execution_count": 20,
   "id": "53b396bb",
   "metadata": {},
   "outputs": [
    {
     "data": {
      "text/plain": [
       "79628"
      ]
     },
     "execution_count": 20,
     "metadata": {},
     "output_type": "execute_result"
    }
   ],
   "source": [
    "# Let's convert to dict\n",
    "mapping_dict_1 = up_2005_trans.set_index('Name')['Transliterated'].str.strip().to_dict()\n",
    "mapping_dict_2 = up_2010_trans.set_index('Name')['Transliterated'].str.strip().to_dict()\n",
    "mapping_dict_3 = district_translit.set_index('hindi')['eng'].str.strip().to_dict()\n",
    "mapping_dict_4 = block_translit.set_index('hindi')['eng'].str.strip().to_dict()\n",
    "\n",
    "merged_dict = reduce(lambda x, y: x | y, [mapping_dict_1, mapping_dict_2, mapping_dict_3, mapping_dict_4])\n",
    "len(merged_dict)"
   ]
  },
  {
   "cell_type": "code",
   "execution_count": 21,
   "id": "3fd1a608",
   "metadata": {},
   "outputs": [
    {
     "data": {
      "text/plain": [
       "(282070, 2)"
      ]
     },
     "execution_count": 21,
     "metadata": {},
     "output_type": "execute_result"
    }
   ],
   "source": [
    "df_filtered = up_2015_2021[~up_2015_2021['Value'].isin(merged_dict.keys())]\n",
    "df_filtered.shape"
   ]
  },
  {
   "cell_type": "code",
   "execution_count": 22,
   "id": "b2e187bc",
   "metadata": {},
   "outputs": [],
   "source": [
    "df_filtered.to_csv(\"../data/transliteration/up_2015_2021_remaining_transliteration_prep.csv\", index = False)"
   ]
  },
  {
   "cell_type": "code",
   "execution_count": null,
   "id": "fde7c797",
   "metadata": {},
   "outputs": [],
   "source": []
  }
 ],
 "metadata": {
  "kernelspec": {
   "display_name": "Python 3 (ipykernel)",
   "language": "python",
   "name": "python3"
  },
  "language_info": {
   "codemirror_mode": {
    "name": "ipython",
    "version": 3
   },
   "file_extension": ".py",
   "mimetype": "text/x-python",
   "name": "python",
   "nbconvert_exporter": "python",
   "pygments_lexer": "ipython3",
   "version": "3.9.13"
  }
 },
 "nbformat": 4,
 "nbformat_minor": 5
}
