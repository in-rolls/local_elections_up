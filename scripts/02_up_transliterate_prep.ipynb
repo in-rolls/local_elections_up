{
 "cells": [
  {
   "cell_type": "code",
   "execution_count": 17,
   "id": "f60579b8",
   "metadata": {},
   "outputs": [],
   "source": [
    "import pandas as pd\n",
    "import numpy as np\n",
    "import os"
   ]
  },
  {
   "cell_type": "code",
   "execution_count": 19,
   "id": "2bb2e234",
   "metadata": {},
   "outputs": [],
   "source": [
    "os.chdir(\"/Users/soodoku/Downloads/\")"
   ]
  },
  {
   "cell_type": "code",
   "execution_count": 20,
   "id": "7e008a70",
   "metadata": {},
   "outputs": [
    {
     "data": {
      "text/plain": [
       "Index(['number', 'id', 'elector_name', 'father_or_husband_name',\n",
       "       'relationship', 'house_no', 'age', 'sex', 'ac_name',\n",
       "       'parl_constituency', 'part_no', 'year', 'state', 'filename',\n",
       "       'main_town', 'police_station', 'mandal', 'revenue_division', 'district',\n",
       "       'pin_code', 'polling_station_name', 'polling_station_address',\n",
       "       'net_electors_male', 'net_electors_female', 'net_electors_third_gender',\n",
       "       'net_electors_total'],\n",
       "      dtype='object')"
      ]
     },
     "execution_count": 20,
     "metadata": {},
     "output_type": "execute_result"
    }
   ],
   "source": [
    "df = pd.read_csv(\"himachal_all.csv\", low_memory = False)\n",
    "df.columns"
   ]
  },
  {
   "cell_type": "code",
   "execution_count": 21,
   "id": "2ed74818",
   "metadata": {},
   "outputs": [
    {
     "data": {
      "text/html": [
       "<div>\n",
       "<style scoped>\n",
       "    .dataframe tbody tr th:only-of-type {\n",
       "        vertical-align: middle;\n",
       "    }\n",
       "\n",
       "    .dataframe tbody tr th {\n",
       "        vertical-align: top;\n",
       "    }\n",
       "\n",
       "    .dataframe thead th {\n",
       "        text-align: right;\n",
       "    }\n",
       "</style>\n",
       "<table border=\"1\" class=\"dataframe\">\n",
       "  <thead>\n",
       "    <tr style=\"text-align: right;\">\n",
       "      <th></th>\n",
       "      <th>number</th>\n",
       "      <th>id</th>\n",
       "      <th>elector_name</th>\n",
       "      <th>father_or_husband_name</th>\n",
       "      <th>relationship</th>\n",
       "      <th>house_no</th>\n",
       "      <th>age</th>\n",
       "      <th>sex</th>\n",
       "      <th>ac_name</th>\n",
       "      <th>parl_constituency</th>\n",
       "      <th>...</th>\n",
       "      <th>mandal</th>\n",
       "      <th>revenue_division</th>\n",
       "      <th>district</th>\n",
       "      <th>pin_code</th>\n",
       "      <th>polling_station_name</th>\n",
       "      <th>polling_station_address</th>\n",
       "      <th>net_electors_male</th>\n",
       "      <th>net_electors_female</th>\n",
       "      <th>net_electors_third_gender</th>\n",
       "      <th>net_electors_total</th>\n",
       "    </tr>\n",
       "  </thead>\n",
       "  <tbody>\n",
       "    <tr>\n",
       "      <th>0</th>\n",
       "      <td>)</td>\n",
       "      <td>MGV0623512</td>\n",
       "      <td>आत्म देई</td>\n",
       "      <td>दीवान सिंह</td>\n",
       "      <td>Husband</td>\n",
       "      <td>17</td>\n",
       "      <td>64</td>\n",
       "      <td>महिला</td>\n",
       "      <td>1 , युराह (अ.जा.)</td>\n",
       "      <td>कांगड़ा (सामान्य)</td>\n",
       "      <td>...</td>\n",
       "      <td>We</td>\n",
       "      <td>बेरागढ</td>\n",
       "      <td>चम्बा</td>\n",
       "      <td>176316</td>\n",
       "      <td>1, Ie</td>\n",
       "      <td>रा.व.मा.पा. बैरागढ,</td>\n",
       "      <td>236</td>\n",
       "      <td>223</td>\n",
       "      <td>0.0</td>\n",
       "      <td>459</td>\n",
       "    </tr>\n",
       "    <tr>\n",
       "      <th>1</th>\n",
       "      <td>27</td>\n",
       "      <td>MGV0624148</td>\n",
       "      <td>राम देई</td>\n",
       "      <td>दीवान चन्द</td>\n",
       "      <td>Father</td>\n",
       "      <td>27</td>\n",
       "      <td>42</td>\n",
       "      <td>महिला</td>\n",
       "      <td>1 , युराह (अ.जा.)</td>\n",
       "      <td>कांगड़ा (सामान्य)</td>\n",
       "      <td>...</td>\n",
       "      <td>We</td>\n",
       "      <td>बेरागढ</td>\n",
       "      <td>चम्बा</td>\n",
       "      <td>176316</td>\n",
       "      <td>1, Ie</td>\n",
       "      <td>रा.व.मा.पा. बैरागढ,</td>\n",
       "      <td>236</td>\n",
       "      <td>223</td>\n",
       "      <td>0.0</td>\n",
       "      <td>459</td>\n",
       "    </tr>\n",
       "    <tr>\n",
       "      <th>2</th>\n",
       "      <td>3</td>\n",
       "      <td>NUU0025064</td>\n",
       "      <td>बिजेन्द्र सिंह</td>\n",
       "      <td>दीवान चन्द</td>\n",
       "      <td>Father</td>\n",
       "      <td>7</td>\n",
       "      <td>33</td>\n",
       "      <td>पुरूष</td>\n",
       "      <td>1 , युराह (अ.जा.)</td>\n",
       "      <td>कांगड़ा (सामान्य)</td>\n",
       "      <td>...</td>\n",
       "      <td>We</td>\n",
       "      <td>बेरागढ</td>\n",
       "      <td>चम्बा</td>\n",
       "      <td>176316</td>\n",
       "      <td>1, Ie</td>\n",
       "      <td>रा.व.मा.पा. बैरागढ,</td>\n",
       "      <td>236</td>\n",
       "      <td>223</td>\n",
       "      <td>0.0</td>\n",
       "      <td>459</td>\n",
       "    </tr>\n",
       "    <tr>\n",
       "      <th>3</th>\n",
       "      <td>4</td>\n",
       "      <td>NUU0002451</td>\n",
       "      <td>मेहताब आली</td>\n",
       "      <td>शरीफ मुहमद</td>\n",
       "      <td>Father</td>\n",
       "      <td>12</td>\n",
       "      <td>40</td>\n",
       "      <td>पुरूष</td>\n",
       "      <td>1 , युराह (अ.जा.)</td>\n",
       "      <td>कांगड़ा (सामान्य)</td>\n",
       "      <td>...</td>\n",
       "      <td>We</td>\n",
       "      <td>बेरागढ</td>\n",
       "      <td>चम्बा</td>\n",
       "      <td>176316</td>\n",
       "      <td>1, Ie</td>\n",
       "      <td>रा.व.मा.पा. बैरागढ,</td>\n",
       "      <td>236</td>\n",
       "      <td>223</td>\n",
       "      <td>0.0</td>\n",
       "      <td>459</td>\n",
       "    </tr>\n",
       "    <tr>\n",
       "      <th>4</th>\n",
       "      <td>5</td>\n",
       "      <td>NUU0025080</td>\n",
       "      <td>नजमा बेगम</td>\n",
       "      <td>मेहताब आली</td>\n",
       "      <td>Husband</td>\n",
       "      <td>12</td>\n",
       "      <td>35</td>\n",
       "      <td>महिला</td>\n",
       "      <td>1 , युराह (अ.जा.)</td>\n",
       "      <td>कांगड़ा (सामान्य)</td>\n",
       "      <td>...</td>\n",
       "      <td>We</td>\n",
       "      <td>बेरागढ</td>\n",
       "      <td>चम्बा</td>\n",
       "      <td>176316</td>\n",
       "      <td>1, Ie</td>\n",
       "      <td>रा.व.मा.पा. बैरागढ,</td>\n",
       "      <td>236</td>\n",
       "      <td>223</td>\n",
       "      <td>0.0</td>\n",
       "      <td>459</td>\n",
       "    </tr>\n",
       "  </tbody>\n",
       "</table>\n",
       "<p>5 rows × 26 columns</p>\n",
       "</div>"
      ],
      "text/plain": [
       "  number          id     elector_name father_or_husband_name relationship  \\\n",
       "0      )  MGV0623512        आत्म देई             दीवान सिंह       Husband   \n",
       "1     27  MGV0624148         राम देई             दीवान चन्द        Father   \n",
       "2      3  NUU0025064  बिजेन्द्र सिंह             दीवान चन्द        Father   \n",
       "3      4  NUU0002451      मेहताब आली             शरीफ मुहमद        Father   \n",
       "4      5  NUU0025080       नजमा बेगम             मेहताब आली       Husband   \n",
       "\n",
       "  house_no age    sex            ac_name  parl_constituency  ... mandal  \\\n",
       "0       17  64  महिला  1 , युराह (अ.जा.)  कांगड़ा (सामान्य)  ...     We   \n",
       "1       27  42  महिला  1 , युराह (अ.जा.)  कांगड़ा (सामान्य)  ...     We   \n",
       "2        7  33  पुरूष  1 , युराह (अ.जा.)  कांगड़ा (सामान्य)  ...     We   \n",
       "3       12  40  पुरूष  1 , युराह (अ.जा.)  कांगड़ा (सामान्य)  ...     We   \n",
       "4       12  35  महिला  1 , युराह (अ.जा.)  कांगड़ा (सामान्य)  ...     We   \n",
       "\n",
       "   revenue_division district pin_code polling_station_name  \\\n",
       "0            बेरागढ    चम्बा   176316                1, Ie   \n",
       "1            बेरागढ    चम्बा   176316                1, Ie   \n",
       "2            बेरागढ    चम्बा   176316                1, Ie   \n",
       "3            बेरागढ    चम्बा   176316                1, Ie   \n",
       "4            बेरागढ    चम्बा   176316                1, Ie   \n",
       "\n",
       "  polling_station_address net_electors_male net_electors_female  \\\n",
       "0     रा.व.मा.पा. बैरागढ,               236                 223   \n",
       "1     रा.व.मा.पा. बैरागढ,               236                 223   \n",
       "2     रा.व.मा.पा. बैरागढ,               236                 223   \n",
       "3     रा.व.मा.पा. बैरागढ,               236                 223   \n",
       "4     रा.व.मा.पा. बैरागढ,               236                 223   \n",
       "\n",
       "  net_electors_third_gender net_electors_total  \n",
       "0                       0.0                459  \n",
       "1                       0.0                459  \n",
       "2                       0.0                459  \n",
       "3                       0.0                459  \n",
       "4                       0.0                459  \n",
       "\n",
       "[5 rows x 26 columns]"
      ]
     },
     "execution_count": 21,
     "metadata": {},
     "output_type": "execute_result"
    }
   ],
   "source": [
    "df.head()"
   ]
  },
  {
   "cell_type": "code",
   "execution_count": 22,
   "id": "b7a081c6",
   "metadata": {},
   "outputs": [
    {
     "data": {
      "text/plain": [
       "(9339672, 3)"
      ]
     },
     "execution_count": 22,
     "metadata": {},
     "output_type": "execute_result"
    }
   ],
   "source": [
    "selected_df = df[['id', 'elector_name', 'father_or_husband_name']]\n",
    "\n",
    "long_df = pd.melt(selected_df, id_vars=['id'], var_name='Attribute', value_name='Value')\n",
    "long_df.shape"
   ]
  },
  {
   "cell_type": "code",
   "execution_count": 23,
   "id": "5f2313d4",
   "metadata": {},
   "outputs": [],
   "source": [
    "long_df.replace('', np.nan, inplace=True)\n",
    "long_df.dropna(subset=['Value'], inplace=True)\n",
    "\n",
    "# Remove duplicates\n",
    "long_df.drop_duplicates(subset=['Attribute', 'Value'], inplace=True)"
   ]
  },
  {
   "cell_type": "code",
   "execution_count": 24,
   "id": "641250c8",
   "metadata": {},
   "outputs": [
    {
     "data": {
      "text/plain": [
       "(739141, 3)"
      ]
     },
     "execution_count": 24,
     "metadata": {},
     "output_type": "execute_result"
    }
   ],
   "source": [
    "long_df.shape"
   ]
  },
  {
   "cell_type": "code",
   "execution_count": 25,
   "id": "70cc275f",
   "metadata": {},
   "outputs": [
    {
     "data": {
      "text/html": [
       "<div>\n",
       "<style scoped>\n",
       "    .dataframe tbody tr th:only-of-type {\n",
       "        vertical-align: middle;\n",
       "    }\n",
       "\n",
       "    .dataframe tbody tr th {\n",
       "        vertical-align: top;\n",
       "    }\n",
       "\n",
       "    .dataframe thead th {\n",
       "        text-align: right;\n",
       "    }\n",
       "</style>\n",
       "<table border=\"1\" class=\"dataframe\">\n",
       "  <thead>\n",
       "    <tr style=\"text-align: right;\">\n",
       "      <th></th>\n",
       "      <th>id</th>\n",
       "      <th>Attribute</th>\n",
       "      <th>Value</th>\n",
       "    </tr>\n",
       "  </thead>\n",
       "  <tbody>\n",
       "    <tr>\n",
       "      <th>0</th>\n",
       "      <td>MGV0623512</td>\n",
       "      <td>elector_name</td>\n",
       "      <td>आत्म देई</td>\n",
       "    </tr>\n",
       "    <tr>\n",
       "      <th>1</th>\n",
       "      <td>MGV0624148</td>\n",
       "      <td>elector_name</td>\n",
       "      <td>राम देई</td>\n",
       "    </tr>\n",
       "    <tr>\n",
       "      <th>2</th>\n",
       "      <td>NUU0025064</td>\n",
       "      <td>elector_name</td>\n",
       "      <td>बिजेन्द्र सिंह</td>\n",
       "    </tr>\n",
       "    <tr>\n",
       "      <th>3</th>\n",
       "      <td>NUU0002451</td>\n",
       "      <td>elector_name</td>\n",
       "      <td>मेहताब आली</td>\n",
       "    </tr>\n",
       "    <tr>\n",
       "      <th>4</th>\n",
       "      <td>NUU0025080</td>\n",
       "      <td>elector_name</td>\n",
       "      <td>नजमा बेगम</td>\n",
       "    </tr>\n",
       "  </tbody>\n",
       "</table>\n",
       "</div>"
      ],
      "text/plain": [
       "           id     Attribute            Value\n",
       "0  MGV0623512  elector_name        आत्म देई \n",
       "1  MGV0624148  elector_name         राम देई \n",
       "2  NUU0025064  elector_name  बिजेन्द्र सिंह \n",
       "3  NUU0002451  elector_name      मेहताब आली \n",
       "4  NUU0025080  elector_name       नजमा बेगम "
      ]
     },
     "execution_count": 25,
     "metadata": {},
     "output_type": "execute_result"
    }
   ],
   "source": [
    "long_df.head()"
   ]
  },
  {
   "cell_type": "code",
   "execution_count": 26,
   "id": "17a6463c",
   "metadata": {},
   "outputs": [],
   "source": [
    "long_df.to_csv(\"himachal_transliterate.csv\", index = False)"
   ]
  },
  {
   "cell_type": "code",
   "execution_count": null,
   "id": "e7e36908",
   "metadata": {},
   "outputs": [],
   "source": []
  }
 ],
 "metadata": {
  "kernelspec": {
   "display_name": "Python 3 (ipykernel)",
   "language": "python",
   "name": "python3"
  },
  "language_info": {
   "codemirror_mode": {
    "name": "ipython",
    "version": 3
   },
   "file_extension": ".py",
   "mimetype": "text/x-python",
   "name": "python",
   "nbconvert_exporter": "python",
   "pygments_lexer": "ipython3",
   "version": "3.9.13"
  }
 },
 "nbformat": 4,
 "nbformat_minor": 5
}
