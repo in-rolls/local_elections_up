{
 "cells": [
  {
   "cell_type": "code",
   "execution_count": 1,
   "id": "2474c30b",
   "metadata": {},
   "outputs": [],
   "source": [
    "import pandas as pd\n",
    "from functools import reduce\n",
    "import os\n",
    "import zipfile"
   ]
  },
  {
   "cell_type": "markdown",
   "id": "362c30cd",
   "metadata": {},
   "source": [
    "### Load dat"
   ]
  },
  {
   "cell_type": "code",
   "execution_count": 2,
   "id": "aac4fafe",
   "metadata": {},
   "outputs": [],
   "source": [
    "up_2005 = pd.read_csv(\"../data/up_gp_sarpanch_2005_fixed.csv\", low_memory = False)\n",
    "up_2010 = pd.read_csv(\"../data/up_gp_sarpanch_2010_fixed.csv\", low_memory = False)"
   ]
  },
  {
   "cell_type": "code",
   "execution_count": 3,
   "id": "ef17cd10",
   "metadata": {},
   "outputs": [],
   "source": [
    "# 2015\n",
    "dataframes = []\n",
    "folder_path = \"../data/2015\"\n",
    "\n",
    "for file_name in os.listdir(folder_path):\n",
    "    if file_name.endswith('.csv'):\n",
    "        file_path = os.path.join(folder_path, file_name)\n",
    "        df = pd.read_csv(file_path)\n",
    "        dataframes.append(df)\n",
    "\n",
    "up_2015 = pd.concat(dataframes, ignore_index=True)\n",
    "\n",
    "column_transliteration_map = {\n",
    "    'ब्लॉक': 'block_name',\n",
    "    'ग्राम पंचायत': 'gp_name',\n",
    "    'पद का आरक्षण': 'gp_reservation_status',\n",
    "    'उम्मीदवार': 'candidate',\n",
    "    'पिता/पति': 'father_husband',\n",
    "    'प्रत्याशी का आरक्षण': 'candidate_reservation',\n",
    "    'शैक्षिक योग्यता': 'educational_qualification',\n",
    "    'लिंग': 'sex',\n",
    "    'मोबाइल नं०': 'mobile_number',\n",
    "    'प्राप्त वैध मत': 'valid_votes_received',\n",
    "    'प्राप्त मत %': 'votes_received_percent',\n",
    "    'मतदान %': 'voting_percent',\n",
    "    'परिणाम': 'result',\n",
    "    'जिला पंचायत': 'district_panchayat',\n",
    "    'क्षेत्र पंचायत वार्ड': 'area_panchayat_ward',\n",
    "    'जिला पंचायत वार्ड': 'district_panchayat_ward',\n",
    "    'जिला': 'district_name',\n",
    "    'क्षेत्र पंचायत': 'area_panchayat'\n",
    "}\n",
    "\n",
    "up_2015 = up_2015.rename(columns=column_transliteration_map)"
   ]
  },
  {
   "cell_type": "code",
   "execution_count": 4,
   "id": "2f4c4080",
   "metadata": {},
   "outputs": [],
   "source": [
    "# 2021\n",
    "with zipfile.ZipFile(\"../data/up_gram_panchayat_pradhan_2021.csv.zip\", 'r') as zip_ref:\n",
    "    csv_file = [f for f in zip_ref.namelist() if f.endswith('.csv') and not f.startswith('__MACOSX')]\n",
    "    \n",
    "    with zip_ref.open(csv_file[0]) as a_csv_file:\n",
    "        up_2021 = pd.read_csv(a_csv_file, encoding='utf-8')\n",
    "\n",
    "column_transliteration_map = {\n",
    "    'zila': 'district_name',\n",
    "    'block': 'block_name',\n",
    "    'candidate_name_2021': 'candidate',\n",
    "    'father_husband_name_2021': 'father_husband',\n",
    "    'gram_panchayat': 'gp_name',\n",
    "    'gender_2021': 'sex',\n",
    "    'age_2021': 'age',\n",
    "    'education_2021': 'education',\n",
    "    'caste_2021': 'candidate_res_status',\n",
    "}\n",
    "\n",
    "up_2021 = up_2021.rename(columns=column_transliteration_map)"
   ]
  },
  {
   "cell_type": "markdown",
   "id": "8fffa298",
   "metadata": {},
   "source": [
    "### Load and merge transliterations"
   ]
  },
  {
   "cell_type": "code",
   "execution_count": 5,
   "id": "1ba948b3",
   "metadata": {},
   "outputs": [],
   "source": [
    "district_translit = pd.read_csv(\"../data/transliteration/district_official_hindi_english.csv\")\n",
    "block_translit = pd.read_csv(\"../data/transliteration/block_name_transliteration.csv\")"
   ]
  },
  {
   "cell_type": "code",
   "execution_count": 6,
   "id": "7c985399",
   "metadata": {},
   "outputs": [
    {
     "ename": "NameError",
     "evalue": "name 'up_2005_trans' is not defined",
     "output_type": "error",
     "traceback": [
      "\u001b[0;31m---------------------------------------------------------------------------\u001b[0m",
      "\u001b[0;31mNameError\u001b[0m                                 Traceback (most recent call last)",
      "\u001b[0;32m/var/folders/2p/6m62flgx7677h842nfsgzgvh0000gn/T/ipykernel_51784/3743150902.py\u001b[0m in \u001b[0;36m<module>\u001b[0;34m\u001b[0m\n\u001b[1;32m      1\u001b[0m \u001b[0;31m# Let's convert to dict\u001b[0m\u001b[0;34m\u001b[0m\u001b[0;34m\u001b[0m\u001b[0m\n\u001b[0;32m----> 2\u001b[0;31m \u001b[0mmapping_dict_1\u001b[0m \u001b[0;34m=\u001b[0m \u001b[0mup_2005_trans\u001b[0m\u001b[0;34m.\u001b[0m\u001b[0mset_index\u001b[0m\u001b[0;34m(\u001b[0m\u001b[0;34m'Name'\u001b[0m\u001b[0;34m)\u001b[0m\u001b[0;34m[\u001b[0m\u001b[0;34m'Transliterated'\u001b[0m\u001b[0;34m]\u001b[0m\u001b[0;34m.\u001b[0m\u001b[0mstr\u001b[0m\u001b[0;34m.\u001b[0m\u001b[0mstrip\u001b[0m\u001b[0;34m(\u001b[0m\u001b[0;34m)\u001b[0m\u001b[0;34m.\u001b[0m\u001b[0mto_dict\u001b[0m\u001b[0;34m(\u001b[0m\u001b[0;34m)\u001b[0m\u001b[0;34m\u001b[0m\u001b[0;34m\u001b[0m\u001b[0m\n\u001b[0m\u001b[1;32m      3\u001b[0m \u001b[0mmapping_dict_2\u001b[0m \u001b[0;34m=\u001b[0m \u001b[0mup_2010_trans\u001b[0m\u001b[0;34m.\u001b[0m\u001b[0mset_index\u001b[0m\u001b[0;34m(\u001b[0m\u001b[0;34m'Name'\u001b[0m\u001b[0;34m)\u001b[0m\u001b[0;34m[\u001b[0m\u001b[0;34m'Transliterated'\u001b[0m\u001b[0;34m]\u001b[0m\u001b[0;34m.\u001b[0m\u001b[0mstr\u001b[0m\u001b[0;34m.\u001b[0m\u001b[0mstrip\u001b[0m\u001b[0;34m(\u001b[0m\u001b[0;34m)\u001b[0m\u001b[0;34m.\u001b[0m\u001b[0mto_dict\u001b[0m\u001b[0;34m(\u001b[0m\u001b[0;34m)\u001b[0m\u001b[0;34m\u001b[0m\u001b[0;34m\u001b[0m\u001b[0m\n\u001b[1;32m      4\u001b[0m \u001b[0mmapping_dict_3\u001b[0m \u001b[0;34m=\u001b[0m \u001b[0mdistrict_translit\u001b[0m\u001b[0;34m.\u001b[0m\u001b[0mset_index\u001b[0m\u001b[0;34m(\u001b[0m\u001b[0;34m'hindi'\u001b[0m\u001b[0;34m)\u001b[0m\u001b[0;34m[\u001b[0m\u001b[0;34m'eng'\u001b[0m\u001b[0;34m]\u001b[0m\u001b[0;34m.\u001b[0m\u001b[0mstr\u001b[0m\u001b[0;34m.\u001b[0m\u001b[0mstrip\u001b[0m\u001b[0;34m(\u001b[0m\u001b[0;34m)\u001b[0m\u001b[0;34m.\u001b[0m\u001b[0mto_dict\u001b[0m\u001b[0;34m(\u001b[0m\u001b[0;34m)\u001b[0m\u001b[0;34m\u001b[0m\u001b[0;34m\u001b[0m\u001b[0m\n\u001b[1;32m      5\u001b[0m \u001b[0mmapping_dict_4\u001b[0m \u001b[0;34m=\u001b[0m \u001b[0mblock_translit\u001b[0m\u001b[0;34m.\u001b[0m\u001b[0mset_index\u001b[0m\u001b[0;34m(\u001b[0m\u001b[0;34m'hindi'\u001b[0m\u001b[0;34m)\u001b[0m\u001b[0;34m[\u001b[0m\u001b[0;34m'eng'\u001b[0m\u001b[0;34m]\u001b[0m\u001b[0;34m.\u001b[0m\u001b[0mstr\u001b[0m\u001b[0;34m.\u001b[0m\u001b[0mstrip\u001b[0m\u001b[0;34m(\u001b[0m\u001b[0;34m)\u001b[0m\u001b[0;34m.\u001b[0m\u001b[0mto_dict\u001b[0m\u001b[0;34m(\u001b[0m\u001b[0;34m)\u001b[0m\u001b[0;34m\u001b[0m\u001b[0;34m\u001b[0m\u001b[0m\n",
      "\u001b[0;31mNameError\u001b[0m: name 'up_2005_trans' is not defined"
     ]
    }
   ],
   "source": [
    "# Let's convert to dict\n",
    "mapping_dict_1 = up_2005_trans.set_index('Name')['Transliterated'].str.strip().to_dict()\n",
    "mapping_dict_2 = up_2010_trans.set_index('Name')['Transliterated'].str.strip().to_dict()\n",
    "mapping_dict_3 = district_translit.set_index('hindi')['eng'].str.strip().to_dict()\n",
    "mapping_dict_4 = block_translit.set_index('hindi')['eng'].str.strip().to_dict()\n",
    "\n",
    "merged_dict = reduce(lambda x, y: x | y, [mapping_dict_1, mapping_dict_2, mapping_dict_3, mapping_dict_4])\n",
    "len(merged_dict)"
   ]
  },
  {
   "cell_type": "markdown",
   "id": "4ca81011",
   "metadata": {},
   "source": [
    "### Map"
   ]
  },
  {
   "cell_type": "code",
   "execution_count": null,
   "id": "79f9a384",
   "metadata": {},
   "outputs": [],
   "source": [
    "up_2005['gp_name_eng'] = up_2005['gp_name_fin'].str.strip().map(merged_dict)\n",
    "up_2010['gp_name_eng'] = up_2010['gp_name_fin'].str.strip().map(merged_dict)\n",
    "up_2015['gp_name_eng'] = up_2015['gp_name'].str.strip().map(merged_dict)\n",
    "up_2021['gp_name_eng'] = up_2021['gp_name'].str.strip().map(merged_dict)"
   ]
  },
  {
   "cell_type": "code",
   "execution_count": null,
   "id": "c38a484f",
   "metadata": {},
   "outputs": [],
   "source": [
    "print(up_2005['gp_name_eng'].notna().sum())\n",
    "print(up_2010['gp_name_eng'].notna().sum())\n",
    "print(up_2015['gp_name_eng'].notna().sum())\n",
    "print(up_2021['gp_name_eng'].notna().sum())"
   ]
  },
  {
   "cell_type": "code",
   "execution_count": null,
   "id": "07daddf1",
   "metadata": {},
   "outputs": [],
   "source": [
    "up_2005['district_name_eng'] = up_2005['district_name'].str.strip().map(merged_dict)\n",
    "up_2010['district_name_eng'] = up_2010['district_name'].str.strip().map(merged_dict)\n",
    "up_2015['district_name_eng'] = up_2015['district_name'].str.strip().map(merged_dict)\n",
    "up_2021['district_name_eng'] = up_2021['district_name'].str.strip().map(merged_dict)"
   ]
  },
  {
   "cell_type": "code",
   "execution_count": null,
   "id": "a5c29166",
   "metadata": {},
   "outputs": [],
   "source": [
    "print(up_2005['district_name_eng'].notna().sum())\n",
    "print(up_2010['district_name_eng'].notna().sum())\n",
    "print(up_2015['district_name_eng'].notna().sum())\n",
    "print(up_2021['district_name_eng'].notna().sum())"
   ]
  },
  {
   "cell_type": "code",
   "execution_count": null,
   "id": "0d8d6e18",
   "metadata": {},
   "outputs": [],
   "source": [
    "up_2005['block_name_eng'] = up_2005['block_name'].str.strip().map(merged_dict)\n",
    "up_2010['block_name_eng'] = up_2010['block_name'].str.strip().map(merged_dict)\n",
    "up_2015['block_name_eng'] = up_2015['block_name'].str.strip().map(merged_dict)\n",
    "up_2021['block_name_eng'] = up_2021['block_name'].str.strip().map(merged_dict)"
   ]
  },
  {
   "cell_type": "code",
   "execution_count": null,
   "id": "212766fa",
   "metadata": {},
   "outputs": [],
   "source": [
    "print(up_2005['block_name_eng'].notna().sum())\n",
    "print(up_2010['block_name_eng'].notna().sum())\n",
    "print(up_2015['block_name_eng'].notna().sum())\n",
    "print(up_2021['block_name_eng'].notna().sum())"
   ]
  },
  {
   "cell_type": "code",
   "execution_count": null,
   "id": "bfc13a4c",
   "metadata": {},
   "outputs": [],
   "source": [
    "up_2005['elected_sarpanch_name_eng'] = up_2005['elected_sarpanch_name'].str.strip().map(merged_dict).str.strip()\n",
    "up_2010['elected_sarpanch_name_eng'] = up_2010['elected_sarpanch_name'].str.strip().map(merged_dict).str.strip()\n",
    "up_2015['elected_sarpanch_name_eng'] = up_2015['elected_sarpanch_name'].str.strip().map(merged_dict).str.strip()\n",
    "up_2021['elected_sarpanch_name_eng'] = up_2021['elected_sarpanch_name'].str.strip().map(merged_dict).str.strip()"
   ]
  },
  {
   "cell_type": "code",
   "execution_count": null,
   "id": "a61333a8",
   "metadata": {},
   "outputs": [],
   "source": [
    "print(up_2005['elected_sarpanch_name_eng'].notna().sum())\n",
    "print(up_2010['elected_sarpanch_name_eng'].notna().sum())\n",
    "print(up_2015['elected_sarpanch_name_eng'].notna().sum())\n",
    "print(up_2021['elected_sarpanch_name_eng'].notna().sum())"
   ]
  },
  {
   "cell_type": "code",
   "execution_count": null,
   "id": "ae3bf906",
   "metadata": {},
   "outputs": [],
   "source": [
    "up_2010['husband_spouse_name_eng'] = up_2010['husband_spouse_name'].str.strip().map(merged_dict).str.strip()\n",
    "up_2015['husband_spouse_name_eng'] = up_2015['father_husband'].str.strip().map(merged_dict).str.strip()\n",
    "up_2021['husband_spouse_name_eng'] = up_2021['father_husband'].str.strip().map(merged_dict).str.strip()"
   ]
  },
  {
   "cell_type": "code",
   "execution_count": null,
   "id": "6388f504",
   "metadata": {},
   "outputs": [],
   "source": [
    "up_2005.to_parquet(\"../data/up_gp_sarpanch_2005_fixed_with_transliteration.parquet\", index = False)\n",
    "up_2010.to_parquet(\"../data/up_gp_sarpanch_2010_fixed_with_transliteration.parquet\", index = False)\n",
    "\n",
    "# 2015 coercion\n",
    "columns_to_convert = ['mobile_number', 'valid_votes_received', 'votes_received_percent', 'voting_percent']\n",
    "up_2015[columns_to_convert] = up_2015[columns_to_convert].astype(str)\n",
    "up_2015.to_parquet(\"../data/fin/up_gp_sarpanch_2015_fixed_with_transliteration.parquet\", index = False)\n",
    "up_2021.to_parquet(\"../data/fin/up_gp_sarpanch_2021_fixed_with_transliteration.parquet\", index = False)"
   ]
  },
  {
   "cell_type": "code",
   "execution_count": null,
   "id": "f3d2c3ed",
   "metadata": {},
   "outputs": [],
   "source": []
  }
 ],
 "metadata": {
  "kernelspec": {
   "display_name": "Python 3 (ipykernel)",
   "language": "python",
   "name": "python3"
  },
  "language_info": {
   "codemirror_mode": {
    "name": "ipython",
    "version": 3
   },
   "file_extension": ".py",
   "mimetype": "text/x-python",
   "name": "python",
   "nbconvert_exporter": "python",
   "pygments_lexer": "ipython3",
   "version": "3.9.13"
  }
 },
 "nbformat": 4,
 "nbformat_minor": 5
}
