{
 "cells": [
  {
   "cell_type": "markdown",
   "id": "52c1b6b1",
   "metadata": {},
   "source": [
    "### GP Sarpanch Level Output"
   ]
  },
  {
   "cell_type": "code",
   "execution_count": 1,
   "id": "9bc5183a",
   "metadata": {},
   "outputs": [],
   "source": [
    "import pandas as pd\n",
    "from functools import reduce\n",
    "import os\n",
    "import zipfile"
   ]
  },
  {
   "cell_type": "markdown",
   "id": "212956e3",
   "metadata": {},
   "source": [
    "### Load dat"
   ]
  },
  {
   "cell_type": "code",
   "execution_count": 2,
   "id": "aac4fafe",
   "metadata": {},
   "outputs": [],
   "source": [
    "up_2005 = pd.read_csv(\"../data/up_gp_sarpanch_2005_fixed.csv\", low_memory = False)\n",
    "up_2010 = pd.read_csv(\"../data/up_gp_sarpanch_2010_fixed.csv\", low_memory = False)"
   ]
  },
  {
   "cell_type": "code",
   "execution_count": 3,
   "id": "97d51b39",
   "metadata": {},
   "outputs": [],
   "source": [
    "# 2015\n",
    "dataframes = []\n",
    "folder_path = \"../data/2015\"\n",
    "\n",
    "for file_name in os.listdir(folder_path):\n",
    "    if file_name.endswith('.csv') and 'ग्राम पंचायत प्रधान' in file_name:\n",
    "        file_path = os.path.join(folder_path, file_name)\n",
    "        df = pd.read_csv(file_path)\n",
    "        df['district_name'] = file_name.split('-ग्राम पंचायत प्रधान')[0]\n",
    "        dataframes.append(df)\n",
    "\n",
    "up_2015 = pd.concat(dataframes, ignore_index=True)\n",
    "\n",
    "column_transliteration_map = {\n",
    "    'ब्लॉक': 'block',\n",
    "    'ग्राम पंचायत': 'gp',\n",
    "    'पद का आरक्षण': 'gp_reservation_status',\n",
    "    'उम्मीदवार': 'elected_sarpanch_name',\n",
    "    'पिता/पति': 'father_husband',\n",
    "    'प्रत्याशी का आरक्षण': 'candidate_reservation_status',\n",
    "    'शैक्षिक योग्यता': 'educational_qualification',\n",
    "    'लिंग': 'sex',\n",
    "    'मोबाइल नं०': 'mobile_number',\n",
    "    'प्राप्त वैध मत': 'valid_votes_received',\n",
    "    'प्राप्त मत %': 'votes_received_percent',\n",
    "    'मतदान %': 'voting_percent',\n",
    "    'परिणाम': 'result',\n",
    "    'जिला पंचायत': 'district_panchayat',\n",
    "    'क्षेत्र पंचायत वार्ड': 'area_panchayat_ward',\n",
    "    'जिला पंचायत वार्ड': 'district_panchayat_ward',\n",
    "    'जिला': 'district_name',\n",
    "    'क्षेत्र पंचायत': 'area_panchayat'\n",
    "}\n",
    "\n",
    "up_2015 = up_2015.rename(columns=column_transliteration_map)"
   ]
  },
  {
   "cell_type": "code",
   "execution_count": 4,
   "id": "fb97001d",
   "metadata": {},
   "outputs": [],
   "source": [
    "up_2015['block'] = up_2015['block'].fillna('')\n",
    "up_2015['block'] = up_2015['block'].apply(lambda x: x if ' - ' in x else f'0 - {x}')\n",
    "up_2015[['block_num', 'block_name']] = up_2015['block'].str.split(' - ', n=1, expand=True)"
   ]
  },
  {
   "cell_type": "code",
   "execution_count": 5,
   "id": "39ee6731",
   "metadata": {},
   "outputs": [],
   "source": [
    "up_2015['gp'] = up_2015['gp'].fillna('')\n",
    "up_2015['gp'] = up_2015['gp'].apply(lambda x: x if ' - ' in x else f'0 - {x}')\n",
    "up_2015[['gp_num', 'gp_name']] = up_2015['gp'].str.split(' - ', n=1, expand=True)\n",
    "up_2015['gp_num'] = up_2015['gp_num'].str.strip()\n",
    "up_2015['gp_name'] = up_2015['gp_name'].str.strip()"
   ]
  },
  {
   "cell_type": "code",
   "execution_count": 6,
   "id": "2b6e15c5",
   "metadata": {},
   "outputs": [
    {
     "data": {
      "text/plain": [
       "59019"
      ]
     },
     "execution_count": 6,
     "metadata": {},
     "output_type": "execute_result"
    }
   ],
   "source": [
    "transliteration_map = {\n",
    "    \"महिला\": \"Female\",\n",
    "    \"अनारक्षित\": \"Unreserved\",\n",
    "    \"अन्य पिछड़ा वर्ग\": \"Other Backward Class\",\n",
    "    \"अन्य पिछडा वर्ग\": \"Other Backward Class\",\n",
    "    \"अन्य पिछड़ा वर्ग महिला\": \"Other Backward Class Female\",\n",
    "    \"अनुसूचित जाति\": \"Scheduled Caste\",\n",
    "    \"अनुसूचित जाति महिला\": \"Scheduled Caste Female\",\n",
    "    \"अनुसूचित जनजाति\": \"Scheduled Tribe\",\n",
    "    \"अनुसूचित जनजाति महिला\": \"Scheduled Tribe Female\"\n",
    "}\n",
    "\n",
    "up_2015['gp_reservation_status_eng'] = up_2015['gp_reservation_status'].map(transliteration_map)\n",
    "pd.crosstab(up_2015['gp_reservation_status'], up_2015['gp_reservation_status_eng']).sum().sum()"
   ]
  },
  {
   "cell_type": "code",
   "execution_count": 7,
   "id": "cbb4462e",
   "metadata": {},
   "outputs": [
    {
     "data": {
      "text/plain": [
       "59019"
      ]
     },
     "execution_count": 7,
     "metadata": {},
     "output_type": "execute_result"
    }
   ],
   "source": [
    "up_2015['candidate_reservation_status_eng'] = up_2015['candidate_reservation_status'].map(transliteration_map)\n",
    "pd.crosstab(up_2015['candidate_reservation_status'], up_2015['candidate_reservation_status_eng']).sum().sum()\n",
    "#up_2015['candidate_reservation'].unique()"
   ]
  },
  {
   "cell_type": "code",
   "execution_count": 8,
   "id": "ae733371",
   "metadata": {},
   "outputs": [
    {
     "data": {
      "text/plain": [
       "(59019, 20)"
      ]
     },
     "execution_count": 8,
     "metadata": {},
     "output_type": "execute_result"
    }
   ],
   "source": [
    "up_2015.shape"
   ]
  },
  {
   "cell_type": "code",
   "execution_count": 9,
   "id": "9f4770ca",
   "metadata": {},
   "outputs": [],
   "source": [
    "# 2021\n",
    "with zipfile.ZipFile(\"../data/up_gram_panchayat_pradhan_2021.csv.zip\", 'r') as zip_ref:\n",
    "    csv_file = [f for f in zip_ref.namelist() if f.endswith('.csv') and not f.startswith('__MACOSX')]\n",
    "    \n",
    "    with zip_ref.open(csv_file[0]) as a_csv_file:\n",
    "        up_2021 = pd.read_csv(a_csv_file, encoding='utf-8')\n",
    "\n",
    "column_transliteration_map = {\n",
    "    'zila': 'district_name',\n",
    "    'block': 'block_name',\n",
    "    'candidate_name_2021': 'candidate',\n",
    "    'father_husband_name_2021': 'father_husband',\n",
    "    'gram_panchayat': 'gp',\n",
    "    'gender_2021': 'sex',\n",
    "    'age_2021': 'age',\n",
    "    'education_2021': 'education',\n",
    "    'caste_2021': 'candidate_reservation_status',\n",
    "    'reservation': 'gp_reservation_status',\n",
    "}\n",
    "\n",
    "up_2021 = up_2021.rename(columns=column_transliteration_map)"
   ]
  },
  {
   "cell_type": "code",
   "execution_count": 10,
   "id": "f8e2b111",
   "metadata": {},
   "outputs": [
    {
     "data": {
      "text/plain": [
       "373096"
      ]
     },
     "execution_count": 10,
     "metadata": {},
     "output_type": "execute_result"
    }
   ],
   "source": [
    "up_2021['gp_reservation_status_eng'] = up_2021['gp_reservation_status'].map(transliteration_map)\n",
    "pd.crosstab(up_2021['gp_reservation_status'], up_2021['gp_reservation_status_eng']).sum().sum()"
   ]
  },
  {
   "cell_type": "code",
   "execution_count": 11,
   "id": "6cbb0b4b",
   "metadata": {},
   "outputs": [
    {
     "data": {
      "text/plain": [
       "373096"
      ]
     },
     "execution_count": 11,
     "metadata": {},
     "output_type": "execute_result"
    }
   ],
   "source": [
    "up_2021['candidate_reservation_status_eng'] = up_2021['candidate_reservation_status'].map(transliteration_map)\n",
    "pd.crosstab(up_2021['candidate_reservation_status'], up_2021['candidate_reservation_status_eng']).sum().sum()"
   ]
  },
  {
   "cell_type": "code",
   "execution_count": 12,
   "id": "988114ba",
   "metadata": {},
   "outputs": [
    {
     "data": {
      "text/plain": [
       "(373096, 21)"
      ]
     },
     "execution_count": 12,
     "metadata": {},
     "output_type": "execute_result"
    }
   ],
   "source": [
    "up_2021.shape"
   ]
  },
  {
   "cell_type": "code",
   "execution_count": 13,
   "id": "7c616a24",
   "metadata": {},
   "outputs": [],
   "source": [
    "up_2021['gp'] = up_2021['gp'].fillna('')\n",
    "up_2021['gp'] = up_2021['gp'].str.replace('-', ' - ', regex=False)\n",
    "up_2021[['gp_num', 'gp_name']] = up_2021['gp'].str.split('-', n=1, expand=True)"
   ]
  },
  {
   "cell_type": "code",
   "execution_count": 14,
   "id": "9ea619af",
   "metadata": {},
   "outputs": [],
   "source": [
    "up_2021['gp_num'] = up_2021['gp_num'].str.strip()\n",
    "up_2021['gp_name'] = up_2021['gp_name'].str.strip()"
   ]
  },
  {
   "cell_type": "code",
   "execution_count": 15,
   "id": "096bf1bc",
   "metadata": {},
   "outputs": [],
   "source": [
    "up_2021['key'] = up_2021[['district_name', 'block_name', 'gp']].apply(lambda x: '_'.join(x.astype(str)), axis=1)\n",
    "\n",
    "def assign_winner(group):\n",
    "    winner_name = group.loc[group['result'] == 'विजेता', 'candidate'].values\n",
    "    if len(winner_name) > 0:\n",
    "        group['elected_sarpanch_name'] = winner_name[0]\n",
    "    else:\n",
    "        group['elected_sarpanch_name'] = None\n",
    "    return group\n",
    "\n",
    "up_2021 = up_2021.groupby('key').apply(assign_winner)"
   ]
  },
  {
   "cell_type": "markdown",
   "id": "e3017d8d",
   "metadata": {},
   "source": [
    "### Load and merge transliterations"
   ]
  },
  {
   "cell_type": "code",
   "execution_count": 30,
   "id": "1ba948b3",
   "metadata": {},
   "outputs": [],
   "source": [
    "up_2005_trans = pd.read_csv(\"../data/transliteration/up_gp_sarpanch_2005_transliterate_out.csv\", low_memory = False)\n",
    "up_2010_trans = pd.read_csv(\"../data/transliteration/up_gp_sarpanch_2010_transliterate_out.csv\", low_memory = False)\n",
    "\n",
    "up_2015_2021_trans = pd.read_csv(\"../data/transliteration/up_2015_2021_remaining_transliterate_out.csv\", low_memory = False)\n",
    "up_local_trans = pd.read_csv(\"../data/transliteration/up_local_transliterated.csv\", low_memory = False)\n",
    "\n",
    "up_remain_trans = pd.read_csv(\"../data/transliteration/remaining_transliterate_out.csv\")\n",
    "\n",
    "district_translit = pd.read_csv(\"../data/transliteration/district_official_hindi_english.csv\")\n",
    "block_translit = pd.read_csv(\"../data/transliteration/block_name_transliteration.csv\")"
   ]
  },
  {
   "cell_type": "code",
   "execution_count": 31,
   "id": "7c985399",
   "metadata": {},
   "outputs": [
    {
     "data": {
      "text/plain": [
       "285942"
      ]
     },
     "execution_count": 31,
     "metadata": {},
     "output_type": "execute_result"
    }
   ],
   "source": [
    "# Let's convert to dict\n",
    "mapping_dict_1 = up_2005_trans.set_index('Name')['Transliterated'].str.strip().to_dict()\n",
    "mapping_dict_2 = up_2010_trans.set_index('Name')['Transliterated'].str.strip().to_dict()\n",
    "mapping_dict_3 = up_2015_2021_trans.set_index('Name')['Transliterated'].str.strip().to_dict()\n",
    "mapping_dict_4 = up_local_trans.set_index('Name')['Transliterated'].str.strip().to_dict()\n",
    "mapping_dict_5 = district_translit.set_index('hindi')['eng'].str.strip().to_dict()\n",
    "mapping_dict_6 = block_translit.set_index('hindi')['eng'].str.strip().to_dict()\n",
    "mapping_dict_7 = up_remain_trans.set_index('Name')['Transliterated'].str.strip().to_dict()\n",
    "\n",
    "merged_dict = reduce(lambda x, y: x | y, [mapping_dict_1, mapping_dict_2, \n",
    "                                          mapping_dict_3, mapping_dict_4, \n",
    "                                          mapping_dict_5, mapping_dict_6,\n",
    "                                          mapping_dict_7])\n",
    "len(merged_dict)"
   ]
  },
  {
   "cell_type": "markdown",
   "id": "3c3adb43",
   "metadata": {},
   "source": [
    "### Map"
   ]
  },
  {
   "cell_type": "code",
   "execution_count": 32,
   "id": "79f9a384",
   "metadata": {},
   "outputs": [],
   "source": [
    "up_2005['gp_name_eng'] = up_2005['gp_name_fin'].str.strip().map(merged_dict)\n",
    "up_2010['gp_name_eng'] = up_2010['gp_name_fin'].str.strip().map(merged_dict)\n",
    "up_2015['gp_name_eng'] = up_2015['gp_name'].str.strip().map(merged_dict)\n",
    "up_2021['gp_name_eng'] = up_2021['gp_name'].str.strip().map(merged_dict)"
   ]
  },
  {
   "cell_type": "code",
   "execution_count": 33,
   "id": "c38a484f",
   "metadata": {},
   "outputs": [
    {
     "name": "stdout",
     "output_type": "stream",
     "text": [
      "51354\n",
      "21927\n",
      "58936\n",
      "372556\n"
     ]
    }
   ],
   "source": [
    "print(up_2005['gp_name_eng'].notna().sum())\n",
    "print(up_2010['gp_name_eng'].notna().sum())\n",
    "print(up_2015['gp_name_eng'].notna().sum())\n",
    "print(up_2021['gp_name_eng'].notna().sum())"
   ]
  },
  {
   "cell_type": "code",
   "execution_count": 34,
   "id": "07daddf1",
   "metadata": {},
   "outputs": [],
   "source": [
    "up_2005['district_name_eng'] = up_2005['district_name'].str.strip().map(merged_dict)\n",
    "up_2010['district_name_eng'] = up_2010['district_name'].str.strip().map(merged_dict)\n",
    "up_2015['district_name_eng'] = up_2015['district_name'].str.strip().map(merged_dict)\n",
    "up_2021['district_name_eng'] = up_2021['district_name'].str.strip().map(merged_dict)"
   ]
  },
  {
   "cell_type": "code",
   "execution_count": 35,
   "id": "a5c29166",
   "metadata": {},
   "outputs": [
    {
     "name": "stdout",
     "output_type": "stream",
     "text": [
      "51879\n",
      "51861\n",
      "59019\n",
      "373096\n"
     ]
    }
   ],
   "source": [
    "print(up_2005['district_name_eng'].notna().sum())\n",
    "print(up_2010['district_name_eng'].notna().sum())\n",
    "print(up_2015['district_name_eng'].notna().sum())\n",
    "print(up_2021['district_name_eng'].notna().sum())"
   ]
  },
  {
   "cell_type": "code",
   "execution_count": 36,
   "id": "0d8d6e18",
   "metadata": {},
   "outputs": [],
   "source": [
    "up_2005['block_name_eng'] = up_2005['block_name'].str.strip().map(merged_dict)\n",
    "up_2010['block_name_eng'] = up_2010['block_name'].str.strip().map(merged_dict)\n",
    "up_2015['block_name_eng'] = up_2015['block_name'].str.strip().map(merged_dict)\n",
    "up_2021['block_name_eng'] = up_2021['block_name'].str.strip().map(merged_dict)"
   ]
  },
  {
   "cell_type": "code",
   "execution_count": 37,
   "id": "212766fa",
   "metadata": {},
   "outputs": [
    {
     "name": "stdout",
     "output_type": "stream",
     "text": [
      "51879\n",
      "51861\n",
      "59019\n",
      "373096\n"
     ]
    }
   ],
   "source": [
    "print(up_2005['block_name_eng'].notna().sum())\n",
    "print(up_2010['block_name_eng'].notna().sum())\n",
    "print(up_2015['block_name_eng'].notna().sum())\n",
    "print(up_2021['block_name_eng'].notna().sum())"
   ]
  },
  {
   "cell_type": "code",
   "execution_count": 38,
   "id": "bfc13a4c",
   "metadata": {},
   "outputs": [],
   "source": [
    "up_2005['elected_sarpanch_name_eng'] = up_2005['elected_sarpanch_name'].str.strip().map(merged_dict).str.strip()\n",
    "up_2010['elected_sarpanch_name_eng'] = up_2010['elected_sarpanch_name'].str.strip().map(merged_dict).str.strip()\n",
    "up_2015['elected_sarpanch_name_eng'] = up_2015['elected_sarpanch_name'].str.strip().map(merged_dict).str.strip()\n",
    "up_2021['elected_sarpanch_name_eng'] = up_2021['elected_sarpanch_name'].str.strip().map(merged_dict).str.strip()"
   ]
  },
  {
   "cell_type": "code",
   "execution_count": 39,
   "id": "a61333a8",
   "metadata": {},
   "outputs": [
    {
     "name": "stdout",
     "output_type": "stream",
     "text": [
      "51152\n",
      "51820\n",
      "58999\n",
      "372965\n"
     ]
    }
   ],
   "source": [
    "print(up_2005['elected_sarpanch_name_eng'].notna().sum())\n",
    "print(up_2010['elected_sarpanch_name_eng'].notna().sum())\n",
    "print(up_2015['elected_sarpanch_name_eng'].notna().sum())\n",
    "print(up_2021['elected_sarpanch_name_eng'].notna().sum())"
   ]
  },
  {
   "cell_type": "code",
   "execution_count": 40,
   "id": "ae3bf906",
   "metadata": {},
   "outputs": [],
   "source": [
    "up_2010['husband_spouse_name_eng'] = up_2010['husband_spouse_name'].str.strip().map(merged_dict).str.strip()\n",
    "up_2015['husband_spouse_name_eng'] = up_2015['father_husband'].str.strip().map(merged_dict).str.strip()\n",
    "up_2021['husband_spouse_name_eng'] = up_2021['father_husband'].str.strip().map(merged_dict).str.strip()"
   ]
  },
  {
   "cell_type": "code",
   "execution_count": 41,
   "id": "6388f504",
   "metadata": {},
   "outputs": [],
   "source": [
    "up_2005.to_parquet(\"../data/fin/up_gp_sarpanch_2005_fixed_with_transliteration.parquet\", index = False)\n",
    "up_2010.to_parquet(\"../data/fin/up_gp_sarpanch_2010_fixed_with_transliteration.parquet\", index = False)\n",
    "\n",
    "# 2015 coercion\n",
    "columns_to_convert = ['mobile_number', 'valid_votes_received', 'votes_received_percent', 'voting_percent']\n",
    "up_2015[columns_to_convert] = up_2015[columns_to_convert].astype(str)\n",
    "up_2015.to_parquet(\"../data/fin/up_gp_sarpanch_2015_fixed_with_transliteration.parquet\", index = False)\n",
    "up_2021.to_parquet(\"../data/fin/up_gp_sarpanch_2021_fixed_with_transliteration.parquet\", index = False)"
   ]
  },
  {
   "cell_type": "code",
   "execution_count": 29,
   "id": "f3d2c3ed",
   "metadata": {},
   "outputs": [],
   "source": [
    "# Get remaining transliterations\n",
    "def concatenate_filtered(*dfs, cols_to_check):\n",
    "    # Create a list to store series\n",
    "    series_list = []\n",
    "    \n",
    "    for df in dfs:\n",
    "        for col in cols_to_check:\n",
    "            # Filter rows where the specified 'eng' column is NA\n",
    "            filtered_series = df.loc[df[col['eng']].isna(), col['original']]\n",
    "            series_list.append(filtered_series)\n",
    "    \n",
    "    # Concatenate all filtered series into a single column\n",
    "    concatenated_series = pd.concat(series_list, ignore_index=True)\n",
    "    return concatenated_series\n",
    "\n",
    "# Define columns to check and their corresponding 'eng' columns\n",
    "cols_to_check = [\n",
    "    {'original': 'elected_sarpanch_name', 'eng': 'elected_sarpanch_name_eng'},\n",
    "    {'original': 'gp_name', 'eng': 'gp_name_eng'},\n",
    "    {'original': 'block_name', 'eng': 'block_name_eng'},\n",
    "    {'original': 'district_name', 'eng': 'district_name_eng'}\n",
    "]\n",
    "\n",
    "# Concatenate filtered columns\n",
    "result = pd.Series(list(set(concatenate_filtered(up_2005, up_2010, up_2015, up_2021, cols_to_check=cols_to_check))))\n",
    "result.to_csv(\"../data/transliteration/remaining_untransliterated_2.csv\", index = False)"
   ]
  },
  {
   "cell_type": "code",
   "execution_count": null,
   "id": "e2a19dfe",
   "metadata": {},
   "outputs": [],
   "source": []
  }
 ],
 "metadata": {
  "kernelspec": {
   "display_name": "Python 3 (ipykernel)",
   "language": "python",
   "name": "python3"
  },
  "language_info": {
   "codemirror_mode": {
    "name": "ipython",
    "version": 3
   },
   "file_extension": ".py",
   "mimetype": "text/x-python",
   "name": "python",
   "nbconvert_exporter": "python",
   "pygments_lexer": "ipython3",
   "version": "3.9.13"
  }
 },
 "nbformat": 4,
 "nbformat_minor": 5
}
