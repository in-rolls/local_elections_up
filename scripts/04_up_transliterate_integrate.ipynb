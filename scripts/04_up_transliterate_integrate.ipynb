{
 "cells": [
  {
   "cell_type": "code",
   "execution_count": 1,
   "id": "2474c30b",
   "metadata": {},
   "outputs": [],
   "source": [
    "import pandas as pd\n",
    "from functools import reduce"
   ]
  },
  {
   "cell_type": "code",
   "execution_count": 2,
   "id": "aac4fafe",
   "metadata": {},
   "outputs": [],
   "source": [
    "up_2005 = pd.read_csv(\"../data/up_gp_sarpanch_2005_fixed.csv\", low_memory = False)\n",
    "up_2010 = pd.read_csv(\"../data/up_gp_sarpanch_2010_fixed.csv\", low_memory = False)"
   ]
  },
  {
   "cell_type": "code",
   "execution_count": 3,
   "id": "5ac89bfa",
   "metadata": {},
   "outputs": [],
   "source": [
    "# Load transliteration\n",
    "up_2005_trans = pd.read_csv(\"../data/transliteration/up_gp_sarpanch_2005_transliterate_out.csv\", low_memory = False)\n",
    "up_2010_trans = pd.read_csv(\"../data/transliteration/up_gp_sarpanch_2010_transliterate_out.csv\", low_memory = False)"
   ]
  },
  {
   "cell_type": "code",
   "execution_count": 4,
   "id": "1ba948b3",
   "metadata": {},
   "outputs": [],
   "source": [
    "district_translit = pd.read_csv(\"../data/transliteration/district_official_hindi_english.csv\")\n",
    "block_translit = pd.read_csv(\"../data/transliteration/block_name_transliteration.csv\")"
   ]
  },
  {
   "cell_type": "code",
   "execution_count": 5,
   "id": "7c985399",
   "metadata": {},
   "outputs": [
    {
     "data": {
      "text/plain": [
       "79628"
      ]
     },
     "execution_count": 5,
     "metadata": {},
     "output_type": "execute_result"
    }
   ],
   "source": [
    "# Let's convert to dict\n",
    "mapping_dict_1 = up_2005_trans.set_index('Name')['Transliterated'].str.strip().to_dict()\n",
    "mapping_dict_2 = up_2010_trans.set_index('Name')['Transliterated'].str.strip().to_dict()\n",
    "mapping_dict_3 = district_translit.set_index('hindi')['eng'].str.strip().to_dict()\n",
    "mapping_dict_4 = block_translit.set_index('hindi')['eng'].str.strip().to_dict()\n",
    "\n",
    "merged_dict = reduce(lambda x, y: x | y, [mapping_dict_1, mapping_dict_2, mapping_dict_3, mapping_dict_4])\n",
    "len(merged_dict)"
   ]
  },
  {
   "cell_type": "code",
   "execution_count": 6,
   "id": "79f9a384",
   "metadata": {},
   "outputs": [],
   "source": [
    "up_2005['gp_name_eng'] = up_2005['gp_name_fin'].str.strip().map(merged_dict)\n",
    "up_2010['gp_name_eng'] = up_2010['gp_name_fin'].str.strip().map(merged_dict)"
   ]
  },
  {
   "cell_type": "code",
   "execution_count": 7,
   "id": "c38a484f",
   "metadata": {},
   "outputs": [
    {
     "name": "stdout",
     "output_type": "stream",
     "text": [
      "50211\n"
     ]
    }
   ],
   "source": [
    "print(up_2005['gp_name_eng'].notna().sum())"
   ]
  },
  {
   "cell_type": "code",
   "execution_count": 8,
   "id": "07daddf1",
   "metadata": {},
   "outputs": [],
   "source": [
    "up_2005['district_name_eng'] = up_2005['district_name'].str.strip().map(merged_dict)\n",
    "up_2010['district_name_eng'] = up_2010['district_name'].str.strip().map(merged_dict)"
   ]
  },
  {
   "cell_type": "code",
   "execution_count": 9,
   "id": "a5c29166",
   "metadata": {},
   "outputs": [
    {
     "name": "stdout",
     "output_type": "stream",
     "text": [
      "51879\n",
      "51861\n"
     ]
    }
   ],
   "source": [
    "print(up_2005['district_name_eng'].notna().sum())\n",
    "print(up_2010['district_name_eng'].notna().sum())"
   ]
  },
  {
   "cell_type": "code",
   "execution_count": 10,
   "id": "0d8d6e18",
   "metadata": {},
   "outputs": [],
   "source": [
    "up_2005['block_name_eng'] = up_2005['block_name'].str.strip().map(merged_dict)\n",
    "up_2010['block_name_eng'] = up_2010['block_name'].str.strip().map(merged_dict)"
   ]
  },
  {
   "cell_type": "code",
   "execution_count": 11,
   "id": "212766fa",
   "metadata": {},
   "outputs": [
    {
     "name": "stdout",
     "output_type": "stream",
     "text": [
      "51879\n",
      "51415\n"
     ]
    }
   ],
   "source": [
    "print(up_2005['block_name_eng'].notna().sum())\n",
    "print(up_2010['block_name_eng'].notna().sum())"
   ]
  },
  {
   "cell_type": "code",
   "execution_count": 12,
   "id": "bfc13a4c",
   "metadata": {},
   "outputs": [
    {
     "data": {
      "text/plain": [
       "42690"
      ]
     },
     "execution_count": 12,
     "metadata": {},
     "output_type": "execute_result"
    }
   ],
   "source": [
    "up_2005['elected_sarpanch_name_eng'] = up_2005['elected_sarpanch_name'].str.strip().map(merged_dict).str.strip()\n",
    "up_2005['elected_sarpanch_name_eng'].notna().sum()"
   ]
  },
  {
   "cell_type": "code",
   "execution_count": 13,
   "id": "a61333a8",
   "metadata": {},
   "outputs": [
    {
     "data": {
      "text/plain": [
       "51688"
      ]
     },
     "execution_count": 13,
     "metadata": {},
     "output_type": "execute_result"
    }
   ],
   "source": [
    "up_2010['elected_sarpanch_name_eng'] = up_2010['elected_sarpanch_name'].str.strip().map(merged_dict).str.strip()\n",
    "up_2010['elected_sarpanch_name_eng'].notna().sum()"
   ]
  },
  {
   "cell_type": "code",
   "execution_count": 14,
   "id": "ae3bf906",
   "metadata": {},
   "outputs": [
    {
     "data": {
      "text/plain": [
       "51787"
      ]
     },
     "execution_count": 14,
     "metadata": {},
     "output_type": "execute_result"
    }
   ],
   "source": [
    "up_2010['husband_spouse_name_eng'] = up_2010['husband_spouse_name'].str.strip().map(merged_dict).str.strip()\n",
    "up_2010['husband_spouse_name_eng'].notna().sum()"
   ]
  },
  {
   "cell_type": "code",
   "execution_count": 15,
   "id": "6388f504",
   "metadata": {},
   "outputs": [],
   "source": [
    "up_2005.to_csv(\"../data/up_gp_sarpanch_2005_fixed_with_transliteration.csv\", index = False)\n",
    "up_2010.to_csv(\"../data/up_gp_sarpanch_2010_fixed_with_transliteration.csv\", index = False)"
   ]
  },
  {
   "cell_type": "code",
   "execution_count": null,
   "id": "f3d2c3ed",
   "metadata": {},
   "outputs": [],
   "source": []
  }
 ],
 "metadata": {
  "kernelspec": {
   "display_name": "Python 3 (ipykernel)",
   "language": "python",
   "name": "python3"
  },
  "language_info": {
   "codemirror_mode": {
    "name": "ipython",
    "version": 3
   },
   "file_extension": ".py",
   "mimetype": "text/x-python",
   "name": "python",
   "nbconvert_exporter": "python",
   "pygments_lexer": "ipython3",
   "version": "3.9.13"
  }
 },
 "nbformat": 4,
 "nbformat_minor": 5
}
