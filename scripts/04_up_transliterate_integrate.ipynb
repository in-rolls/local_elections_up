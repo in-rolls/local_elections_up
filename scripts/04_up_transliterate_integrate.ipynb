{
 "cells": [
  {
   "cell_type": "markdown",
   "id": "e8fdf9a2",
   "metadata": {},
   "source": [
    "### GP Sarpanch Level Output"
   ]
  },
  {
   "cell_type": "code",
   "execution_count": 1,
   "id": "a409e08a",
   "metadata": {},
   "outputs": [],
   "source": [
    "import pandas as pd\n",
    "from functools import reduce\n",
    "import os\n",
    "import zipfile"
   ]
  },
  {
   "cell_type": "markdown",
   "id": "267da03f",
   "metadata": {},
   "source": [
    "### Load dat"
   ]
  },
  {
   "cell_type": "code",
   "execution_count": 2,
   "id": "aac4fafe",
   "metadata": {},
   "outputs": [],
   "source": [
    "up_2005 = pd.read_csv(\"../data/up_gp_sarpanch_2005_fixed.csv\", low_memory = False)\n",
    "up_2010 = pd.read_csv(\"../data/up_gp_sarpanch_2010_fixed.csv\", low_memory = False)"
   ]
  },
  {
   "cell_type": "code",
   "execution_count": 12,
   "id": "39007ce5",
   "metadata": {},
   "outputs": [],
   "source": [
    "# 2015\n",
    "dataframes = []\n",
    "folder_path = \"../data/2015\"\n",
    "\n",
    "for file_name in os.listdir(folder_path):\n",
    "    if file_name.endswith('.csv') and 'ग्राम पंचायत प्रधान' in file_name:\n",
    "        file_path = os.path.join(folder_path, file_name)\n",
    "        df = pd.read_csv(file_path)\n",
    "        df['district_name'] = file_name.split('-ग्राम पंचायत प्रधान')[0]\n",
    "        dataframes.append(df)\n",
    "\n",
    "up_2015 = pd.concat(dataframes, ignore_index=True)\n",
    "\n",
    "column_transliteration_map = {\n",
    "    'ब्लॉक': 'block',\n",
    "    'ग्राम पंचायत': 'gp',\n",
    "    'पद का आरक्षण': 'gp_reservation_status',\n",
    "    'उम्मीदवार': 'elected_sarpanch_name',\n",
    "    'पिता/पति': 'father_husband',\n",
    "    'प्रत्याशी का आरक्षण': 'candidate_reservation',\n",
    "    'शैक्षिक योग्यता': 'educational_qualification',\n",
    "    'लिंग': 'sex',\n",
    "    'मोबाइल नं०': 'mobile_number',\n",
    "    'प्राप्त वैध मत': 'valid_votes_received',\n",
    "    'प्राप्त मत %': 'votes_received_percent',\n",
    "    'मतदान %': 'voting_percent',\n",
    "    'परिणाम': 'result',\n",
    "    'जिला पंचायत': 'district_panchayat',\n",
    "    'क्षेत्र पंचायत वार्ड': 'area_panchayat_ward',\n",
    "    'जिला पंचायत वार्ड': 'district_panchayat_ward',\n",
    "    'जिला': 'district_name',\n",
    "    'क्षेत्र पंचायत': 'area_panchayat'\n",
    "}\n",
    "\n",
    "up_2015 = up_2015.rename(columns=column_transliteration_map)"
   ]
  },
  {
   "cell_type": "code",
   "execution_count": 13,
   "id": "b2860e3f",
   "metadata": {},
   "outputs": [],
   "source": [
    "up_2015['block'] = up_2015['block'].fillna('')\n",
    "up_2015['block'] = up_2015['block'].apply(lambda x: x if ' - ' in x else f'0 - {x}')\n",
    "up_2015[['block_num', 'block_name']] = up_2015['block'].str.split(' - ', n=1, expand=True)"
   ]
  },
  {
   "cell_type": "code",
   "execution_count": 14,
   "id": "f89a2631",
   "metadata": {},
   "outputs": [],
   "source": [
    "up_2015['gp'] = up_2015['gp'].fillna('')\n",
    "up_2015['gp'] = up_2015['gp'].apply(lambda x: x if ' - ' in x else f'0 - {x}')\n",
    "up_2015[['gp_num', 'gp_name']] = up_2015['gp'].str.split(' - ', n=1, expand=True)\n",
    "up_2015['gp_num'] = up_2015['gp_num'].str.strip()\n",
    "up_2015['gp_name'] = up_2015['gp_name'].str.strip()"
   ]
  },
  {
   "cell_type": "code",
   "execution_count": 15,
   "id": "510cfd8b",
   "metadata": {},
   "outputs": [],
   "source": [
    "# 2021\n",
    "with zipfile.ZipFile(\"../data/up_gram_panchayat_pradhan_2021.csv.zip\", 'r') as zip_ref:\n",
    "    csv_file = [f for f in zip_ref.namelist() if f.endswith('.csv') and not f.startswith('__MACOSX')]\n",
    "    \n",
    "    with zip_ref.open(csv_file[0]) as a_csv_file:\n",
    "        up_2021 = pd.read_csv(a_csv_file, encoding='utf-8')\n",
    "\n",
    "column_transliteration_map = {\n",
    "    'zila': 'district_name',\n",
    "    'block': 'block_name',\n",
    "    'candidate_name_2021': 'candidate',\n",
    "    'father_husband_name_2021': 'father_husband',\n",
    "    'gram_panchayat': 'gp',\n",
    "    'gender_2021': 'sex',\n",
    "    'age_2021': 'age',\n",
    "    'education_2021': 'education',\n",
    "    'caste_2021': 'candidate_res_status',\n",
    "}\n",
    "\n",
    "up_2021 = up_2021.rename(columns=column_transliteration_map)"
   ]
  },
  {
   "cell_type": "code",
   "execution_count": 16,
   "id": "5d53cc89",
   "metadata": {},
   "outputs": [],
   "source": [
    "up_2021['gp'] = up_2021['gp'].fillna('')\n",
    "up_2021['gp'] = up_2021['gp'].str.replace('-', ' - ', regex=False)\n",
    "up_2021[['gp_num', 'gp_name']] = up_2021['gp'].str.split('-', n=1, expand=True)"
   ]
  },
  {
   "cell_type": "code",
   "execution_count": 17,
   "id": "884ea25d",
   "metadata": {},
   "outputs": [],
   "source": [
    "up_2021['gp_num'] = up_2021['gp_num'].str.strip()\n",
    "up_2021['gp_name'] = up_2021['gp_name'].str.strip()"
   ]
  },
  {
   "cell_type": "code",
   "execution_count": 18,
   "id": "f2e0ae6c",
   "metadata": {},
   "outputs": [],
   "source": [
    "up_2021['key'] = up_2021[['district_name', 'block_name', 'gp']].apply(lambda x: '_'.join(x.astype(str)), axis=1)\n",
    "\n",
    "def assign_winner(group):\n",
    "    winner_name = group.loc[group['result'] == 'विजेता', 'candidate'].values\n",
    "    if len(winner_name) > 0:\n",
    "        group['elected_sarpanch_name'] = winner_name[0]\n",
    "    else:\n",
    "        group['elected_sarpanch_name'] = None\n",
    "    return group\n",
    "\n",
    "up_2021 = up_2021.groupby('key').apply(assign_winner)"
   ]
  },
  {
   "cell_type": "markdown",
   "id": "edfe9796",
   "metadata": {},
   "source": [
    "### Load and merge transliterations"
   ]
  },
  {
   "cell_type": "code",
   "execution_count": 19,
   "id": "1ba948b3",
   "metadata": {},
   "outputs": [],
   "source": [
    "up_2005_trans = pd.read_csv(\"../data/transliteration/up_gp_sarpanch_2005_transliterate_out.csv\", low_memory = False)\n",
    "up_2010_trans = pd.read_csv(\"../data/transliteration/up_gp_sarpanch_2010_transliterate_out.csv\", low_memory = False)\n",
    "\n",
    "district_translit = pd.read_csv(\"../data/transliteration/district_official_hindi_english.csv\")\n",
    "block_translit = pd.read_csv(\"../data/transliteration/block_name_transliteration.csv\")"
   ]
  },
  {
   "cell_type": "code",
   "execution_count": 20,
   "id": "7c985399",
   "metadata": {},
   "outputs": [
    {
     "data": {
      "text/plain": [
       "79628"
      ]
     },
     "execution_count": 20,
     "metadata": {},
     "output_type": "execute_result"
    }
   ],
   "source": [
    "# Let's convert to dict\n",
    "mapping_dict_1 = up_2005_trans.set_index('Name')['Transliterated'].str.strip().to_dict()\n",
    "mapping_dict_2 = up_2010_trans.set_index('Name')['Transliterated'].str.strip().to_dict()\n",
    "mapping_dict_3 = district_translit.set_index('hindi')['eng'].str.strip().to_dict()\n",
    "mapping_dict_4 = block_translit.set_index('hindi')['eng'].str.strip().to_dict()\n",
    "\n",
    "merged_dict = reduce(lambda x, y: x | y, [mapping_dict_1, mapping_dict_2, mapping_dict_3, mapping_dict_4])\n",
    "len(merged_dict)"
   ]
  },
  {
   "cell_type": "markdown",
   "id": "f9d28e43",
   "metadata": {},
   "source": [
    "### Map"
   ]
  },
  {
   "cell_type": "code",
   "execution_count": 21,
   "id": "79f9a384",
   "metadata": {},
   "outputs": [],
   "source": [
    "up_2005['gp_name_eng'] = up_2005['gp_name_fin'].str.strip().map(merged_dict)\n",
    "up_2010['gp_name_eng'] = up_2010['gp_name_fin'].str.strip().map(merged_dict)\n",
    "up_2015['gp_name_eng'] = up_2015['gp_name'].str.strip().map(merged_dict)\n",
    "up_2021['gp_name_eng'] = up_2021['gp_name'].str.strip().map(merged_dict)"
   ]
  },
  {
   "cell_type": "code",
   "execution_count": 22,
   "id": "c38a484f",
   "metadata": {},
   "outputs": [
    {
     "name": "stdout",
     "output_type": "stream",
     "text": [
      "50211\n",
      "21898\n",
      "39846\n",
      "253629\n"
     ]
    }
   ],
   "source": [
    "print(up_2005['gp_name_eng'].notna().sum())\n",
    "print(up_2010['gp_name_eng'].notna().sum())\n",
    "print(up_2015['gp_name_eng'].notna().sum())\n",
    "print(up_2021['gp_name_eng'].notna().sum())"
   ]
  },
  {
   "cell_type": "code",
   "execution_count": 23,
   "id": "07daddf1",
   "metadata": {},
   "outputs": [],
   "source": [
    "up_2005['district_name_eng'] = up_2005['district_name'].str.strip().map(merged_dict)\n",
    "up_2010['district_name_eng'] = up_2010['district_name'].str.strip().map(merged_dict)\n",
    "up_2015['district_name_eng'] = up_2015['district_name'].str.strip().map(merged_dict)\n",
    "up_2021['district_name_eng'] = up_2021['district_name'].str.strip().map(merged_dict)"
   ]
  },
  {
   "cell_type": "code",
   "execution_count": 24,
   "id": "a5c29166",
   "metadata": {},
   "outputs": [
    {
     "name": "stdout",
     "output_type": "stream",
     "text": [
      "51879\n",
      "51861\n",
      "56421\n",
      "329260\n"
     ]
    }
   ],
   "source": [
    "print(up_2005['district_name_eng'].notna().sum())\n",
    "print(up_2010['district_name_eng'].notna().sum())\n",
    "print(up_2015['district_name_eng'].notna().sum())\n",
    "print(up_2021['district_name_eng'].notna().sum())"
   ]
  },
  {
   "cell_type": "code",
   "execution_count": 25,
   "id": "0d8d6e18",
   "metadata": {},
   "outputs": [],
   "source": [
    "up_2005['block_name_eng'] = up_2005['block_name'].str.strip().map(merged_dict)\n",
    "up_2010['block_name_eng'] = up_2010['block_name'].str.strip().map(merged_dict)\n",
    "up_2015['block_name_eng'] = up_2015['block_name'].str.strip().map(merged_dict)\n",
    "up_2021['block_name_eng'] = up_2021['block_name'].str.strip().map(merged_dict)"
   ]
  },
  {
   "cell_type": "code",
   "execution_count": 26,
   "id": "212766fa",
   "metadata": {},
   "outputs": [
    {
     "name": "stdout",
     "output_type": "stream",
     "text": [
      "51879\n",
      "51415\n",
      "54052\n",
      "341735\n"
     ]
    }
   ],
   "source": [
    "print(up_2005['block_name_eng'].notna().sum())\n",
    "print(up_2010['block_name_eng'].notna().sum())\n",
    "print(up_2015['block_name_eng'].notna().sum())\n",
    "print(up_2021['block_name_eng'].notna().sum())"
   ]
  },
  {
   "cell_type": "code",
   "execution_count": 27,
   "id": "bfc13a4c",
   "metadata": {},
   "outputs": [],
   "source": [
    "up_2005['elected_sarpanch_name_eng'] = up_2005['elected_sarpanch_name'].str.strip().map(merged_dict).str.strip()\n",
    "up_2010['elected_sarpanch_name_eng'] = up_2010['elected_sarpanch_name'].str.strip().map(merged_dict).str.strip()\n",
    "up_2015['elected_sarpanch_name_eng'] = up_2015['elected_sarpanch_name'].str.strip().map(merged_dict).str.strip()\n",
    "up_2021['elected_sarpanch_name_eng'] = up_2021['elected_sarpanch_name'].str.strip().map(merged_dict).str.strip()"
   ]
  },
  {
   "cell_type": "code",
   "execution_count": 28,
   "id": "a61333a8",
   "metadata": {},
   "outputs": [
    {
     "name": "stdout",
     "output_type": "stream",
     "text": [
      "42690\n",
      "51688\n",
      "45034\n",
      "271036\n"
     ]
    }
   ],
   "source": [
    "print(up_2005['elected_sarpanch_name_eng'].notna().sum())\n",
    "print(up_2010['elected_sarpanch_name_eng'].notna().sum())\n",
    "print(up_2015['elected_sarpanch_name_eng'].notna().sum())\n",
    "print(up_2021['elected_sarpanch_name_eng'].notna().sum())"
   ]
  },
  {
   "cell_type": "code",
   "execution_count": 29,
   "id": "ae3bf906",
   "metadata": {},
   "outputs": [],
   "source": [
    "up_2010['husband_spouse_name_eng'] = up_2010['husband_spouse_name'].str.strip().map(merged_dict).str.strip()\n",
    "up_2015['husband_spouse_name_eng'] = up_2015['father_husband'].str.strip().map(merged_dict).str.strip()\n",
    "up_2021['husband_spouse_name_eng'] = up_2021['father_husband'].str.strip().map(merged_dict).str.strip()"
   ]
  },
  {
   "cell_type": "code",
   "execution_count": 30,
   "id": "6388f504",
   "metadata": {},
   "outputs": [],
   "source": [
    "up_2005.to_parquet(\"../data/fin/up_gp_sarpanch_2005_fixed_with_transliteration.parquet\", index = False)\n",
    "up_2010.to_parquet(\"../data/fin/up_gp_sarpanch_2010_fixed_with_transliteration.parquet\", index = False)\n",
    "\n",
    "# 2015 coercion\n",
    "columns_to_convert = ['mobile_number', 'valid_votes_received', 'votes_received_percent', 'voting_percent']\n",
    "up_2015[columns_to_convert] = up_2015[columns_to_convert].astype(str)\n",
    "up_2015.to_parquet(\"../data/fin/up_gp_sarpanch_2015_fixed_with_transliteration.parquet\", index = False)\n",
    "up_2021.to_parquet(\"../data/fin/up_gp_sarpanch_2021_fixed_with_transliteration.parquet\", index = False)"
   ]
  },
  {
   "cell_type": "code",
   "execution_count": null,
   "id": "f3d2c3ed",
   "metadata": {},
   "outputs": [],
   "source": []
  }
 ],
 "metadata": {
  "kernelspec": {
   "display_name": "Python 3 (ipykernel)",
   "language": "python",
   "name": "python3"
  },
  "language_info": {
   "codemirror_mode": {
    "name": "ipython",
    "version": 3
   },
   "file_extension": ".py",
   "mimetype": "text/x-python",
   "name": "python",
   "nbconvert_exporter": "python",
   "pygments_lexer": "ipython3",
   "version": "3.9.13"
  }
 },
 "nbformat": 4,
 "nbformat_minor": 5
}
