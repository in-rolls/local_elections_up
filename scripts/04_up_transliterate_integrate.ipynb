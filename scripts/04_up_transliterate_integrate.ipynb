{
 "cells": [
  {
   "cell_type": "code",
   "execution_count": 35,
   "id": "2474c30b",
   "metadata": {},
   "outputs": [],
   "source": [
    "import pandas as pd\n",
    "from functools import reduce"
   ]
  },
  {
   "cell_type": "code",
   "execution_count": 36,
   "id": "aac4fafe",
   "metadata": {},
   "outputs": [],
   "source": [
    "up_2005 = pd.read_csv(\"../data/up_gp_sarpanch_2005.csv\", low_memory = False)\n",
    "up_2010 = pd.read_csv(\"../data/up_gp_sarpanch_2010_fixed.csv\", low_memory = False)"
   ]
  },
  {
   "cell_type": "code",
   "execution_count": 44,
   "id": "90943dfd",
   "metadata": {},
   "outputs": [
    {
     "data": {
      "text/plain": [
       "Index(['order', 'page', 'sr_no', 'gp_code', 'gp_name', 'gp_reservation_status',\n",
       "       'elected_sarpanch', 'sex', 'candidate_res_status', 'district_code',\n",
       "       'district_name', 'block_code', 'block_name', 'gp_name_eng'],\n",
       "      dtype='object')"
      ]
     },
     "execution_count": 44,
     "metadata": {},
     "output_type": "execute_result"
    }
   ],
   "source": [
    "up_2005.columns"
   ]
  },
  {
   "cell_type": "code",
   "execution_count": 37,
   "id": "5ac89bfa",
   "metadata": {},
   "outputs": [],
   "source": [
    "# Load transliteration\n",
    "up_2005_trans = pd.read_csv(\"../data/transliteration/up_gp_sarpanch_2005_transliterate_out.csv\", low_memory = False)\n",
    "up_2010_trans = pd.read_csv(\"../data/transliteration/up_gp_sarpanch_2010_transliterate_out.csv\", low_memory = False)"
   ]
  },
  {
   "cell_type": "code",
   "execution_count": 38,
   "id": "7c985399",
   "metadata": {},
   "outputs": [
    {
     "data": {
      "text/plain": [
       "54734"
      ]
     },
     "execution_count": 38,
     "metadata": {},
     "output_type": "execute_result"
    }
   ],
   "source": [
    "# Let's convert to dict\n",
    "mapping_dict_1 = up_2005_trans.set_index('Name')['Transliterated'].to_dict()\n",
    "mapping_dict_2 = up_2010_trans.set_index('Name')['Transliterated'].to_dict()\n",
    "\n",
    "merged_dict = reduce(lambda x, y: x | y, [mapping_dict_1, mapping_dict_2])\n",
    "len(merged_dict)"
   ]
  },
  {
   "cell_type": "code",
   "execution_count": 40,
   "id": "79f9a384",
   "metadata": {},
   "outputs": [],
   "source": [
    "up_2005['gp_name_eng'] = up_2005['gp_name'].map(merged_dict)\n",
    "up_2010['gp_name_eng'] = up_2010['gp_name_fin'].map(merged_dict)"
   ]
  },
  {
   "cell_type": "code",
   "execution_count": 42,
   "id": "c38a484f",
   "metadata": {},
   "outputs": [
    {
     "name": "stdout",
     "output_type": "stream",
     "text": [
      "50789\n",
      "10595\n"
     ]
    }
   ],
   "source": [
    "print(up_2005['gp_name_eng'].notna().sum())\n",
    "print(up_2010['gp_name_eng'].notna().sum())"
   ]
  },
  {
   "cell_type": "code",
   "execution_count": 45,
   "id": "ec4230d2",
   "metadata": {},
   "outputs": [
    {
     "data": {
      "text/plain": [
       "35450"
      ]
     },
     "execution_count": 45,
     "metadata": {},
     "output_type": "execute_result"
    }
   ],
   "source": [
    "up_2005['elected_sarpanch_name_eng'] = up_2005['elected_sarpanch_name'].map(merged_dict).str.strip()\n",
    "up_2005['elected_sarpanch_name_eng'].notna().sum()"
   ]
  },
  {
   "cell_type": "code",
   "execution_count": 22,
   "id": "a61333a8",
   "metadata": {},
   "outputs": [
    {
     "data": {
      "text/plain": [
       "35557"
      ]
     },
     "execution_count": 22,
     "metadata": {},
     "output_type": "execute_result"
    }
   ],
   "source": [
    "up_2010['elected_sarpanch_name_eng'] = up_2010['elected_sarpanch_name'].map(merged_dict).str.strip()\n",
    "up_2010['elected_sarpanch_name_eng'].notna().sum()"
   ]
  },
  {
   "cell_type": "code",
   "execution_count": 47,
   "id": "ae3bf906",
   "metadata": {},
   "outputs": [
    {
     "data": {
      "text/plain": [
       "28214"
      ]
     },
     "execution_count": 47,
     "metadata": {},
     "output_type": "execute_result"
    }
   ],
   "source": [
    "up_2010['husband_spouse_name_eng'] = up_2010['husband_spouse_name'].map(merged_dict).str.strip()\n",
    "up_2010['husband_spouse_name_eng'].notna().sum()"
   ]
  },
  {
   "cell_type": "code",
   "execution_count": 24,
   "id": "6388f504",
   "metadata": {},
   "outputs": [],
   "source": [
    "up_2010.to_csv(\"../data/up_gp_sarpanch_2010_fixed_with_transliteration.csv\", index = False)"
   ]
  },
  {
   "cell_type": "code",
   "execution_count": null,
   "id": "f3d2c3ed",
   "metadata": {},
   "outputs": [],
   "source": []
  }
 ],
 "metadata": {
  "kernelspec": {
   "display_name": "Python 3 (ipykernel)",
   "language": "python",
   "name": "python3"
  },
  "language_info": {
   "codemirror_mode": {
    "name": "ipython",
    "version": 3
   },
   "file_extension": ".py",
   "mimetype": "text/x-python",
   "name": "python",
   "nbconvert_exporter": "python",
   "pygments_lexer": "ipython3",
   "version": "3.9.13"
  }
 },
 "nbformat": 4,
 "nbformat_minor": 5
}
