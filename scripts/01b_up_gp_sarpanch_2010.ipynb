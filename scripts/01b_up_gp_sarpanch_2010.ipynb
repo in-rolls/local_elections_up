{
 "cells": [
  {
   "cell_type": "markdown",
   "id": "25235d7c",
   "metadata": {},
   "source": [
    "### UP 2010 Clean up"
   ]
  },
  {
   "cell_type": "code",
   "execution_count": 1,
   "id": "bd2e1f30",
   "metadata": {},
   "outputs": [],
   "source": [
    "import pandas as pd\n",
    "import numpy as np\n",
    "import re"
   ]
  },
  {
   "cell_type": "code",
   "execution_count": 2,
   "id": "ce16414d",
   "metadata": {},
   "outputs": [
    {
     "data": {
      "text/html": [
       "<div>\n",
       "<style scoped>\n",
       "    .dataframe tbody tr th:only-of-type {\n",
       "        vertical-align: middle;\n",
       "    }\n",
       "\n",
       "    .dataframe tbody tr th {\n",
       "        vertical-align: top;\n",
       "    }\n",
       "\n",
       "    .dataframe thead th {\n",
       "        text-align: right;\n",
       "    }\n",
       "</style>\n",
       "<table border=\"1\" class=\"dataframe\">\n",
       "  <thead>\n",
       "    <tr style=\"text-align: right;\">\n",
       "      <th></th>\n",
       "      <th>original_filename</th>\n",
       "      <th>page</th>\n",
       "      <th>order</th>\n",
       "      <th>district_name</th>\n",
       "      <th>sr_no</th>\n",
       "      <th>gp_code</th>\n",
       "      <th>block_code</th>\n",
       "      <th>block_name</th>\n",
       "      <th>sr_gp_combo</th>\n",
       "      <th>gp_name</th>\n",
       "      <th>gp_reservation_status</th>\n",
       "      <th>elected_sarpanch_name</th>\n",
       "      <th>husband_spouse_name</th>\n",
       "      <th>candidate_res_status</th>\n",
       "      <th>age</th>\n",
       "      <th>sex</th>\n",
       "      <th>education</th>\n",
       "      <th>address</th>\n",
       "    </tr>\n",
       "  </thead>\n",
       "  <tbody>\n",
       "    <tr>\n",
       "      <th>0</th>\n",
       "      <td>gpp_1401.pdf</td>\n",
       "      <td>34</td>\n",
       "      <td>37214</td>\n",
       "      <td>बाराबंकी</td>\n",
       "      <td>806</td>\n",
       "      <td>1.0</td>\n",
       "      <td>13</td>\n",
       "      <td>त्रिवेदीगंज</td>\n",
       "      <td>806</td>\n",
       "      <td>अखैयापुर</td>\n",
       "      <td>अनुसूचित जाति महिला</td>\n",
       "      <td>उमा</td>\n",
       "      <td>रामदीन</td>\n",
       "      <td>अनुसूचित जाति</td>\n",
       "      <td>38</td>\n",
       "      <td>महिला</td>\n",
       "      <td>साक्षर</td>\n",
       "      <td>ग्रा व पो ० अख्खैयापुर त्रिवेदीगंज</td>\n",
       "    </tr>\n",
       "    <tr>\n",
       "      <th>1</th>\n",
       "      <td>gpp_0405.pdf</td>\n",
       "      <td>35</td>\n",
       "      <td>3975</td>\n",
       "      <td>बुलंदशहर</td>\n",
       "      <td>836</td>\n",
       "      <td>1.0</td>\n",
       "      <td>16</td>\n",
       "      <td>अगौता</td>\n",
       "      <td>836</td>\n",
       "      <td>अगौता</td>\n",
       "      <td>महिला</td>\n",
       "      <td>नादिरा</td>\n",
       "      <td>शकील अहमद</td>\n",
       "      <td>महिला</td>\n",
       "      <td>38 महिला साक्षर</td>\n",
       "      <td>महिला</td>\n",
       "      <td>साक्षर</td>\n",
       "      <td>ग्राम व पो ० अगौता</td>\n",
       "    </tr>\n",
       "    <tr>\n",
       "      <th>2</th>\n",
       "      <td>gpp_1203.pdf</td>\n",
       "      <td>0</td>\n",
       "      <td>28033</td>\n",
       "      <td>हरदोई</td>\n",
       "      <td>1</td>\n",
       "      <td>1.0</td>\n",
       "      <td>1</td>\n",
       "      <td>सण्डीला</td>\n",
       "      <td>1</td>\n",
       "      <td>अटसलिया</td>\n",
       "      <td>अनुसूचित जाति महिला</td>\n",
       "      <td>रामबेटी</td>\n",
       "      <td>रजनीश कुमार</td>\n",
       "      <td>अनुसूचित जाति - महिला</td>\n",
       "      <td>26</td>\n",
       "      <td>महिला</td>\n",
       "      <td>निरक्षर</td>\n",
       "      <td>अटसलिया</td>\n",
       "    </tr>\n",
       "    <tr>\n",
       "      <th>3</th>\n",
       "      <td>gpp_0701.pdf</td>\n",
       "      <td>32</td>\n",
       "      <td>12049</td>\n",
       "      <td>अलीगढ़</td>\n",
       "      <td>776</td>\n",
       "      <td>1.0</td>\n",
       "      <td>12</td>\n",
       "      <td>जवां</td>\n",
       "      <td>776</td>\n",
       "      <td>1 अमरौली</td>\n",
       "      <td>पिछड़ी जाति</td>\n",
       "      <td>अरविन्द</td>\n",
       "      <td>रामजी लाल</td>\n",
       "      <td>पिछड़ी जाति</td>\n",
       "      <td>23</td>\n",
       "      <td>पुरुष</td>\n",
       "      <td>स्नातक</td>\n",
       "      <td>ग्राम अमरोली पो ० खास</td>\n",
       "    </tr>\n",
       "    <tr>\n",
       "      <th>4</th>\n",
       "      <td>gpp_1501.pdf</td>\n",
       "      <td>6</td>\n",
       "      <td>40121</td>\n",
       "      <td>बस्ती</td>\n",
       "      <td>154</td>\n",
       "      <td>1.0</td>\n",
       "      <td>3</td>\n",
       "      <td>रामनगर</td>\n",
       "      <td>154</td>\n",
       "      <td>1 अमारेडीहा</td>\n",
       "      <td>अनारक्षित</td>\n",
       "      <td>उमाशंकर</td>\n",
       "      <td>रामनरायन</td>\n",
       "      <td>पिछड़ी जाति</td>\n",
       "      <td>35 पुरुष</td>\n",
       "      <td>पुरुष</td>\n",
       "      <td>इण्टर</td>\n",
       "      <td>ग्राम व पो O आमरेडीहा</td>\n",
       "    </tr>\n",
       "  </tbody>\n",
       "</table>\n",
       "</div>"
      ],
      "text/plain": [
       "  original_filename  page  order district_name  sr_no  gp_code  block_code  \\\n",
       "0      gpp_1401.pdf    34  37214      बाराबंकी    806      1.0          13   \n",
       "1      gpp_0405.pdf    35   3975      बुलंदशहर    836      1.0          16   \n",
       "2      gpp_1203.pdf     0  28033         हरदोई      1      1.0           1   \n",
       "3      gpp_0701.pdf    32  12049       अलीगढ़     776      1.0          12   \n",
       "4      gpp_1501.pdf     6  40121         बस्ती    154      1.0           3   \n",
       "\n",
       "    block_name sr_gp_combo      gp_name gp_reservation_status  \\\n",
       "0  त्रिवेदीगंज         806     अखैयापुर   अनुसूचित जाति महिला   \n",
       "1        अगौता         836        अगौता                 महिला   \n",
       "2      सण्डीला           1      अटसलिया   अनुसूचित जाति महिला   \n",
       "3         जवां         776     1 अमरौली           पिछड़ी जाति   \n",
       "4       रामनगर         154  1 अमारेडीहा             अनारक्षित   \n",
       "\n",
       "  elected_sarpanch_name husband_spouse_name   candidate_res_status  \\\n",
       "0                   उमा              रामदीन          अनुसूचित जाति   \n",
       "1                नादिरा           शकील अहमद                  महिला   \n",
       "2               रामबेटी         रजनीश कुमार  अनुसूचित जाति - महिला   \n",
       "3               अरविन्द           रामजी लाल            पिछड़ी जाति   \n",
       "4               उमाशंकर            रामनरायन            पिछड़ी जाति   \n",
       "\n",
       "               age    sex education                             address  \n",
       "0               38  महिला    साक्षर  ग्रा व पो ० अख्खैयापुर त्रिवेदीगंज  \n",
       "1  38 महिला साक्षर  महिला    साक्षर                  ग्राम व पो ० अगौता  \n",
       "2               26  महिला   निरक्षर                             अटसलिया  \n",
       "3               23  पुरुष    स्नातक               ग्राम अमरोली पो ० खास  \n",
       "4         35 पुरुष  पुरुष     इण्टर               ग्राम व पो O आमरेडीहा  "
      ]
     },
     "execution_count": 2,
     "metadata": {},
     "output_type": "execute_result"
    }
   ],
   "source": [
    "up_2010 = pd.read_csv(\"../data/up_gp_sarpanch_2010.csv\", low_memory = False)\n",
    "up_2010.head()"
   ]
  },
  {
   "cell_type": "markdown",
   "id": "f546d7a8",
   "metadata": {},
   "source": [
    "### Let's get GP Name sorted"
   ]
  },
  {
   "cell_type": "code",
   "execution_count": 3,
   "id": "a29eabda",
   "metadata": {},
   "outputs": [
    {
     "data": {
      "text/plain": [
       "9546"
      ]
     },
     "execution_count": 3,
     "metadata": {},
     "output_type": "execute_result"
    }
   ],
   "source": [
    "up_2010['gp_name_temp'] = up_2010['sr_gp_combo'].str.strip().str.replace('[0-9\\[\\]]', '', regex=True).str.strip()\n",
    "up_2010['gp_name_temp'].nunique()"
   ]
  },
  {
   "cell_type": "code",
   "execution_count": 4,
   "id": "535640e7",
   "metadata": {},
   "outputs": [
    {
     "data": {
      "text/plain": [
       "रामपुर        52\n",
       "रसूलपुर       50\n",
       "गोपालपुर      49\n",
       "रामनगर        42\n",
       "रायपुर        41\n",
       "शाहपुर        41\n",
       "सलेमपुर       39\n",
       "जगदीशपुर      36\n",
       "सिकन्दरपुर    36\n",
       "गौरा          36\n",
       "जलालपुर       35\n",
       "भगवानपुर      35\n",
       "नरायनपुर      34\n",
       "कल्यानपुर     32\n",
       "दौलतपुर       31\n",
       "बहादुरपुर     31\n",
       "बरौली         30\n",
       "सुल्तानपुर    29\n",
       "खानपुर        28\n",
       "मिर्जापुर     27\n",
       "Name: gp_name, dtype: int64"
      ]
     },
     "execution_count": 4,
     "metadata": {},
     "output_type": "execute_result"
    }
   ],
   "source": [
    "### Normalize GP Name\n",
    "\n",
    "up_2010['gp_name'] = up_2010['gp_name'].str.strip()\\\n",
    "                        .str.replace(r'^(\\s?-\\s?|\\s?--\\s?)|(\\s-|\\s--|\\s---)$', '', regex=True)\\\n",
    "                        .str.replace(r'\\s{2,}', ' ', regex=True)\\\n",
    "                        .str.strip()\\\n",
    "                        .str.replace('[0-9\\[\\]]', '', regex=True)\n",
    "\n",
    "# Let's take out reservation status from GP Name\n",
    "gp_res_status = [\n",
    "    'अनारक्षित',\n",
    "    'महिला',\n",
    "    'अनुसूचित जाति - महिला',\n",
    "    'पिछड़ी जाति - महिला',\n",
    "    'पिछड़ी जाति',\n",
    "    'अनुसूचित जाति',\n",
    "    'पिछड़ी जाति महिला -',\n",
    "    'अनुसूचित जाति महिला -'\n",
    "    'महिला'\n",
    "    'अनुसूचित जाति महिला -',\n",
    "    'पिछड़ी जाति महिला',\n",
    "    'अनुसूचित जाति महिला',\n",
    "    'पिछड़ी जाति महिला -'\n",
    "    'अनुसूचित जाति महिला -',\n",
    "    'पिछड़ी जाति महिला --',\n",
    "    'अनुसूचित जाति महिला - '\n",
    "]\n",
    "\n",
    "up_2010['gp_res_status_temp'] = np.where(up_2010['gp_name'].str.strip().isin(gp_res_status), up_2010['gp_name'], '')\n",
    "\n",
    "pattern = '|'.join(map(re.escape, gp_res_status))\n",
    "\n",
    "up_2010['gp_name_fin'] = up_2010['gp_name'].str.replace(pattern, '', regex=True).str.strip()\n",
    "\n",
    "#up_2010['gp_name'] = np.where(~up_2010['gp_name'].isin(gp_res_status), up_2010['gp_name'], '')\n",
    "up_2010['gp_name'].value_counts()[:20]"
   ]
  },
  {
   "cell_type": "code",
   "execution_count": 5,
   "id": "57e3dd67",
   "metadata": {},
   "outputs": [
    {
     "data": {
      "text/plain": [
       "31894"
      ]
     },
     "execution_count": 5,
     "metadata": {},
     "output_type": "execute_result"
    }
   ],
   "source": [
    "up_2010['gp_name_fin'].nunique()"
   ]
  },
  {
   "cell_type": "code",
   "execution_count": 6,
   "id": "1e2bf247",
   "metadata": {},
   "outputs": [
    {
     "data": {
      "text/plain": [
       "0         अखैयापुर\n",
       "1            अगौता\n",
       "2          अटसलिया\n",
       "3           अमरौली\n",
       "4        अमारेडीहा\n",
       "           ...    \n",
       "51856         परनी\n",
       "51857         पड़री\n",
       "51858       गड़िया\n",
       "51859       बलियरी\n",
       "51860      रासपहरी\n",
       "Name: gp_name_fin, Length: 51861, dtype: object"
      ]
     },
     "execution_count": 6,
     "metadata": {},
     "output_type": "execute_result"
    }
   ],
   "source": [
    "up_2010['gp_name_fin'] = up_2010.apply(lambda x: x['gp_name_temp'] if x['gp_name_temp'] != '' \n",
    "                            else x['gp_name_fin'], axis=1)\n",
    "up_2010['gp_name_fin']"
   ]
  },
  {
   "cell_type": "code",
   "execution_count": 7,
   "id": "e7e4d613",
   "metadata": {},
   "outputs": [
    {
     "data": {
      "text/plain": [
       "39189"
      ]
     },
     "execution_count": 7,
     "metadata": {},
     "output_type": "execute_result"
    }
   ],
   "source": [
    "up_2010['gp_name_fin'].nunique()"
   ]
  },
  {
   "cell_type": "code",
   "execution_count": 8,
   "id": "fb4c3b97",
   "metadata": {},
   "outputs": [
    {
     "data": {
      "text/plain": [
       "अनारक्षित                                      17925\n",
       "पिछड़ी जाति                                     9473\n",
       "महिला                                           8401\n",
       "अनुसूचित जाति                                   7168\n",
       "पिछड़ी जाति - महिला                             2482\n",
       "पिछड़ी जाति महिला                               2343\n",
       "अनुसूचित जाति - महिला                           2106\n",
       "अनुसूचित जाति महिला                             1718\n",
       "पिछडी जाति                                        64\n",
       "पिछडी जाति - महिला                                53\n",
       "पिछड़ी जाति महिला                                  37\n",
       "अनुसूचित जन जाति                                  17\n",
       "अनुसूचित जन जाति - महिला                          14\n",
       "पिछड़ी जाति - महिला                                 7\n",
       "पिछडी जाति महिला                                   6\n",
       "अनारक्षित                                          3\n",
       "पिछड़ी जाति - महिला -                              2\n",
       "पिछड़ी जाति \\nअनारक्षित                            2\n",
       " अनारक्षित                                         2\n",
       "पिछड़ी जाति                                        2\n",
       "अनुसूचित जाति \\nमहिला                              1\n",
       "पिछड़ी जाति                                         1\n",
       "अनारक्षित \\nअनारक्षित                              1\n",
       "अनुसूचित जाति\\nपिछड़ी जाति\\nअनारक्षित              1\n",
       "महिला अनारक्षित                                    1\n",
       "अनुसूचित जाति महिला -                              1\n",
       "पिछड़ी जाति - महिला \\nअनुसूचित जाति - महिला        1\n",
       "अनुसूचित \\nअनारक्षित                               1\n",
       "पिछड़ी जाति \\nअनुसूचित जाति                        1\n",
       "पिछड़ी जाति - महिला                                1\n",
       "Name: gp_reservation_status, dtype: int64"
      ]
     },
     "execution_count": 8,
     "metadata": {},
     "output_type": "execute_result"
    }
   ],
   "source": [
    "up_2010['gp_reservation_status'].value_counts()[:30]"
   ]
  },
  {
   "cell_type": "code",
   "execution_count": 9,
   "id": "0b123f8f",
   "metadata": {},
   "outputs": [
    {
     "data": {
      "text/plain": [
       "अनारक्षित                                17924\n",
       "पिछड़ी जाति                               9473\n",
       "महिला                                     8402\n",
       "अनुसूचित जाति                             7168\n",
       "पिछड़ी जाति - महिला                       2482\n",
       "पिछड़ी जाति महिला                         2343\n",
       "अनुसूचित जाति - महिला                     2106\n",
       "अनुसूचित जाति महिला                       1718\n",
       "पिछडी जाति                                  64\n",
       "पिछडी जाति - महिला                          53\n",
       "पिछड़ी जाति महिला                            37\n",
       "अनुसूचित जन जाति                            17\n",
       "अनुसूचित जन जाति - महिला                    14\n",
       "पिछड़ी जाति - महिला                           7\n",
       "पिछडी जाति महिला                             6\n",
       "अनारक्षित                                    3\n",
       "पिछड़ी जाति - महिला -                        2\n",
       "पिछड़ी जाति \\nअनारक्षित                      2\n",
       " अनारक्षित                                   2\n",
       "पिछड़ी जाति                                  2\n",
       "अनुसूचित जाति \\nमहिला                        1\n",
       "पिछड़ी जाति                                   1\n",
       "अनारक्षित \\nअनारक्षित                        1\n",
       "अनुसूचित जाति\\nपिछड़ी जाति\\nअनारक्षित        1\n",
       "Name: gp_res_status_fin, dtype: int64"
      ]
     },
     "execution_count": 9,
     "metadata": {},
     "output_type": "execute_result"
    }
   ],
   "source": [
    "up_2010['gp_res_status_fin'] = up_2010.apply(lambda x: x['gp_res_status_temp'] if x['gp_res_status_temp'] != '' \n",
    "                            else x['gp_reservation_status'], axis=1)\n",
    "up_2010['gp_res_status_fin'].value_counts()[:24]"
   ]
  },
  {
   "cell_type": "code",
   "execution_count": 10,
   "id": "a72c3303",
   "metadata": {},
   "outputs": [
    {
     "data": {
      "text/plain": [
       "अनारक्षित                   17929\n",
       "पिछड़ी जाति                  9476\n",
       "महिला                        8402\n",
       "अनुसूचित जाति                7169\n",
       "पिछड़ी जाति - महिला          2485\n",
       "पिछड़ी जाति महिला            2343\n",
       "अनुसूचित जाति - महिला        2106\n",
       "अनुसूचित जाति महिला          1720\n",
       "पिछडी जाति                     64\n",
       "पिछडी जाति - महिला             53\n",
       "पिछड़ी जाति महिला               37\n",
       "अनुसूचित जन जाति               17\n",
       "अनुसूचित जन जाति - महिला       14\n",
       "पिछड़ी जाति - महिला              7\n",
       "पिछडी जाति महिला                6\n",
       "Name: gp_res_status_fin, dtype: int64"
      ]
     },
     "execution_count": 10,
     "metadata": {},
     "output_type": "execute_result"
    }
   ],
   "source": [
    "# Normalize\n",
    "up_2010['gp_res_status_fin'] = (up_2010['gp_res_status_fin']\n",
    "                 .str.strip()  # Step 1: Trim leading and trailing spaces   \n",
    "                 .str.replace(r'^(\\s?-\\s?|\\s?--\\s?)|(\\s-|\\s--|\\s---)$', '', regex=True)  # Step 2: Remove specific patterns at the start/end\n",
    "                 .str.strip()  # Step 1: Trim leading and trailing spaces\n",
    "                 .str.replace(r'\\s{2,}', ' ', regex=True).str.strip())  # Step 3: Replace multiple spaces with a single space\n",
    "up_2010['gp_res_status_fin'].value_counts()[:15]"
   ]
  },
  {
   "cell_type": "code",
   "execution_count": 11,
   "id": "6d299ddc",
   "metadata": {},
   "outputs": [
    {
     "data": {
      "text/plain": [
       "['अनारक्षित',\n",
       " 'पिछड़ी जाति',\n",
       " 'महिला',\n",
       " 'अनुसूचित जाति',\n",
       " 'पिछड़ी जाति - महिला',\n",
       " 'पिछड़ी जाति महिला',\n",
       " 'अनुसूचित जाति - महिला',\n",
       " 'अनुसूचित जाति महिला',\n",
       " 'पिछडी जाति',\n",
       " 'पिछडी जाति - महिला',\n",
       " 'पिछड़ी जाति महिला',\n",
       " 'अनुसूचित जन जाति',\n",
       " 'अनुसूचित जन जाति - महिला',\n",
       " 'पिछड़ी जाति - महिला',\n",
       " 'पिछडी जाति महिला',\n",
       " 'अनुसूचित जन जाति',\n",
       " 'अनुसूचित जन जाति महिल',\n",
       " 'पिछड़ी जाति',\n",
       " 'अनुसूचित जन जाति - महिला']"
      ]
     },
     "execution_count": 11,
     "metadata": {},
     "output_type": "execute_result"
    }
   ],
   "source": [
    "# Define the list of substrings to check for\n",
    "valid_categories = up_2010['gp_res_status_fin'].value_counts()[:15].index.to_list()\n",
    "valid_categories.extend(['अनुसूचित जन जाति', 'अनुसूचित जन जाति महिल', 'पिछड़ी जाति', 'अनुसूचित जन जाति - महिला'])\n",
    "valid_categories"
   ]
  },
  {
   "cell_type": "code",
   "execution_count": 12,
   "id": "78ce9df6",
   "metadata": {},
   "outputs": [
    {
     "data": {
      "text/plain": [
       "अनारक्षित                   17929\n",
       "पिछड़ी जाति                  9476\n",
       "महिला                        8402\n",
       "अनुसूचित जाति                7169\n",
       "पिछड़ी जाति - महिला          2485\n",
       "पिछड़ी जाति महिला            2343\n",
       "अनुसूचित जाति - महिला        2106\n",
       "अनुसूचित जाति महिला          1720\n",
       "पिछडी जाति                     64\n",
       "पिछडी जाति - महिला             53\n",
       "पिछड़ी जाति महिला               37\n",
       "                               32\n",
       "अनुसूचित जन जाति               17\n",
       "अनुसूचित जन जाति - महिला       14\n",
       "पिछड़ी जाति - महिला              7\n",
       "पिछडी जाति महिला                6\n",
       "पिछड़ी जाति                      1\n",
       "Name: gp_res_status_fin, dtype: int64"
      ]
     },
     "execution_count": 12,
     "metadata": {},
     "output_type": "execute_result"
    }
   ],
   "source": [
    "# Define the list of substrings to check for\n",
    "up_2010['gp_res_status_fin'] = np.where(up_2010['gp_res_status_fin'].isin(valid_categories), up_2010['gp_res_status_fin'], '')\n",
    "up_2010['gp_res_status_fin'].value_counts()[:20]"
   ]
  },
  {
   "cell_type": "code",
   "execution_count": 13,
   "id": "a6c6e3a3",
   "metadata": {},
   "outputs": [
    {
     "data": {
      "text/plain": [
       "Unreserved                       17929\n",
       "Other Backward Class              9540\n",
       "Female                            8402\n",
       "Scheduled Caste                   7169\n",
       "Other Backward Class - Female     4931\n",
       "Scheduled Caste - Female          3826\n",
       "Unknown                             32\n",
       "Scheduled Tribe                     17\n",
       "Scheduled Tribe - Female            14\n",
       "Name: gp_res_status_fin_eng, dtype: int64"
      ]
     },
     "execution_count": 13,
     "metadata": {},
     "output_type": "execute_result"
    }
   ],
   "source": [
    "translit_dict = {\n",
    "    'अनारक्षित': 'Unreserved',\n",
    "    'पिछड़ी जाति': 'Other Backward Class',\n",
    "    'महिला': 'Female',\n",
    "    'अनुसूचित जाति': 'Scheduled Caste',\n",
    "    'पिछड़ी जाति - महिला': 'Other Backward Class - Female',\n",
    "    'पिछड़ी जाति महिला': 'Other Backward Class - Female',\n",
    "    'अनुसूचित जाति - महिला': 'Scheduled Caste - Female',\n",
    "    'अनुसूचित जाति महिला': 'Scheduled Caste - Female',\n",
    "    'पिछडी जाति': 'Other Backward Class',\n",
    "    'पिछडी जाति - महिला': 'Other Backward Class - Female',\n",
    "    'पिछड़ी जाति महिला': 'Other Backward Class - Female',\n",
    "    '': 'Unknown',  \n",
    "    'अनुसूचित जन जाति': 'Scheduled Tribe',\n",
    "    'अनुसूचित जन जाति': 'Scheduled Tribe',\n",
    "    'अनुसूचित जन जाति - महिला': 'Scheduled Tribe - Female',\n",
    "    'अनुसूचित जन जाति - महिला': 'Scheduled Tribe - Female',\n",
    "    'पिछड़ी जाति - महिला': 'Other Backward Class - Female',\n",
    "    'पिछडी जाति महिला': 'Other Backward Class - Female'\n",
    "}\n",
    "\n",
    "up_2010['gp_res_status_fin_eng'] = up_2010['gp_res_status_fin'].map(translit_dict)\n",
    "up_2010['gp_res_status_fin_eng'].value_counts()"
   ]
  },
  {
   "cell_type": "code",
   "execution_count": 14,
   "id": "aec8b694",
   "metadata": {},
   "outputs": [
    {
     "data": {
      "text/plain": [
       "51860"
      ]
     },
     "execution_count": 14,
     "metadata": {},
     "output_type": "execute_result"
    }
   ],
   "source": [
    "up_2010['gp_res_status_fin_eng'].value_counts().sum()"
   ]
  },
  {
   "cell_type": "code",
   "execution_count": 15,
   "id": "194a0e42",
   "metadata": {},
   "outputs": [],
   "source": [
    "def process_info(info):\n",
    "    if not isinstance(info, str):\n",
    "        return \"\", \"\", None  # Handle non-string data directly\n",
    "\n",
    "    # Initialize default values for gender and age\n",
    "    gender = \"\"\n",
    "    age = None\n",
    "\n",
    "    keywords = {'महिला': 'woman', 'पुरुष': 'man'}\n",
    "    age_pattern = re.compile(r'\\b\\d+\\b')  # Matches whole numbers\n",
    "\n",
    "    # Extract age from the string (assuming the first number found is the age)\n",
    "    found_age = age_pattern.findall(info)\n",
    "    if found_age:\n",
    "        age = int(found_age[0])  # Convert the first found age to integer\n",
    "        info = age_pattern.sub(\"\", info).strip()  # Remove the age from the string\n",
    "\n",
    "    # Check for and process keywords\n",
    "    for keyword, eng_gender in keywords.items():\n",
    "        if keyword in info:\n",
    "            gender = keyword #eng_gender\n",
    "            info = info.replace(keyword, '').strip()  # Strip keyword and any extra spaces\n",
    "\n",
    "    return info, gender, age"
   ]
  },
  {
   "cell_type": "markdown",
   "id": "776aacdf",
   "metadata": {},
   "source": [
    "### Split Cols on the Right"
   ]
  },
  {
   "cell_type": "code",
   "execution_count": 16,
   "id": "6b4a835d",
   "metadata": {},
   "outputs": [
    {
     "data": {
      "text/plain": [
       "पिछड़ी जाति                        22555\n",
       "अनुसूचित जाति                      10586\n",
       "अनारक्षित                          10078\n",
       "पिछड़ी जाति -                       3434\n",
       "                                    2577\n",
       "अनुसूचित जाति -                      983\n",
       "अनुसूचित जाति  -                     912\n",
       "पिछडी जाति                           342\n",
       "- अनुसूचित जाति                       86\n",
       "अनुसूचित जन जाति                      60\n",
       "पिछड़ी जाति                            59\n",
       "अनुसूचित जा                           52\n",
       "- पिछड़ी जाति                         48\n",
       "अनुसूचित जाि                          15\n",
       "अनुसूचित जन जाति -                    14\n",
       "अनुसूचित जात                          10\n",
       "- पिछड़ी जाति                           6\n",
       "अनुसूचित जाति  --                      6\n",
       "पिछड़ी जाति\\nअनारक्षित                 3\n",
       "अनुसूचित जाति\\nअनारक्षित               2\n",
       "अनारक्षित\\nपिछड़ी जाति                 2\n",
       "पिछड़ी जाति -                           2\n",
       "-- अनुसूचित जाति                       2\n",
       "अनुसूचित जाति\\nपिछड़ी जाति             2\n",
       "पिछड़ी जाति\\nअनुसूचित जाति             2\n",
       "पिछड़ी जाति \\nपिछड़ी जाति              2\n",
       "पिछड़ी जाति\\nपिछड़ी जाति               2\n",
       "अनुसूचित \\nअनुसूचित जाति               1\n",
       "अनारक्षित\\nअनारक्षित                   1\n",
       "अनुसूचित\\nपिछड़ी जाति                  1\n",
       "-- पिछड़ी जाति                         1\n",
       "अनुसूचित जनजाति                        1\n",
       "अनुसूचित                               1\n",
       "पिछड़ी जाति -  \\nअनारक्षित             1\n",
       "पाण्डेय अनारक्षित \\nपिछड़ी जाति        1\n",
       "पिछड़ी जाति -  \\nअनुसूचित जाति         1\n",
       "पिछड़ी जाति -  \\nपिछड़ी जाति           1\n",
       "पिछड़ी जाति \\nअनारक्षित                1\n",
       "अनुसूचित जाति \\nपिछड़ी जाति            1\n",
       "अनुसूचित जन जाति  -                    1\n",
       "अनुसूचित जाति \\nअनारक्षित              1\n",
       "पिछड़ी जाति\\nजाति                      1\n",
       "कुमार अनारक्षित                        1\n",
       "-                                      1\n",
       "पिछड़ी \\nजाति                          1\n",
       "समुझ पिछड़ी जाति                       1\n",
       "Name: candidate_res_status_fin, dtype: int64"
      ]
     },
     "execution_count": 16,
     "metadata": {},
     "output_type": "execute_result"
    }
   ],
   "source": [
    "up_2010['candidate_res_status_fin'], up_2010['cand_sex_t'], up_2010['age_t'] = zip(*up_2010['candidate_res_status'].apply(process_info))\n",
    "up_2010['candidate_res_status_fin'].value_counts()"
   ]
  },
  {
   "cell_type": "code",
   "execution_count": 17,
   "id": "f5ab87e1",
   "metadata": {},
   "outputs": [
    {
     "data": {
      "text/plain": [
       "पुरुष    30175\n",
       "महिला    21629\n",
       "            57\n",
       "Name: cand_sex_t2, dtype: int64"
      ]
     },
     "execution_count": 17,
     "metadata": {},
     "output_type": "execute_result"
    }
   ],
   "source": [
    "up_2010['educ_t2'], up_2010['cand_sex_t2'], up_2010['age_t2'] = zip(*up_2010['sex'].apply(process_info))\n",
    "up_2010['cand_sex_t2'].value_counts()"
   ]
  },
  {
   "cell_type": "code",
   "execution_count": 18,
   "id": "521eb2ad",
   "metadata": {},
   "outputs": [
    {
     "data": {
      "text/plain": [
       "पुरुष    21693\n",
       "महिला    15393\n",
       "         14775\n",
       "Name: cand_sex_t3, dtype: int64"
      ]
     },
     "execution_count": 18,
     "metadata": {},
     "output_type": "execute_result"
    }
   ],
   "source": [
    "up_2010['educ_t3'], up_2010['cand_sex_t3'], up_2010['age_t3'] = zip(*up_2010['age'].apply(process_info))\n",
    "up_2010['cand_sex_t3'].value_counts()"
   ]
  },
  {
   "cell_type": "code",
   "execution_count": 19,
   "id": "c373a650",
   "metadata": {},
   "outputs": [
    {
     "data": {
      "text/plain": [
       "साक्षर                               13378\n",
       "हाई स्कूल                             7667\n",
       "इण्टर                                 6941\n",
       "प्राईमरी                              6746\n",
       "जूनियर हाई स्कूल                      6544\n",
       "स्नातक                                5555\n",
       "निरक्षर                               2786\n",
       "परास्नातक                             1845\n",
       "                                       370\n",
       "जूनियर हाई स्कूल जूनियर हाई स्कूल        4\n",
       "जूनियर हाई                               3\n",
       "प्राईमरी\\nनिरक्षर                        2\n",
       "जूनियर हाई स्कूल \\nहाई स्कूल             2\n",
       "परास्नातक\\n प्राईमरी                     1\n",
       "रहाई स्कूल                               1\n",
       "प्राईमरी ग्राम                           1\n",
       "हाई स्कूल                                1\n",
       "इण्टर ग्राम                              1\n",
       "परास्नातक                                1\n",
       "प्राईमरी \\nजूनियर हाई स्कूल              1\n",
       "मटेहॅू                                   1\n",
       "इण्टर \\nजूनियर हाई स्कूल                 1\n",
       "प्राईमरी\\n  जूनियर हाई स्कूल             1\n",
       "परास्नातक \\nहाई स्कूल                    1\n",
       "जूनियर हाई स्कूल \\nसाक्षर                1\n",
       "प्राईमरी\\n  निरक्षर                      1\n",
       "इण्टर \\nप्राईमरी                         1\n",
       "जूनियर हाई स्कूल \\nप्राईमरी              1\n",
       "स्नातक                                   1\n",
       "साक्षर \\nहाई स्कूल                       1\n",
       "जूनियर                                   1\n",
       "Name: educ_t4, dtype: int64"
      ]
     },
     "execution_count": 19,
     "metadata": {},
     "output_type": "execute_result"
    }
   ],
   "source": [
    "up_2010['educ_t4'], up_2010['cand_sex_t4'], up_2010['age_t4'] = zip(*up_2010['education'].apply(process_info))\n",
    "up_2010['educ_t4'].value_counts()"
   ]
  },
  {
   "cell_type": "markdown",
   "id": "e5998a37",
   "metadata": {},
   "source": [
    "### Finalize"
   ]
  },
  {
   "cell_type": "code",
   "execution_count": 20,
   "id": "8a5d65ef",
   "metadata": {},
   "outputs": [
    {
     "data": {
      "text/plain": [
       "पुरुष    30188\n",
       "महिला    21656\n",
       "            17\n",
       "Name: cand_sex_fin, dtype: int64"
      ]
     },
     "execution_count": 20,
     "metadata": {},
     "output_type": "execute_result"
    }
   ],
   "source": [
    "# Candidate Sex Final\n",
    "up_2010['cand_sex_fin'] = up_2010.apply(lambda x: x['cand_sex_t2'] if x['cand_sex_t3'] == '' else x['cand_sex_t3'], axis=1)\n",
    "up_2010['cand_sex_fin'].value_counts()"
   ]
  },
  {
   "cell_type": "code",
   "execution_count": 21,
   "id": "ed0d4d2b",
   "metadata": {},
   "outputs": [
    {
     "data": {
      "text/plain": [
       "148"
      ]
     },
     "execution_count": 21,
     "metadata": {},
     "output_type": "execute_result"
    }
   ],
   "source": [
    "# Candidate Age Final\n",
    "up_2010['age_fin'] = up_2010.apply(lambda x: x['age_t2'] if x['age_t3'] == '' else x['age_t3'], axis=1)\n",
    "up_2010['age_fin'].isna().sum()"
   ]
  },
  {
   "cell_type": "code",
   "execution_count": 22,
   "id": "4bc6cae2",
   "metadata": {},
   "outputs": [
    {
     "data": {
      "text/plain": [
       "count    51713.000000\n",
       "mean        41.193085\n",
       "std          9.958503\n",
       "min          5.000000\n",
       "25%         35.000000\n",
       "50%         40.000000\n",
       "75%         48.000000\n",
       "max        105.000000\n",
       "Name: age_fin, dtype: float64"
      ]
     },
     "execution_count": 22,
     "metadata": {},
     "output_type": "execute_result"
    }
   ],
   "source": [
    "up_2010['age_fin'].describe()"
   ]
  },
  {
   "cell_type": "code",
   "execution_count": 23,
   "id": "24015613",
   "metadata": {},
   "outputs": [
    {
     "data": {
      "text/plain": [
       "                                           31349\n",
       "साक्षर                                      6998\n",
       "हाई स्कूल                                   3120\n",
       "प्राईमरी                                    3016\n",
       "स्नातक                                      2106\n",
       "इण्टर                                       2098\n",
       "जूनियर हाई स्कूल                            1312\n",
       "निरक्षर                                     1160\n",
       "परास्नातक                                    664\n",
       "निरक्षर\\nप्राईमरी                              3\n",
       "जूनियर हाई                                     3\n",
       "जूनियर हाई स्कूल जूनियर हाई स्कूल              2\n",
       "प्राईमरी\\n  जूनियर हाई स्कूल                   2\n",
       "स्नातक\\n  इण्टर                                2\n",
       "प्राईमरी\\nनिरक्षर                              2\n",
       "पिछड़ी जाति                                    1\n",
       "रहाई स्कूल                                     1\n",
       "जूनियर                                         1\n",
       "निरक्षर\\nनिरक्षर                               1\n",
       "निरक्षर\\nसाक्षर                                1\n",
       "स्नातक\\n साक्षर                                1\n",
       "इण्टर ग्राम                                    1\n",
       "परास्नातक\\n प्राईमरी                           1\n",
       "साक्षर\\nइण्टर                                  1\n",
       "साक्षर\\n  निरक्षर                              1\n",
       "प्राईमरी ग्राम                                 1\n",
       "परास्नातक  \\n  स्नातक                          1\n",
       "परास्नातक\\n  जूनियर हाई स्कूल                  1\n",
       "स्नातक\\nनिरक्षर                                1\n",
       "इण्टर\\n  जूनियर हाई स्कूल                      1\n",
       "साक्षर\\n साक्षर                                1\n",
       "साक्षर\\n निरक्षर                               1\n",
       "इण्टर\\n  साक्षर                                1\n",
       "जूनियर हाई स्कूल\\n  हाई स्कूल\\n  साक्षर        1\n",
       "साक्षर\\nसाक्षर                                 1\n",
       "प्राईमरी\\n  निरक्षर                            1\n",
       "जूनियर हाई स्कूल\\n  स्नातक                     1\n",
       "निरक्षर\\nहाई स्कूल                             1\n",
       "अनुसूचित जाति -                                1\n",
       "Name: educ_t3, dtype: int64"
      ]
     },
     "execution_count": 23,
     "metadata": {},
     "output_type": "execute_result"
    }
   ],
   "source": [
    "up_2010['educ_t3'].value_counts()"
   ]
  },
  {
   "cell_type": "code",
   "execution_count": 24,
   "id": "03cc3d20",
   "metadata": {},
   "outputs": [
    {
     "data": {
      "text/plain": [
       "साक्षर                                     13453\n",
       "हाई स्कूल                                   7669\n",
       "इण्टर                                       6951\n",
       "प्राईमरी                                    6748\n",
       "जूनियर हाई स्कूल                            6545\n",
       "स्नातक                                      5569\n",
       "निरक्षर                                     2789\n",
       "परास्नातक                                   1871\n",
       "                                             214\n",
       "जूनियर हाई स्कूल जूनियर हाई स्कूल              4\n",
       "जूनियर हाई                                     3\n",
       "निरक्षर\\nप्राईमरी                              3\n",
       "प्राईमरी\\n  जूनियर हाई स्कूल                   2\n",
       "स्नातक\\n  इण्टर                                2\n",
       "प्राईमरी\\nनिरक्षर                              2\n",
       "जूनियर हाई स्कूल \\nहाई स्कूल                   2\n",
       "निरक्षर\\nहाई स्कूल                             1\n",
       "परास्नातक\\n प्राईमरी                           1\n",
       "मटेहॅू                                         1\n",
       "परास्नातक\\n  जूनियर हाई स्कूल                  1\n",
       "रहाई स्कूल                                     1\n",
       "प्राईमरी ग्राम                                 1\n",
       "साक्षर\\n  निरक्षर                              1\n",
       "साक्षर\\nइण्टर                                  1\n",
       "इण्टर ग्राम                                    1\n",
       "इण्टर\\n  जूनियर हाई स्कूल                      1\n",
       "स्नातक\\n साक्षर                                1\n",
       "निरक्षर\\nसाक्षर                                1\n",
       "निरक्षर\\nनिरक्षर                               1\n",
       "परास्नातक                                      1\n",
       "हाई स्कूल                                      1\n",
       "जूनियर                                         1\n",
       "स्नातक\\nनिरक्षर                                1\n",
       "साक्षर\\n साक्षर                                1\n",
       "जूनियर हाई स्कूल \\nप्राईमरी                    1\n",
       "प्राईमरी \\nजूनियर हाई स्कूल                    1\n",
       "साक्षर\\n निरक्षर                               1\n",
       "इण्टर\\n  साक्षर                                1\n",
       "परास्नातक \\nहाई स्कूल                          1\n",
       "जूनियर हाई स्कूल\\n  हाई स्कूल\\n  साक्षर        1\n",
       "परास्नातक  \\n  स्नातक                          1\n",
       "साक्षर \\nहाई स्कूल                             1\n",
       "साक्षर\\nसाक्षर                                 1\n",
       "जूनियर हाई स्कूल \\nसाक्षर                      1\n",
       "प्राईमरी\\n  निरक्षर                            1\n",
       "इण्टर \\nप्राईमरी                               1\n",
       "इण्टर \\nजूनियर हाई स्कूल                       1\n",
       "स्नातक                                         1\n",
       "जूनियर हाई स्कूल\\n  स्नातक                     1\n",
       "पिछड़ी जाति                                    1\n",
       "Name: educ_fin, dtype: int64"
      ]
     },
     "execution_count": 24,
     "metadata": {},
     "output_type": "execute_result"
    }
   ],
   "source": [
    "# Candidate Education\n",
    "up_2010['educ_fin'] = up_2010.apply(lambda x: x['educ_t2'] if x['educ_t3'] == '' else x['educ_t3'], axis=1)\n",
    "up_2010['educ_fin'] = up_2010.apply(lambda x: x['educ_fin'] if x['educ_t4'] == '' else x['educ_t4'], axis=1)\n",
    "up_2010['educ_fin'].value_counts()"
   ]
  },
  {
   "cell_type": "code",
   "execution_count": 25,
   "id": "4aa7f895",
   "metadata": {},
   "outputs": [
    {
     "data": {
      "text/plain": [
       "Literate              13453\n",
       "High School            7669\n",
       "Intermediate           6951\n",
       "Primary                6748\n",
       "Junior High School     6545\n",
       "Graduate               5569\n",
       "Illiterate             2789\n",
       "Postgraduate           1871\n",
       "Name: educ_fin_eng, dtype: int64"
      ]
     },
     "execution_count": 25,
     "metadata": {},
     "output_type": "execute_result"
    }
   ],
   "source": [
    "translit_dict = {\n",
    "    'साक्षर': 'Literate',\n",
    "    'हाई स्कूल': 'High School',\n",
    "    'इण्टर': 'Intermediate',\n",
    "    'प्राईमरी': 'Primary',\n",
    "    'जूनियर हाई स्कूल': 'Junior High School',\n",
    "    'स्नातक': 'Graduate',\n",
    "    'निरक्षर': 'Illiterate',\n",
    "    'परास्नातक': 'Postgraduate'\n",
    "}\n",
    "\n",
    "up_2010['educ_fin_eng'] = up_2010['educ_fin'].map(translit_dict)\n",
    "up_2010['educ_fin_eng'].value_counts()"
   ]
  },
  {
   "cell_type": "code",
   "execution_count": 26,
   "id": "73b98a80",
   "metadata": {},
   "outputs": [
    {
     "data": {
      "text/plain": [
       "Index(['original_filename', 'page', 'order', 'district_name', 'sr_no',\n",
       "       'gp_code', 'block_code', 'block_name', 'sr_gp_combo', 'gp_name',\n",
       "       'gp_reservation_status', 'elected_sarpanch_name', 'husband_spouse_name',\n",
       "       'candidate_res_status', 'age', 'sex', 'education', 'address',\n",
       "       'gp_name_temp', 'gp_res_status_temp', 'gp_name_fin',\n",
       "       'gp_res_status_fin', 'gp_res_status_fin_eng',\n",
       "       'candidate_res_status_fin', 'cand_sex_t', 'age_t', 'educ_t2',\n",
       "       'cand_sex_t2', 'age_t2', 'educ_t3', 'cand_sex_t3', 'age_t3', 'educ_t4',\n",
       "       'cand_sex_t4', 'age_t4', 'cand_sex_fin', 'age_fin', 'educ_fin',\n",
       "       'educ_fin_eng'],\n",
       "      dtype='object')"
      ]
     },
     "execution_count": 26,
     "metadata": {},
     "output_type": "execute_result"
    }
   ],
   "source": [
    "up_2010.columns"
   ]
  },
  {
   "cell_type": "code",
   "execution_count": 27,
   "id": "898b5fd0",
   "metadata": {},
   "outputs": [
    {
     "data": {
      "text/plain": [
       "Index(['original_filename', 'page', 'order', 'district_name', 'sr_no',\n",
       "       'gp_code', 'block_code', 'block_name', 'sr_gp_combo', 'gp_name',\n",
       "       'gp_reservation_status', 'elected_sarpanch_name', 'husband_spouse_name',\n",
       "       'candidate_res_status', 'age', 'sex', 'education', 'address',\n",
       "       'gp_name_fin', 'gp_res_status_fin', 'gp_res_status_fin_eng',\n",
       "       'candidate_res_status_fin', 'cand_sex_fin', 'age_fin', 'educ_fin',\n",
       "       'educ_fin_eng'],\n",
       "      dtype='object')"
      ]
     },
     "execution_count": 27,
     "metadata": {},
     "output_type": "execute_result"
    }
   ],
   "source": [
    "up_2010.drop(columns =['gp_name_temp', 'gp_res_status_temp',\n",
    "              'cand_sex_t', 'age_t', \n",
    "              'educ_t2', 'cand_sex_t2', 'age_t2', \n",
    "              'cand_sex_t3', 'age_t3', 'educ_t3',\n",
    "              'cand_sex_t4', 'age_t4', 'educ_t4'], inplace = True)\n",
    "up_2010.columns"
   ]
  },
  {
   "cell_type": "code",
   "execution_count": 28,
   "id": "80f57b0c",
   "metadata": {},
   "outputs": [],
   "source": [
    "up_2010.to_csv(\"../data/up_gp_sarpanch_2010_fixed.csv\", index = False)"
   ]
  }
 ],
 "metadata": {
  "kernelspec": {
   "display_name": "Python 3 (ipykernel)",
   "language": "python",
   "name": "python3"
  },
  "language_info": {
   "codemirror_mode": {
    "name": "ipython",
    "version": 3
   },
   "file_extension": ".py",
   "mimetype": "text/x-python",
   "name": "python",
   "nbconvert_exporter": "python",
   "pygments_lexer": "ipython3",
   "version": "3.9.13"
  }
 },
 "nbformat": 4,
 "nbformat_minor": 5
}
