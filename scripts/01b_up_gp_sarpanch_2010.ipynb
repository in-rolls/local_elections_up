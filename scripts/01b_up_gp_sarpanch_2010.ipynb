{
 "cells": [
  {
   "cell_type": "markdown",
   "id": "25235d7c",
   "metadata": {},
   "source": [
    "### UP 2010 Clean up"
   ]
  },
  {
   "cell_type": "code",
   "execution_count": 1,
   "id": "bd2e1f30",
   "metadata": {},
   "outputs": [],
   "source": [
    "import pandas as pd\n",
    "import numpy as np\n",
    "import re"
   ]
  },
  {
   "cell_type": "code",
   "execution_count": 2,
   "id": "ce16414d",
   "metadata": {},
   "outputs": [
    {
     "data": {
      "text/html": [
       "<div>\n",
       "<style scoped>\n",
       "    .dataframe tbody tr th:only-of-type {\n",
       "        vertical-align: middle;\n",
       "    }\n",
       "\n",
       "    .dataframe tbody tr th {\n",
       "        vertical-align: top;\n",
       "    }\n",
       "\n",
       "    .dataframe thead th {\n",
       "        text-align: right;\n",
       "    }\n",
       "</style>\n",
       "<table border=\"1\" class=\"dataframe\">\n",
       "  <thead>\n",
       "    <tr style=\"text-align: right;\">\n",
       "      <th></th>\n",
       "      <th>original_filename</th>\n",
       "      <th>page</th>\n",
       "      <th>order</th>\n",
       "      <th>district_name</th>\n",
       "      <th>sr_no</th>\n",
       "      <th>gp_code</th>\n",
       "      <th>block_code</th>\n",
       "      <th>block_name</th>\n",
       "      <th>sr_gp_combo</th>\n",
       "      <th>gp_name</th>\n",
       "      <th>gp_reservation_status</th>\n",
       "      <th>elected_sarpanch_name</th>\n",
       "      <th>husband_spouse_name</th>\n",
       "      <th>candidate_res_status</th>\n",
       "      <th>age</th>\n",
       "      <th>sex</th>\n",
       "      <th>education</th>\n",
       "      <th>address</th>\n",
       "    </tr>\n",
       "  </thead>\n",
       "  <tbody>\n",
       "    <tr>\n",
       "      <th>0</th>\n",
       "      <td>gpp_0503.pdf</td>\n",
       "      <td>22</td>\n",
       "      <td>6193</td>\n",
       "      <td>मुरादाबाद</td>\n",
       "      <td>544</td>\n",
       "      <td>28</td>\n",
       "      <td>8</td>\n",
       "      <td>बहजोई</td>\n",
       "      <td>544 28</td>\n",
       "      <td>खजरा खाकम</td>\n",
       "      <td>अनारक्षित</td>\n",
       "      <td>पिंकी कुमारी</td>\n",
       "      <td>कुमारी मुनेश कुमार</td>\n",
       "      <td>कुमार अनारक्षित</td>\n",
       "      <td>32</td>\n",
       "      <td>महिला</td>\n",
       "      <td>इण्टर</td>\n",
       "      <td>ग्राम भोजपुर पो ० नाधौस</td>\n",
       "    </tr>\n",
       "    <tr>\n",
       "      <th>1</th>\n",
       "      <td>gpp_0602.pdf</td>\n",
       "      <td>25</td>\n",
       "      <td>9018</td>\n",
       "      <td>पीलीभीत</td>\n",
       "      <td>596</td>\n",
       "      <td>153</td>\n",
       "      <td>7</td>\n",
       "      <td>पूरनपुर</td>\n",
       "      <td>596</td>\n",
       "      <td>सिमराया ता ० घुंघचिह</td>\n",
       "      <td>पिछड़ी जाति</td>\n",
       "      <td>जगदेव सिंह</td>\n",
       "      <td>अनोख सिंह</td>\n",
       "      <td>पिछड़ी जाति</td>\n",
       "      <td>29</td>\n",
       "      <td>पुरुष</td>\n",
       "      <td>स्नातक</td>\n",
       "      <td>सिमराया ता O घुघचिहाई</td>\n",
       "    </tr>\n",
       "    <tr>\n",
       "      <th>2</th>\n",
       "      <td>gpp_0301.pdf</td>\n",
       "      <td>8</td>\n",
       "      <td>223</td>\n",
       "      <td>सहारनपुर</td>\n",
       "      <td>204</td>\n",
       "      <td>33</td>\n",
       "      <td>4</td>\n",
       "      <td>नानौता</td>\n",
       "      <td>204 33</td>\n",
       "      <td>इन्द्राबली कल्याणपुर</td>\n",
       "      <td>अनारक्षित</td>\n",
       "      <td>रेखा</td>\n",
       "      <td>योगेन्द्र सिंह</td>\n",
       "      <td>अनुसूचित जाति महिला</td>\n",
       "      <td>32</td>\n",
       "      <td>महिला</td>\n",
       "      <td>जूनियर हाई स्कूल</td>\n",
       "      <td>इन्द्रावली पो ० जांडखेडा</td>\n",
       "    </tr>\n",
       "    <tr>\n",
       "      <th>3</th>\n",
       "      <td>gpp_1301.pdf</td>\n",
       "      <td>9</td>\n",
       "      <td>33350</td>\n",
       "      <td>बहराइच</td>\n",
       "      <td>232</td>\n",
       "      <td>NaN</td>\n",
       "      <td>4</td>\n",
       "      <td>फखरपुर</td>\n",
       "      <td>232 35</td>\n",
       "      <td>घरहेरीपुर</td>\n",
       "      <td>अनारक्षित</td>\n",
       "      <td>सामान अली</td>\n",
       "      <td>नवाब अली</td>\n",
       "      <td>अनुसूचित जाति महिला</td>\n",
       "      <td>55</td>\n",
       "      <td>पुरुष</td>\n",
       "      <td>साक्षर</td>\n",
       "      <td>ग्राम व पो ० घरेहरीपुर</td>\n",
       "    </tr>\n",
       "    <tr>\n",
       "      <th>4</th>\n",
       "      <td>gpp_1401.pdf</td>\n",
       "      <td>40</td>\n",
       "      <td>37391</td>\n",
       "      <td>बाराबंकी</td>\n",
       "      <td>969</td>\n",
       "      <td>NaN</td>\n",
       "      <td>15</td>\n",
       "      <td>सिरौलीगौसपुर</td>\n",
       "      <td>969 32</td>\n",
       "      <td>बरदरी</td>\n",
       "      <td>अनारक्षित</td>\n",
       "      <td>राजेश्वरी</td>\n",
       "      <td>प्राणपती</td>\n",
       "      <td>अनुसूचित जाति महिला</td>\n",
       "      <td>50 महिला</td>\n",
       "      <td>NaN</td>\n",
       "      <td>साक्षर</td>\n",
       "      <td>बरदरी पो . मरकामऊ</td>\n",
       "    </tr>\n",
       "  </tbody>\n",
       "</table>\n",
       "</div>"
      ],
      "text/plain": [
       "  original_filename  page  order district_name  sr_no gp_code  block_code  \\\n",
       "0      gpp_0503.pdf    22   6193     मुरादाबाद    544      28           8   \n",
       "1      gpp_0602.pdf    25   9018       पीलीभीत    596     153           7   \n",
       "2      gpp_0301.pdf     8    223      सहारनपुर    204      33           4   \n",
       "3      gpp_1301.pdf     9  33350        बहराइच    232     NaN           4   \n",
       "4      gpp_1401.pdf    40  37391      बाराबंकी    969     NaN          15   \n",
       "\n",
       "     block_name sr_gp_combo               gp_name gp_reservation_status  \\\n",
       "0         बहजोई      544 28             खजरा खाकम             अनारक्षित   \n",
       "1       पूरनपुर         596  सिमराया ता ० घुंघचिह           पिछड़ी जाति   \n",
       "2        नानौता      204 33  इन्द्राबली कल्याणपुर             अनारक्षित   \n",
       "3        फखरपुर      232 35             घरहेरीपुर             अनारक्षित   \n",
       "4  सिरौलीगौसपुर      969 32                 बरदरी             अनारक्षित   \n",
       "\n",
       "  elected_sarpanch_name husband_spouse_name candidate_res_status       age  \\\n",
       "0          पिंकी कुमारी  कुमारी मुनेश कुमार      कुमार अनारक्षित        32   \n",
       "1            जगदेव सिंह           अनोख सिंह          पिछड़ी जाति        29   \n",
       "2                  रेखा      योगेन्द्र सिंह  अनुसूचित जाति महिला        32   \n",
       "3             सामान अली            नवाब अली  अनुसूचित जाति महिला        55   \n",
       "4             राजेश्वरी            प्राणपती  अनुसूचित जाति महिला  50 महिला   \n",
       "\n",
       "     sex         education                   address  \n",
       "0  महिला             इण्टर   ग्राम भोजपुर पो ० नाधौस  \n",
       "1  पुरुष            स्नातक     सिमराया ता O घुघचिहाई  \n",
       "2  महिला  जूनियर हाई स्कूल  इन्द्रावली पो ० जांडखेडा  \n",
       "3  पुरुष            साक्षर    ग्राम व पो ० घरेहरीपुर  \n",
       "4    NaN            साक्षर         बरदरी पो . मरकामऊ  "
      ]
     },
     "execution_count": 2,
     "metadata": {},
     "output_type": "execute_result"
    }
   ],
   "source": [
    "up_2010 = pd.read_csv(\"../data/up_gp_sarpanch_2010.csv\", low_memory = False)\n",
    "up_2010.head()"
   ]
  },
  {
   "cell_type": "markdown",
   "id": "f546d7a8",
   "metadata": {},
   "source": [
    "### Let's get GP Name sorted"
   ]
  },
  {
   "cell_type": "code",
   "execution_count": 3,
   "id": "a29eabda",
   "metadata": {},
   "outputs": [],
   "source": [
    "up_2010['gp_name_temp'] = up_2010['sr_gp_combo'].str.strip().str.replace('[0-9\\[\\]]', '', regex=True)"
   ]
  },
  {
   "cell_type": "code",
   "execution_count": 4,
   "id": "535640e7",
   "metadata": {},
   "outputs": [
    {
     "data": {
      "text/plain": [
       "रामपुर        52\n",
       "रसूलपुर       50\n",
       "गोपालपुर      49\n",
       "रामनगर        42\n",
       "शाहपुर        41\n",
       "रायपुर        41\n",
       "सलेमपुर       39\n",
       "जगदीशपुर      36\n",
       "सिकन्दरपुर    36\n",
       "गौरा          36\n",
       "भगवानपुर      35\n",
       "जलालपुर       35\n",
       "नरायनपुर      34\n",
       "कल्यानपुर     32\n",
       "दौलतपुर       31\n",
       "बहादुरपुर     31\n",
       "बरौली         30\n",
       "सुल्तानपुर    29\n",
       "खानपुर        28\n",
       "मिर्जापुर     27\n",
       "Name: gp_name, dtype: int64"
      ]
     },
     "execution_count": 4,
     "metadata": {},
     "output_type": "execute_result"
    }
   ],
   "source": [
    "### Normalize GP Name\n",
    "\n",
    "up_2010['gp_name'] = up_2010['gp_name'].str.strip()\\\n",
    "                        .str.replace(r'^(\\s?-\\s?|\\s?--\\s?)|(\\s-|\\s--|\\s---)$', '', regex=True)\\\n",
    "                        .str.replace(r'\\s{2,}', ' ', regex=True)\\\n",
    "                        .str.strip()\\\n",
    "                        .str.replace('[0-9\\[\\]]', '', regex=True)\n",
    "\n",
    "# Let's take out reservation status from GP Name\n",
    "gp_res_status = [\n",
    "    'अनारक्षित',\n",
    "    'महिला',\n",
    "    'अनुसूचित जाति - महिला',\n",
    "    'पिछड़ी जाति - महिला',\n",
    "    'पिछड़ी जाति',\n",
    "    'अनुसूचित जाति',\n",
    "    'पिछड़ी जाति महिला -',\n",
    "    'अनुसूचित जाति महिला -'\n",
    "    'महिला'\n",
    "    'अनुसूचित जाति महिला -',\n",
    "    'पिछड़ी जाति महिला',\n",
    "    'अनुसूचित जाति महिला',\n",
    "    'पिछड़ी जाति महिला -'\n",
    "    'अनुसूचित जाति महिला -',\n",
    "    'पिछड़ी जाति महिला --',\n",
    "    'अनुसूचित जाति महिला - '\n",
    "]\n",
    "up_2010['gp_res_status_temp'] = np.where(up_2010['gp_name'].str.strip().isin(gp_res_status), up_2010['gp_name'], '')\n",
    "up_2010['gp_name'] = np.where(~up_2010['gp_name'].isin(gp_res_status), up_2010['gp_name'], '')\n",
    "up_2010['gp_name'].value_counts()[:20]"
   ]
  },
  {
   "cell_type": "code",
   "execution_count": 5,
   "id": "1e2bf247",
   "metadata": {},
   "outputs": [
    {
     "data": {
      "text/plain": [
       "0                            \n",
       "1        सिमराया ता ० घुंघचिह\n",
       "2                            \n",
       "3                            \n",
       "4                            \n",
       "                 ...         \n",
       "51856          खुदिया बुजुर्ग\n",
       "51857                    परोई\n",
       "51858                  रामनगर\n",
       "51859                        \n",
       "51860            सिरसिया पवार\n",
       "Name: gp_name_fin, Length: 51861, dtype: object"
      ]
     },
     "execution_count": 5,
     "metadata": {},
     "output_type": "execute_result"
    }
   ],
   "source": [
    "up_2010['gp_name_fin'] = up_2010.apply(lambda x: x['gp_name_temp'] if x['gp_name_temp'] != '' \n",
    "                            else x['gp_name'], axis=1)\n",
    "up_2010['gp_name_fin']"
   ]
  },
  {
   "cell_type": "code",
   "execution_count": 6,
   "id": "fb4c3b97",
   "metadata": {},
   "outputs": [
    {
     "data": {
      "text/plain": [
       "अनारक्षित                                      17925\n",
       "पिछड़ी जाति                                     9473\n",
       "महिला                                           8401\n",
       "अनुसूचित जाति                                   7168\n",
       "पिछड़ी जाति - महिला                             2482\n",
       "पिछड़ी जाति महिला                               2343\n",
       "अनुसूचित जाति - महिला                           2106\n",
       "अनुसूचित जाति महिला                             1718\n",
       "पिछडी जाति                                        64\n",
       "पिछडी जाति - महिला                                53\n",
       "पिछड़ी जाति महिला                                  37\n",
       "अनुसूचित जन जाति                                  17\n",
       "अनुसूचित जन जाति - महिला                          14\n",
       "पिछड़ी जाति - महिला                                 7\n",
       "पिछडी जाति महिला                                   6\n",
       "अनारक्षित                                          3\n",
       "पिछड़ी जाति                                        2\n",
       " अनारक्षित                                         2\n",
       "पिछड़ी जाति - महिला -                              2\n",
       "पिछड़ी जाति \\nअनारक्षित                            2\n",
       "पिछड़ी जाति - महिला                                1\n",
       "पिछड़ी जाति - महिला \\nअनुसूचित जाति - महिला        1\n",
       "महिला अनारक्षित                                    1\n",
       "अनुसूचित जाति महिला -                              1\n",
       "पिछड़ी जाति \\nअनुसूचित जाति                        1\n",
       "पिछड़ी जाति                                         1\n",
       " पिछड़ी जाति                                       1\n",
       "अनुसूचित जाति                                      1\n",
       "अनुसूचित जाति \\nमहिला                              1\n",
       "अनुसूचित जाति\\nपिछड़ी जाति\\nअनारक्षित              1\n",
       "Name: gp_reservation_status, dtype: int64"
      ]
     },
     "execution_count": 6,
     "metadata": {},
     "output_type": "execute_result"
    }
   ],
   "source": [
    "up_2010['gp_reservation_status'].value_counts()[:30]"
   ]
  },
  {
   "cell_type": "code",
   "execution_count": 7,
   "id": "0b123f8f",
   "metadata": {},
   "outputs": [
    {
     "data": {
      "text/plain": [
       "अनारक्षित                                      17924\n",
       "पिछड़ी जाति                                     9473\n",
       "महिला                                           8402\n",
       "अनुसूचित जाति                                   7168\n",
       "पिछड़ी जाति - महिला                             2482\n",
       "पिछड़ी जाति महिला                               2343\n",
       "अनुसूचित जाति - महिला                           2106\n",
       "अनुसूचित जाति महिला                             1718\n",
       "पिछडी जाति                                        64\n",
       "पिछडी जाति - महिला                                53\n",
       "पिछड़ी जाति महिला                                  37\n",
       "अनुसूचित जन जाति                                  17\n",
       "अनुसूचित जन जाति - महिला                          14\n",
       "पिछड़ी जाति - महिला                                 7\n",
       "पिछडी जाति महिला                                   6\n",
       "अनारक्षित                                          3\n",
       "पिछड़ी जाति                                        2\n",
       " अनारक्षित                                         2\n",
       "पिछड़ी जाति - महिला -                              2\n",
       "पिछड़ी जाति \\nअनारक्षित                            2\n",
       "पिछड़ी जाति - महिला                                1\n",
       "पिछड़ी जाति - महिला \\nअनुसूचित जाति - महिला        1\n",
       "महिला अनारक्षित                                    1\n",
       "अनुसूचित जाति महिला -                              1\n",
       "Name: gp_res_status_fin, dtype: int64"
      ]
     },
     "execution_count": 7,
     "metadata": {},
     "output_type": "execute_result"
    }
   ],
   "source": [
    "up_2010['gp_res_status_fin'] = up_2010.apply(lambda x: x['gp_res_status_temp'] if x['gp_res_status_temp'] != '' \n",
    "                            else x['gp_reservation_status'], axis=1)\n",
    "up_2010['gp_res_status_fin'].value_counts()[:24]"
   ]
  },
  {
   "cell_type": "code",
   "execution_count": 8,
   "id": "a72c3303",
   "metadata": {},
   "outputs": [
    {
     "data": {
      "text/plain": [
       "अनारक्षित                   17929\n",
       "पिछड़ी जाति                  9476\n",
       "महिला                        8402\n",
       "अनुसूचित जाति                7169\n",
       "पिछड़ी जाति - महिला          2485\n",
       "पिछड़ी जाति महिला            2343\n",
       "अनुसूचित जाति - महिला        2106\n",
       "अनुसूचित जाति महिला          1720\n",
       "पिछडी जाति                     64\n",
       "पिछडी जाति - महिला             53\n",
       "पिछड़ी जाति महिला               37\n",
       "अनुसूचित जन जाति               17\n",
       "अनुसूचित जन जाति - महिला       14\n",
       "पिछड़ी जाति - महिला              7\n",
       "पिछडी जाति महिला                6\n",
       "Name: gp_res_status_fin, dtype: int64"
      ]
     },
     "execution_count": 8,
     "metadata": {},
     "output_type": "execute_result"
    }
   ],
   "source": [
    "# Normalize\n",
    "up_2010['gp_res_status_fin'] = (up_2010['gp_res_status_fin']\n",
    "                 .str.strip()  # Step 1: Trim leading and trailing spaces   \n",
    "                 .str.replace(r'^(\\s?-\\s?|\\s?--\\s?)|(\\s-|\\s--|\\s---)$', '', regex=True)  # Step 2: Remove specific patterns at the start/end\n",
    "                 .str.strip()  # Step 1: Trim leading and trailing spaces\n",
    "                 .str.replace(r'\\s{2,}', ' ', regex=True).str.strip())  # Step 3: Replace multiple spaces with a single space\n",
    "up_2010['gp_res_status_fin'].value_counts()[:15]"
   ]
  },
  {
   "cell_type": "code",
   "execution_count": 9,
   "id": "78ce9df6",
   "metadata": {},
   "outputs": [
    {
     "data": {
      "text/plain": [
       "अनारक्षित                   17929\n",
       "पिछड़ी जाति                  9476\n",
       "महिला                        8402\n",
       "अनुसूचित जाति                7169\n",
       "पिछड़ी जाति - महिला          2485\n",
       "पिछड़ी जाति महिला            2343\n",
       "अनुसूचित जाति - महिला        2106\n",
       "अनुसूचित जाति महिला          1720\n",
       "पिछडी जाति                     64\n",
       "पिछडी जाति - महिला             53\n",
       "पिछड़ी जाति महिला               37\n",
       "                               33\n",
       "अनुसूचित जन जाति               17\n",
       "अनुसूचित जन जाति - महिला       14\n",
       "पिछड़ी जाति - महिला              7\n",
       "पिछडी जाति महिला                6\n",
       "Name: gp_res_status_fin, dtype: int64"
      ]
     },
     "execution_count": 9,
     "metadata": {},
     "output_type": "execute_result"
    }
   ],
   "source": [
    "# Define the list of substrings to check for\n",
    "valid_categories = up_2010['gp_res_status_fin'].value_counts()[:15].index.to_list()\n",
    "\n",
    "up_2010['gp_res_status_fin'] = np.where(up_2010['gp_res_status_fin'].isin(valid_categories), up_2010['gp_res_status_fin'], '')\n",
    "up_2010['gp_res_status_fin'].value_counts()[:20]"
   ]
  },
  {
   "cell_type": "code",
   "execution_count": 10,
   "id": "a6c6e3a3",
   "metadata": {},
   "outputs": [
    {
     "data": {
      "text/plain": [
       "Unreserved                       17929\n",
       "Other Backward Class              9540\n",
       "Female                            8402\n",
       "Scheduled Caste                   7169\n",
       "Other Backward Class - Female     4931\n",
       "Scheduled Caste - Female          3826\n",
       "Unknown                             33\n",
       "Scheduled Tribe                     17\n",
       "Scheduled Tribe - Female            14\n",
       "Name: gp_res_status_fin_eng, dtype: int64"
      ]
     },
     "execution_count": 10,
     "metadata": {},
     "output_type": "execute_result"
    }
   ],
   "source": [
    "translit_dict = {\n",
    "    'अनारक्षित': 'Unreserved',\n",
    "    'पिछड़ी जाति': 'Other Backward Class',\n",
    "    'महिला': 'Female',\n",
    "    'अनुसूचित जाति': 'Scheduled Caste',\n",
    "    'पिछड़ी जाति - महिला': 'Other Backward Class - Female',\n",
    "    'पिछड़ी जाति महिला': 'Other Backward Class - Female',\n",
    "    'अनुसूचित जाति - महिला': 'Scheduled Caste - Female',\n",
    "    'अनुसूचित जाति महिला': 'Scheduled Caste - Female',\n",
    "    'पिछडी जाति': 'Other Backward Class',\n",
    "    'पिछडी जाति - महिला': 'Other Backward Class - Female',\n",
    "    'पिछड़ी जाति महिला': 'Other Backward Class - Female',\n",
    "    '': 'Unknown',  \n",
    "    'अनुसूचित जन जाति': 'Scheduled Tribe',\n",
    "    'अनुसूचित जन जाति - महिला': 'Scheduled Tribe - Female',\n",
    "    'पिछड़ी जाति - महिला': 'Other Backward Class - Female',\n",
    "    'पिछडी जाति महिला': 'Other Backward Class - Female'\n",
    "}\n",
    "\n",
    "up_2010['gp_res_status_fin_eng'] = up_2010['gp_res_status_fin'].map(translit_dict)\n",
    "up_2010['gp_res_status_fin_eng'].value_counts()"
   ]
  },
  {
   "cell_type": "code",
   "execution_count": 11,
   "id": "194a0e42",
   "metadata": {},
   "outputs": [],
   "source": [
    "def process_info(info):\n",
    "    if not isinstance(info, str):\n",
    "        return \"\", \"\", None  # Handle non-string data directly\n",
    "\n",
    "    # Initialize default values for gender and age\n",
    "    gender = \"\"\n",
    "    age = None\n",
    "\n",
    "    keywords = {'महिला': 'woman', 'पुरुष': 'man'}\n",
    "    age_pattern = re.compile(r'\\b\\d+\\b')  # Matches whole numbers\n",
    "\n",
    "    # Extract age from the string (assuming the first number found is the age)\n",
    "    found_age = age_pattern.findall(info)\n",
    "    if found_age:\n",
    "        age = int(found_age[0])  # Convert the first found age to integer\n",
    "        info = age_pattern.sub(\"\", info).strip()  # Remove the age from the string\n",
    "\n",
    "    # Check for and process keywords\n",
    "    for keyword, eng_gender in keywords.items():\n",
    "        if keyword in info:\n",
    "            gender = keyword #eng_gender\n",
    "            info = info.replace(keyword, '').strip()  # Strip keyword and any extra spaces\n",
    "\n",
    "    return info, gender, age"
   ]
  },
  {
   "cell_type": "markdown",
   "id": "776aacdf",
   "metadata": {},
   "source": [
    "### Split Cols on the Right"
   ]
  },
  {
   "cell_type": "code",
   "execution_count": 12,
   "id": "6b4a835d",
   "metadata": {},
   "outputs": [
    {
     "data": {
      "text/plain": [
       "पिछड़ी जाति                        22555\n",
       "अनुसूचित जाति                      10586\n",
       "अनारक्षित                          10078\n",
       "पिछड़ी जाति -                       3434\n",
       "                                    2577\n",
       "अनुसूचित जाति -                      983\n",
       "अनुसूचित जाति  -                     912\n",
       "पिछडी जाति                           342\n",
       "- अनुसूचित जाति                       86\n",
       "अनुसूचित जन जाति                      60\n",
       "पिछड़ी जाति                            59\n",
       "अनुसूचित जा                           52\n",
       "- पिछड़ी जाति                         48\n",
       "अनुसूचित जाि                          15\n",
       "अनुसूचित जन जाति -                    14\n",
       "अनुसूचित जात                          10\n",
       "अनुसूचित जाति  --                      6\n",
       "- पिछड़ी जाति                           6\n",
       "पिछड़ी जाति\\nअनारक्षित                 3\n",
       "पिछड़ी जाति\\nपिछड़ी जाति               2\n",
       "-- अनुसूचित जाति                       2\n",
       "पिछड़ी जाति -                           2\n",
       "अनुसूचित जाति\\nपिछड़ी जाति             2\n",
       "अनारक्षित\\nपिछड़ी जाति                 2\n",
       "अनुसूचित जाति\\nअनारक्षित               2\n",
       "पिछड़ी जाति\\nअनुसूचित जाति             2\n",
       "पिछड़ी जाति \\nपिछड़ी जाति              2\n",
       "-- पिछड़ी जाति                         1\n",
       "कुमार अनारक्षित                        1\n",
       "पिछड़ी जाति -  \\nपिछड़ी जाति           1\n",
       "-                                      1\n",
       "पिछड़ी जाति\\nजाति                      1\n",
       "पिछड़ी जाति -  \\nअनारक्षित             1\n",
       "अनुसूचित                               1\n",
       "पिछड़ी \\nजाति                          1\n",
       "पाण्डेय अनारक्षित \\nपिछड़ी जाति        1\n",
       "पिछड़ी जाति -  \\nअनुसूचित जाति         1\n",
       "पिछड़ी जाति \\nअनारक्षित                1\n",
       "अनुसूचित\\nपिछड़ी जाति                  1\n",
       "अनुसूचित जनजाति                        1\n",
       "अनुसूचित जन जाति  -                    1\n",
       "अनुसूचित \\nअनुसूचित जाति               1\n",
       "अनुसूचित जाति \\nपिछड़ी जाति            1\n",
       "अनुसूचित जाति \\nअनारक्षित              1\n",
       "अनारक्षित\\nअनारक्षित                   1\n",
       "समुझ पिछड़ी जाति                       1\n",
       "Name: candidate_res_status_fin, dtype: int64"
      ]
     },
     "execution_count": 12,
     "metadata": {},
     "output_type": "execute_result"
    }
   ],
   "source": [
    "up_2010['candidate_res_status_fin'], up_2010['cand_sex_t'], up_2010['age_t'] = zip(*up_2010['candidate_res_status'].apply(process_info))\n",
    "up_2010['candidate_res_status_fin'].value_counts()"
   ]
  },
  {
   "cell_type": "code",
   "execution_count": 13,
   "id": "f5ab87e1",
   "metadata": {},
   "outputs": [
    {
     "data": {
      "text/plain": [
       "         37092\n",
       "पुरुष     8497\n",
       "महिला     6272\n",
       "Name: cand_sex_t2, dtype: int64"
      ]
     },
     "execution_count": 13,
     "metadata": {},
     "output_type": "execute_result"
    }
   ],
   "source": [
    "up_2010['educ_t2'], up_2010['cand_sex_t2'], up_2010['age_t2'] = zip(*up_2010['sex'].apply(process_info))\n",
    "up_2010['cand_sex_t2'].value_counts()"
   ]
  },
  {
   "cell_type": "code",
   "execution_count": 14,
   "id": "521eb2ad",
   "metadata": {},
   "outputs": [
    {
     "data": {
      "text/plain": [
       "पुरुष    21690\n",
       "महिला    15385\n",
       "         14786\n",
       "Name: cand_sex_t3, dtype: int64"
      ]
     },
     "execution_count": 14,
     "metadata": {},
     "output_type": "execute_result"
    }
   ],
   "source": [
    "up_2010['educ_t3'], up_2010['cand_sex_t3'], up_2010['age_t3'] = zip(*up_2010['age'].apply(process_info))\n",
    "up_2010['cand_sex_t3'].value_counts()"
   ]
  },
  {
   "cell_type": "code",
   "execution_count": 15,
   "id": "c373a650",
   "metadata": {},
   "outputs": [
    {
     "data": {
      "text/plain": [
       "                                     20784\n",
       "साक्षर                                6456\n",
       "जूनियर हाई स्कूल                      5229\n",
       "इण्टर                                 4849\n",
       "हाई स्कूल                             4546\n",
       "प्राईमरी                              3684\n",
       "स्नातक                                3460\n",
       "निरक्षर                               1628\n",
       "परास्नातक                             1207\n",
       "जूनियर हाई स्कूल जूनियर हाई स्कूल        2\n",
       "इण्टर \\nप्राईमरी                         2\n",
       "जूनियर हाई स्कूल \\nहाई स्कूल             2\n",
       "हाई स्कूल                                1\n",
       "मटेहॅू                                   1\n",
       "परास्नातक \\nहाई स्कूल                    1\n",
       "प्राईमरी \\nजूनियर हाई स्कूल              1\n",
       "जूनियर हाई स्कूल \\nप्राईमरी              1\n",
       "जूनियर हाई स्कूल \\nसाक्षर                1\n",
       "हाई स्कूल \\nसाक्षर                       1\n",
       "हाई स्कूल ग्राम\\n                        1\n",
       "साक्षर \\nहाई स्कूल                       1\n",
       "साक्षर जूनियर हाई स्कूल                  1\n",
       "इण्टर \\nजूनियर हाई स्कूल                 1\n",
       "परास्नातक                                1\n",
       "Name: educ_t4, dtype: int64"
      ]
     },
     "execution_count": 15,
     "metadata": {},
     "output_type": "execute_result"
    }
   ],
   "source": [
    "up_2010['educ_t4'], up_2010['cand_sex_t4'], up_2010['age_t4'] = zip(*up_2010['education'].apply(process_info))\n",
    "up_2010['educ_t4'].value_counts()"
   ]
  },
  {
   "cell_type": "markdown",
   "id": "e5998a37",
   "metadata": {},
   "source": [
    "### Finalize"
   ]
  },
  {
   "cell_type": "code",
   "execution_count": 16,
   "id": "8a5d65ef",
   "metadata": {},
   "outputs": [
    {
     "data": {
      "text/plain": [
       "पुरुष    30187\n",
       "महिला    21656\n",
       "            18\n",
       "Name: cand_sex_fin, dtype: int64"
      ]
     },
     "execution_count": 16,
     "metadata": {},
     "output_type": "execute_result"
    }
   ],
   "source": [
    "# Candidate Sex Final\n",
    "up_2010['cand_sex_fin'] = up_2010.apply(lambda x: x['cand_sex_t2'] if x['cand_sex_t3'] == '' else x['cand_sex_t3'], axis=1)\n",
    "up_2010['cand_sex_fin'].value_counts()"
   ]
  },
  {
   "cell_type": "code",
   "execution_count": 17,
   "id": "ed0d4d2b",
   "metadata": {},
   "outputs": [
    {
     "data": {
      "text/plain": [
       "154"
      ]
     },
     "execution_count": 17,
     "metadata": {},
     "output_type": "execute_result"
    }
   ],
   "source": [
    "# Candidate Age Final\n",
    "up_2010['age_fin'] = up_2010.apply(lambda x: x['age_t2'] if x['age_t3'] == '' else x['age_t3'], axis=1)\n",
    "up_2010['age_fin'].isna().sum()"
   ]
  },
  {
   "cell_type": "code",
   "execution_count": 18,
   "id": "4bc6cae2",
   "metadata": {},
   "outputs": [
    {
     "data": {
      "text/plain": [
       "count    51707.000000\n",
       "mean        41.192546\n",
       "std          9.958541\n",
       "min          5.000000\n",
       "25%         35.000000\n",
       "50%         40.000000\n",
       "75%         48.000000\n",
       "max        105.000000\n",
       "Name: age_fin, dtype: float64"
      ]
     },
     "execution_count": 18,
     "metadata": {},
     "output_type": "execute_result"
    }
   ],
   "source": [
    "up_2010['age_fin'].describe()"
   ]
  },
  {
   "cell_type": "code",
   "execution_count": 19,
   "id": "24015613",
   "metadata": {},
   "outputs": [
    {
     "data": {
      "text/plain": [
       "                                           31356\n",
       "साक्षर                                      6994\n",
       "हाई स्कूल                                   3118\n",
       "प्राईमरी                                    3016\n",
       "स्नातक                                      2106\n",
       "इण्टर                                       2098\n",
       "जूनियर हाई स्कूल                            1312\n",
       "निरक्षर                                     1160\n",
       "परास्नातक                                    664\n",
       "जूनियर हाई                                     3\n",
       "निरक्षर\\nप्राईमरी                              3\n",
       "स्नातक\\n  इण्टर                                2\n",
       "जूनियर हाई स्कूल जूनियर हाई स्कूल              2\n",
       "प्राईमरी\\nनिरक्षर                              2\n",
       "इण्टर\\n  साक्षर                                1\n",
       "परास्नातक\\n  जूनियर हाई स्कूल                  1\n",
       "परास्नातक  \\n  स्नातक                          1\n",
       "साक्षर\\n साक्षर                                1\n",
       "परास्नातक\\n प्राईमरी                           1\n",
       "स्नातक\\n साक्षर                                1\n",
       "स्नातक\\nनिरक्षर                                1\n",
       "प्राईमरी\\n  जूनियर हाई स्कूल                   1\n",
       "साक्षर\\n  निरक्षर                              1\n",
       "प्राईमरी\\n  निरक्षर                            1\n",
       "प्राईमरी ग्राम                                 1\n",
       "निरक्षर\\nनिरक्षर                               1\n",
       "साक्षर\\nइण्टर                                  1\n",
       "अनुसूचित जाति -                                1\n",
       "जूनियर हाई स्कूल\\n  हाई स्कूल\\n  साक्षर        1\n",
       "निरक्षर\\nसाक्षर                                1\n",
       "साक्षर\\n निरक्षर                               1\n",
       "निरक्षर\\nहाई स्कूल                             1\n",
       "इण्टर\\n  जूनियर हाई स्कूल                      1\n",
       "साक्षर\\nसाक्षर                                 1\n",
       "रहाई स्कूल                                     1\n",
       "जूनियर                                         1\n",
       "इण्टर ग्राम                                    1\n",
       "जूनियर हाई स्कूल\\n  स्नातक                     1\n",
       "पिछड़ी जाति                                    1\n",
       "Name: educ_t3, dtype: int64"
      ]
     },
     "execution_count": 19,
     "metadata": {},
     "output_type": "execute_result"
    }
   ],
   "source": [
    "up_2010['educ_t3'].value_counts()"
   ]
  },
  {
   "cell_type": "code",
   "execution_count": 20,
   "id": "03cc3d20",
   "metadata": {},
   "outputs": [
    {
     "data": {
      "text/plain": [
       "साक्षर                                     13453\n",
       "हाई स्कूल                                   7668\n",
       "इण्टर                                       6951\n",
       "प्राईमरी                                    6748\n",
       "जूनियर हाई स्कूल                            6545\n",
       "स्नातक                                      5570\n",
       "निरक्षर                                     2789\n",
       "परास्नातक                                   1871\n",
       "                                             211\n",
       "जूनियर हाई स्कूल जूनियर हाई स्कूल              4\n",
       "जूनियर हाई                                     3\n",
       "निरक्षर\\nप्राईमरी                              3\n",
       "स्नातक\\n  इण्टर                                2\n",
       "प्राईमरी\\nनिरक्षर                              2\n",
       "इण्टर \\nप्राईमरी                               2\n",
       "प्राईमरी\\n  जूनियर हाई स्कूल                   2\n",
       "जूनियर हाई स्कूल \\nहाई स्कूल                   2\n",
       "हाई स्कूल ग्राम\\n                              1\n",
       "निरक्षर\\nनिरक्षर                               1\n",
       "परास्नातक\\n  जूनियर हाई स्कूल                  1\n",
       "इण्टर\\n  साक्षर                                1\n",
       "प्राईमरी ग्राम                                 1\n",
       "प्राईमरी\\n  निरक्षर                            1\n",
       "हाई स्कूल \\nसाक्षर                             1\n",
       "परास्नातक\\n प्राईमरी                           1\n",
       "साक्षर\\n साक्षर                                1\n",
       "साक्षर \\nहाई स्कूल                             1\n",
       "साक्षर जूनियर हाई स्कूल                        1\n",
       "साक्षर\\n  निरक्षर                              1\n",
       "स्नातक\\n साक्षर                                1\n",
       "स्नातक\\nनिरक्षर                                1\n",
       "परास्नातक  \\n  स्नातक                          1\n",
       "साक्षर\\n निरक्षर                               1\n",
       "जूनियर हाई स्कूल \\nसाक्षर                      1\n",
       "परास्नातक                                      1\n",
       "जूनियर हाई स्कूल\\n  स्नातक                     1\n",
       "इण्टर ग्राम                                    1\n",
       "इण्टर \\nजूनियर हाई स्कूल                       1\n",
       "हाई स्कूल                                      1\n",
       "रहाई स्कूल                                     1\n",
       "साक्षर\\nसाक्षर                                 1\n",
       "इण्टर\\n  जूनियर हाई स्कूल                      1\n",
       "मटेहॅू                                         1\n",
       "जूनियर हाई स्कूल\\n  हाई स्कूल\\n  साक्षर        1\n",
       "परास्नातक \\nहाई स्कूल                          1\n",
       "जूनियर                                         1\n",
       "प्राईमरी \\nजूनियर हाई स्कूल                    1\n",
       "निरक्षर\\nहाई स्कूल                             1\n",
       "साक्षर\\nइण्टर                                  1\n",
       "जूनियर हाई स्कूल \\nप्राईमरी                    1\n",
       "निरक्षर\\nसाक्षर                                1\n",
       "पिछड़ी जाति                                    1\n",
       "Name: educ_fin, dtype: int64"
      ]
     },
     "execution_count": 20,
     "metadata": {},
     "output_type": "execute_result"
    }
   ],
   "source": [
    "# Candidate Education\n",
    "up_2010['educ_fin'] = up_2010.apply(lambda x: x['educ_t2'] if x['educ_t3'] == '' else x['educ_t3'], axis=1)\n",
    "up_2010['educ_fin'] = up_2010.apply(lambda x: x['educ_fin'] if x['educ_t4'] == '' else x['educ_t4'], axis=1)\n",
    "up_2010['educ_fin'].value_counts()"
   ]
  },
  {
   "cell_type": "code",
   "execution_count": 21,
   "id": "4aa7f895",
   "metadata": {},
   "outputs": [
    {
     "data": {
      "text/plain": [
       "Literate              13453\n",
       "High School            7668\n",
       "Intermediate           6951\n",
       "Primary                6748\n",
       "Junior High School     6545\n",
       "Graduate               5570\n",
       "Illiterate             2789\n",
       "Postgraduate           1871\n",
       "Name: educ_fin_eng, dtype: int64"
      ]
     },
     "execution_count": 21,
     "metadata": {},
     "output_type": "execute_result"
    }
   ],
   "source": [
    "translit_dict = {\n",
    "    'साक्षर': 'Literate',\n",
    "    'हाई स्कूल': 'High School',\n",
    "    'इण्टर': 'Intermediate',\n",
    "    'प्राईमरी': 'Primary',\n",
    "    'जूनियर हाई स्कूल': 'Junior High School',\n",
    "    'स्नातक': 'Graduate',\n",
    "    'निरक्षर': 'Illiterate',\n",
    "    'परास्नातक': 'Postgraduate'\n",
    "}\n",
    "\n",
    "up_2010['educ_fin_eng'] = up_2010['educ_fin'].map(translit_dict)\n",
    "up_2010['educ_fin_eng'].value_counts()"
   ]
  },
  {
   "cell_type": "code",
   "execution_count": 22,
   "id": "73b98a80",
   "metadata": {},
   "outputs": [
    {
     "data": {
      "text/plain": [
       "Index(['original_filename', 'page', 'order', 'district_name', 'sr_no',\n",
       "       'gp_code', 'block_code', 'block_name', 'sr_gp_combo', 'gp_name',\n",
       "       'gp_reservation_status', 'elected_sarpanch_name', 'husband_spouse_name',\n",
       "       'candidate_res_status', 'age', 'sex', 'education', 'address',\n",
       "       'gp_name_temp', 'gp_res_status_temp', 'gp_name_fin',\n",
       "       'gp_res_status_fin', 'gp_res_status_fin_eng',\n",
       "       'candidate_res_status_fin', 'cand_sex_t', 'age_t', 'educ_t2',\n",
       "       'cand_sex_t2', 'age_t2', 'educ_t3', 'cand_sex_t3', 'age_t3', 'educ_t4',\n",
       "       'cand_sex_t4', 'age_t4', 'cand_sex_fin', 'age_fin', 'educ_fin',\n",
       "       'educ_fin_eng'],\n",
       "      dtype='object')"
      ]
     },
     "execution_count": 22,
     "metadata": {},
     "output_type": "execute_result"
    }
   ],
   "source": [
    "up_2010.columns"
   ]
  },
  {
   "cell_type": "code",
   "execution_count": 23,
   "id": "898b5fd0",
   "metadata": {},
   "outputs": [
    {
     "data": {
      "text/plain": [
       "Index(['original_filename', 'page', 'order', 'district_name', 'sr_no',\n",
       "       'gp_code', 'block_code', 'block_name', 'sr_gp_combo', 'gp_name',\n",
       "       'gp_reservation_status', 'elected_sarpanch_name', 'husband_spouse_name',\n",
       "       'candidate_res_status', 'age', 'sex', 'education', 'address',\n",
       "       'gp_name_fin', 'gp_res_status_fin', 'gp_res_status_fin_eng',\n",
       "       'candidate_res_status_fin', 'cand_sex_fin', 'age_fin', 'educ_fin',\n",
       "       'educ_fin_eng'],\n",
       "      dtype='object')"
      ]
     },
     "execution_count": 23,
     "metadata": {},
     "output_type": "execute_result"
    }
   ],
   "source": [
    "up_2010.drop(columns =['gp_name_temp', 'gp_res_status_temp',\n",
    "              'cand_sex_t', 'age_t', \n",
    "              'educ_t2', 'cand_sex_t2', 'age_t2', \n",
    "              'cand_sex_t3', 'age_t3', 'educ_t3',\n",
    "              'cand_sex_t4', 'age_t4', 'educ_t4'], inplace = True)\n",
    "up_2010.columns"
   ]
  },
  {
   "cell_type": "code",
   "execution_count": 24,
   "id": "80f57b0c",
   "metadata": {},
   "outputs": [],
   "source": [
    "up_2010.to_csv(\"../data/up_gp_sarpanch_2010_fixed.csv\", index = False)"
   ]
  }
 ],
 "metadata": {
  "kernelspec": {
   "display_name": "Python 3 (ipykernel)",
   "language": "python",
   "name": "python3"
  },
  "language_info": {
   "codemirror_mode": {
    "name": "ipython",
    "version": 3
   },
   "file_extension": ".py",
   "mimetype": "text/x-python",
   "name": "python",
   "nbconvert_exporter": "python",
   "pygments_lexer": "ipython3",
   "version": "3.9.13"
  }
 },
 "nbformat": 4,
 "nbformat_minor": 5
}
